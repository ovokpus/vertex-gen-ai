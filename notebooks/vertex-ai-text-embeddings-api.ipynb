{
 "cells": [
  {
   "cell_type": "markdown",
   "id": "e431f406-ba26-471d-8e8c-93b03042745a",
   "metadata": {},
   "source": [
    "# The Vertex AI Text-Embeddings API\n",
    "\n",
    "The Vertex AI Text-Embeddings API enhances the process of generating text embeddings. These text embeddings, which are numerical representations of text, play a pivotal role in many tasks involving the identification of similar items, like Google searches, online shopping recommendations, and personalized music suggestions.\n",
    "\n",
    "You can use text embeddings for tasks like classification, outlier detection, text clustering and semantic search. You can combine semantic search with the text generation capabilities of an LLM to build a question-answering systems using Google Cloud’s Vertex AI."
   ]
  },
  {
   "cell_type": "code",
   "execution_count": 19,
   "id": "fa0d7552-9710-4f49-b1d5-f08682750d8e",
   "metadata": {
    "tags": []
   },
   "outputs": [
    {
     "name": "stdout",
     "output_type": "stream",
     "text": [
      "\u001b[33mWARNING: The directory '/home/jupyter/.cache/pip' or its parent directory is not owned or is not writable by the current user. The cache has been disabled. Check the permissions and owner of that directory. If executing pip with sudo, you should use sudo's -H flag.\u001b[0m\u001b[33m\n",
      "\u001b[0mRequirement already satisfied: google-cloud-aiplatform in ./.local/lib/python3.10/site-packages (1.69.0)\n",
      "Requirement already satisfied: google-api-core!=2.0.*,!=2.1.*,!=2.2.*,!=2.3.*,!=2.4.*,!=2.5.*,!=2.6.*,!=2.7.*,<3.0.0dev,>=1.34.1 in ./.local/lib/python3.10/site-packages (from google-api-core[grpc]!=2.0.*,!=2.1.*,!=2.2.*,!=2.3.*,!=2.4.*,!=2.5.*,!=2.6.*,!=2.7.*,<3.0.0dev,>=1.34.1->google-cloud-aiplatform) (2.20.0)\n",
      "Requirement already satisfied: google-auth<3.0.0dev,>=2.14.1 in /opt/conda/lib/python3.10/site-packages (from google-cloud-aiplatform) (2.35.0)\n",
      "Requirement already satisfied: proto-plus<2.0.0dev,>=1.22.3 in /opt/conda/lib/python3.10/site-packages (from google-cloud-aiplatform) (1.24.0)\n",
      "Requirement already satisfied: protobuf!=4.21.0,!=4.21.1,!=4.21.2,!=4.21.3,!=4.21.4,!=4.21.5,<6.0.0dev,>=3.20.2 in /opt/conda/lib/python3.10/site-packages (from google-cloud-aiplatform) (3.20.3)\n",
      "Requirement already satisfied: packaging>=14.3 in /opt/conda/lib/python3.10/site-packages (from google-cloud-aiplatform) (24.1)\n",
      "Requirement already satisfied: google-cloud-storage<3.0.0dev,>=1.32.0 in /opt/conda/lib/python3.10/site-packages (from google-cloud-aiplatform) (2.14.0)\n",
      "Requirement already satisfied: google-cloud-bigquery!=3.20.0,<4.0.0dev,>=1.15.0 in ./.local/lib/python3.10/site-packages (from google-cloud-aiplatform) (3.26.0)\n",
      "Requirement already satisfied: google-cloud-resource-manager<3.0.0dev,>=1.3.3 in /opt/conda/lib/python3.10/site-packages (from google-cloud-aiplatform) (1.12.5)\n",
      "Requirement already satisfied: shapely<3.0.0dev in /opt/conda/lib/python3.10/site-packages (from google-cloud-aiplatform) (2.0.6)\n",
      "Requirement already satisfied: pydantic<3 in /opt/conda/lib/python3.10/site-packages (from google-cloud-aiplatform) (1.10.18)\n",
      "Requirement already satisfied: docstring-parser<1 in /opt/conda/lib/python3.10/site-packages (from google-cloud-aiplatform) (0.16)\n",
      "Requirement already satisfied: googleapis-common-protos<2.0.dev0,>=1.56.2 in /opt/conda/lib/python3.10/site-packages (from google-api-core!=2.0.*,!=2.1.*,!=2.2.*,!=2.3.*,!=2.4.*,!=2.5.*,!=2.6.*,!=2.7.*,<3.0.0dev,>=1.34.1->google-api-core[grpc]!=2.0.*,!=2.1.*,!=2.2.*,!=2.3.*,!=2.4.*,!=2.5.*,!=2.6.*,!=2.7.*,<3.0.0dev,>=1.34.1->google-cloud-aiplatform) (1.65.0)\n",
      "Requirement already satisfied: requests<3.0.0.dev0,>=2.18.0 in /opt/conda/lib/python3.10/site-packages (from google-api-core!=2.0.*,!=2.1.*,!=2.2.*,!=2.3.*,!=2.4.*,!=2.5.*,!=2.6.*,!=2.7.*,<3.0.0dev,>=1.34.1->google-api-core[grpc]!=2.0.*,!=2.1.*,!=2.2.*,!=2.3.*,!=2.4.*,!=2.5.*,!=2.6.*,!=2.7.*,<3.0.0dev,>=1.34.1->google-cloud-aiplatform) (2.32.3)\n",
      "Requirement already satisfied: grpcio<2.0dev,>=1.33.2 in /opt/conda/lib/python3.10/site-packages (from google-api-core[grpc]!=2.0.*,!=2.1.*,!=2.2.*,!=2.3.*,!=2.4.*,!=2.5.*,!=2.6.*,!=2.7.*,<3.0.0dev,>=1.34.1->google-cloud-aiplatform) (1.66.1)\n",
      "Requirement already satisfied: grpcio-status<2.0.dev0,>=1.33.2 in /opt/conda/lib/python3.10/site-packages (from google-api-core[grpc]!=2.0.*,!=2.1.*,!=2.2.*,!=2.3.*,!=2.4.*,!=2.5.*,!=2.6.*,!=2.7.*,<3.0.0dev,>=1.34.1->google-cloud-aiplatform) (1.48.2)\n",
      "Requirement already satisfied: cachetools<6.0,>=2.0.0 in /opt/conda/lib/python3.10/site-packages (from google-auth<3.0.0dev,>=2.14.1->google-cloud-aiplatform) (5.5.0)\n",
      "Requirement already satisfied: pyasn1-modules>=0.2.1 in /opt/conda/lib/python3.10/site-packages (from google-auth<3.0.0dev,>=2.14.1->google-cloud-aiplatform) (0.4.1)\n",
      "Requirement already satisfied: rsa<5,>=3.1.4 in /opt/conda/lib/python3.10/site-packages (from google-auth<3.0.0dev,>=2.14.1->google-cloud-aiplatform) (4.9)\n",
      "Requirement already satisfied: google-cloud-core<3.0.0dev,>=2.4.1 in /opt/conda/lib/python3.10/site-packages (from google-cloud-bigquery!=3.20.0,<4.0.0dev,>=1.15.0->google-cloud-aiplatform) (2.4.1)\n",
      "Requirement already satisfied: google-resumable-media<3.0dev,>=2.0.0 in /opt/conda/lib/python3.10/site-packages (from google-cloud-bigquery!=3.20.0,<4.0.0dev,>=1.15.0->google-cloud-aiplatform) (2.7.2)\n",
      "Requirement already satisfied: python-dateutil<3.0dev,>=2.7.3 in /opt/conda/lib/python3.10/site-packages (from google-cloud-bigquery!=3.20.0,<4.0.0dev,>=1.15.0->google-cloud-aiplatform) (2.9.0.post0)\n",
      "Requirement already satisfied: grpc-google-iam-v1<1.0.0dev,>=0.12.4 in /opt/conda/lib/python3.10/site-packages (from google-cloud-resource-manager<3.0.0dev,>=1.3.3->google-cloud-aiplatform) (0.13.1)\n",
      "Requirement already satisfied: google-crc32c<2.0dev,>=1.0 in /opt/conda/lib/python3.10/site-packages (from google-cloud-storage<3.0.0dev,>=1.32.0->google-cloud-aiplatform) (1.6.0)\n",
      "Requirement already satisfied: typing-extensions>=4.2.0 in /opt/conda/lib/python3.10/site-packages (from pydantic<3->google-cloud-aiplatform) (4.12.2)\n",
      "Requirement already satisfied: numpy<3,>=1.14 in /opt/conda/lib/python3.10/site-packages (from shapely<3.0.0dev->google-cloud-aiplatform) (1.25.2)\n",
      "Requirement already satisfied: pyasn1<0.7.0,>=0.4.6 in /opt/conda/lib/python3.10/site-packages (from pyasn1-modules>=0.2.1->google-auth<3.0.0dev,>=2.14.1->google-cloud-aiplatform) (0.6.1)\n",
      "Requirement already satisfied: six>=1.5 in /opt/conda/lib/python3.10/site-packages (from python-dateutil<3.0dev,>=2.7.3->google-cloud-bigquery!=3.20.0,<4.0.0dev,>=1.15.0->google-cloud-aiplatform) (1.16.0)\n",
      "Requirement already satisfied: charset-normalizer<4,>=2 in /opt/conda/lib/python3.10/site-packages (from requests<3.0.0.dev0,>=2.18.0->google-api-core!=2.0.*,!=2.1.*,!=2.2.*,!=2.3.*,!=2.4.*,!=2.5.*,!=2.6.*,!=2.7.*,<3.0.0dev,>=1.34.1->google-api-core[grpc]!=2.0.*,!=2.1.*,!=2.2.*,!=2.3.*,!=2.4.*,!=2.5.*,!=2.6.*,!=2.7.*,<3.0.0dev,>=1.34.1->google-cloud-aiplatform) (3.3.2)\n",
      "Requirement already satisfied: idna<4,>=2.5 in /opt/conda/lib/python3.10/site-packages (from requests<3.0.0.dev0,>=2.18.0->google-api-core!=2.0.*,!=2.1.*,!=2.2.*,!=2.3.*,!=2.4.*,!=2.5.*,!=2.6.*,!=2.7.*,<3.0.0dev,>=1.34.1->google-api-core[grpc]!=2.0.*,!=2.1.*,!=2.2.*,!=2.3.*,!=2.4.*,!=2.5.*,!=2.6.*,!=2.7.*,<3.0.0dev,>=1.34.1->google-cloud-aiplatform) (3.8)\n",
      "Requirement already satisfied: urllib3<3,>=1.21.1 in /opt/conda/lib/python3.10/site-packages (from requests<3.0.0.dev0,>=2.18.0->google-api-core!=2.0.*,!=2.1.*,!=2.2.*,!=2.3.*,!=2.4.*,!=2.5.*,!=2.6.*,!=2.7.*,<3.0.0dev,>=1.34.1->google-api-core[grpc]!=2.0.*,!=2.1.*,!=2.2.*,!=2.3.*,!=2.4.*,!=2.5.*,!=2.6.*,!=2.7.*,<3.0.0dev,>=1.34.1->google-cloud-aiplatform) (1.26.20)\n",
      "Requirement already satisfied: certifi>=2017.4.17 in /opt/conda/lib/python3.10/site-packages (from requests<3.0.0.dev0,>=2.18.0->google-api-core!=2.0.*,!=2.1.*,!=2.2.*,!=2.3.*,!=2.4.*,!=2.5.*,!=2.6.*,!=2.7.*,<3.0.0dev,>=1.34.1->google-api-core[grpc]!=2.0.*,!=2.1.*,!=2.2.*,!=2.3.*,!=2.4.*,!=2.5.*,!=2.6.*,!=2.7.*,<3.0.0dev,>=1.34.1->google-cloud-aiplatform) (2024.8.30)\n",
      "\u001b[33mWARNING: Running pip as the 'root' user can result in broken permissions and conflicting behaviour with the system package manager, possibly rendering your system unusable.It is recommended to use a virtual environment instead: https://pip.pypa.io/warnings/venv. Use the --root-user-action option if you know what you are doing and want to suppress this warning.\u001b[0m\u001b[33m\n",
      "\u001b[0m"
     ]
    }
   ],
   "source": [
    "!pip install google-cloud-aiplatform"
   ]
  },
  {
   "cell_type": "code",
   "execution_count": 2,
   "id": "044a12ae-d6ba-4534-a91e-b88c7923563e",
   "metadata": {
    "tags": []
   },
   "outputs": [],
   "source": [
    "import vertexai\n",
    "vertexai.init()"
   ]
  },
  {
   "cell_type": "code",
   "execution_count": 3,
   "id": "69fe7b74-73c7-4df9-91f0-ebe02bbc272a",
   "metadata": {
    "tags": []
   },
   "outputs": [],
   "source": [
    "# Import and load the embeddings model.\n",
    "\n",
    "from vertexai.language_models import TextEmbeddingModel\n",
    "embedding_model = TextEmbeddingModel.from_pretrained(\"text-embedding-004\")"
   ]
  },
  {
   "cell_type": "code",
   "execution_count": 4,
   "id": "5ec34483-7f2e-4453-946b-2e59e4afd280",
   "metadata": {
    "tags": []
   },
   "outputs": [],
   "source": [
    "# Generate a word embedding.\n",
    "embedding = embedding_model.get_embeddings(['life'])"
   ]
  },
  {
   "cell_type": "markdown",
   "id": "73aeb9f0-67e9-48e3-ae8a-c5dff0f1f126",
   "metadata": {},
   "source": [
    "This command returns a list with a single text embedding object. That list contains 768 items, in the form of numbers between -1 and 1, called dimensions. These dimensions are used to compare similarity between embeddings.\n",
    "\n",
    "Explore the embedding generated by printing the lenght and the first 10 values."
   ]
  },
  {
   "cell_type": "code",
   "execution_count": 5,
   "id": "c826cd02-3e8b-4c4a-9e23-f147b5ab967d",
   "metadata": {
    "tags": []
   },
   "outputs": [
    {
     "name": "stdout",
     "output_type": "stream",
     "text": [
      "Length = 768\n",
      "[-0.010603697039186954, -0.015785258263349533, -0.010502871125936508, 0.002185781253501773, -0.07148707658052444, 0.04219384118914604, -0.010504273697733879, 0.03097270429134369, 0.03328254073858261, 0.05283762887120247]\n"
     ]
    }
   ],
   "source": [
    "vector = embedding[0].values\n",
    "print(f\"Length = {len(vector)}\")\n",
    "print(vector[:10])"
   ]
  },
  {
   "cell_type": "code",
   "execution_count": 6,
   "id": "b2843c06-f23f-4fd0-82c8-2a5ad0237feb",
   "metadata": {
    "tags": []
   },
   "outputs": [],
   "source": [
    "# Generate a sentence embedding.\n",
    "\n",
    "embedding = embedding_model.get_embeddings(['What is the meaning of life?'])"
   ]
  },
  {
   "cell_type": "code",
   "execution_count": 7,
   "id": "5dc3a396-89d8-4cdd-b593-112cdc099654",
   "metadata": {
    "tags": []
   },
   "outputs": [
    {
     "name": "stdout",
     "output_type": "stream",
     "text": [
      "Length = 768\n",
      "[-0.010626512579619884, 0.019580397754907608, 0.020961495116353035, 0.0007800217717885971, -0.06189257651567459, 0.014572087675333023, -0.0022393004037439823, 0.013389108702540398, 0.014531472697854042, 0.022664014250040054]\n"
     ]
    }
   ],
   "source": [
    "# Print the values for this embedding.\n",
    "\n",
    "vector = embedding[0].values\n",
    "print(f\"Length = {len(vector)}\")\n",
    "print(vector[:10])"
   ]
  },
  {
   "cell_type": "markdown",
   "id": "3ff16bfe-360b-4a5e-bca9-aa7c0103673e",
   "metadata": {},
   "source": [
    "Notice that it also has 768 dimensions and the list or vector, is composed of numbers between -1 and 1.\n",
    "\n",
    "## Calculate the similarity from embeddings\n",
    "\n",
    "To calculate the similarity we will use the sklearn libraries, specifically the cosine_similarity function.\n",
    "\n",
    "Import the cosine_similarity function in the sklearn libraries."
   ]
  },
  {
   "cell_type": "code",
   "execution_count": 9,
   "id": "d1ed00f3-9ac5-4121-a69f-221d03165ce8",
   "metadata": {
    "tags": []
   },
   "outputs": [],
   "source": [
    "from sklearn.metrics.pairwise import cosine_similarity"
   ]
  },
  {
   "cell_type": "code",
   "execution_count": 10,
   "id": "66bbdc95-567b-4a55-bbf7-0b840d7a6104",
   "metadata": {
    "tags": []
   },
   "outputs": [],
   "source": [
    "# Create 3 embeddings for 3 different sentences, so that we can compare them to each other.\n",
    "\n",
    "emb_1 = embedding_model.get_embeddings(['What is the meaning of life?'])\n",
    "emb_2 = embedding_model.get_embeddings(['How does one spend their time well on Earth?'])\n",
    "emb_3 = embedding_model.get_embeddings(['Would you like a salad?'])\n",
    "\n",
    "vec_1 = [emb_1[0].values]\n",
    "vec_2 = [emb_2[0].values]\n",
    "vec_3 = [emb_3[0].values]"
   ]
  },
  {
   "cell_type": "markdown",
   "id": "7a1d5a8f-f3f8-423c-8615-9ab7f0ec4fe0",
   "metadata": {},
   "source": [
    "Note: the reason we wrap the embeddings (a Python list) in another list is because the cosine_similarity function expects either a 2D numpy array or a list of lists.\n",
    "\n",
    "Print the similarity between these vectors."
   ]
  },
  {
   "cell_type": "code",
   "execution_count": 11,
   "id": "0ed988dc-cb9c-4d91-88f5-3434859fde1d",
   "metadata": {
    "tags": []
   },
   "outputs": [
    {
     "name": "stdout",
     "output_type": "stream",
     "text": [
      "[[0.6042384]]\n",
      "[[0.3396287]]\n",
      "[[0.36034201]]\n"
     ]
    }
   ],
   "source": [
    "print(cosine_similarity(vec_1,vec_2)) \n",
    "print(cosine_similarity(vec_2,vec_3))\n",
    "print(cosine_similarity(vec_1,vec_3))"
   ]
  },
  {
   "cell_type": "markdown",
   "id": "98a46db8-c7d0-459d-b545-6177593eb03e",
   "metadata": {},
   "source": [
    "Notice that this numbers are in a very similar range. Cosine similarity can go between 0 and 1. But because we have a very high number of dimensions the numbers are going to be close. However, even if they look close, they are still very far apart from each other relatively speaking.\n",
    "\n",
    "Feel free to try different sentences to see how other sentences might compare.\n",
    "\n",
    "## Visualizing Embedddings\n",
    "In this task, we will create embeddings for several sentences. Then we will reduce the dimensions from 768 to only 2, so that we can visualize the vectors in plot. We will see graphically that similar vectors are represented closer to one another.\n",
    "\n",
    "Set up 7 sentences for our example."
   ]
  },
  {
   "cell_type": "code",
   "execution_count": 12,
   "id": "f6915711-f613-4c63-9e91-75ca84ba8ea5",
   "metadata": {
    "tags": []
   },
   "outputs": [],
   "source": [
    "in_1 = \"Missing flamingo discovered at swimming pool\"\n",
    "in_2 = \"Sea otter spotted on surfboard by beach\"\n",
    "in_3 = \"Baby panda enjoys boat ride\"\n",
    "in_4 = \"Breakfast themed food truck beloved by all!\"\n",
    "in_5 = \"New curry restaurant aims to please!\"\n",
    "in_6 = \"Python developers are wonderful people\"\n",
    "in_7 = \"TypeScript, C++ or Java? All are great!\" \n",
    "\n",
    "input_text_lst_news = [in_1, in_2, in_3, in_4, in_5, in_6, in_7]"
   ]
  },
  {
   "cell_type": "code",
   "execution_count": 13,
   "id": "70b46f78-2e52-416b-841e-e3b1fe5cec91",
   "metadata": {
    "tags": []
   },
   "outputs": [],
   "source": [
    "# Get embeddings for all pieces of text.\n",
    "\n",
    "embeddings = []\n",
    "for input_text in input_text_lst_news:\n",
    "    emb = embedding_model.get_embeddings(\n",
    "        [input_text])[0].values\n",
    "    embeddings.append(emb)"
   ]
  },
  {
   "cell_type": "code",
   "execution_count": 14,
   "id": "3beba142-1c6d-40b2-b964-4ebc6c31fec3",
   "metadata": {
    "tags": []
   },
   "outputs": [
    {
     "name": "stdout",
     "output_type": "stream",
     "text": [
      "Shape: (7, 768)\n",
      "[[ 0.02803496 -0.00299724 -0.01659381 ... -0.01121059 -0.00519713\n",
      "  -0.02044056]\n",
      " [ 0.00485451  0.03049659 -0.01399871 ... -0.01616582 -0.03072107\n",
      "   0.01834136]\n",
      " [ 0.03935665 -0.03734451 -0.06938332 ... -0.02096844 -0.01913369\n",
      "   0.02881981]\n",
      " ...\n",
      " [ 0.00716709 -0.05124414  0.01775808 ...  0.00892509 -0.00407107\n",
      "   0.00254001]\n",
      " [ 0.03583142 -0.05428725  0.00165318 ... -0.01935553  0.04669554\n",
      "   0.02359349]\n",
      " [ 0.05533755 -0.0237293  -0.03609464 ... -0.03040388  0.02278006\n",
      "   0.01252656]]\n"
     ]
    }
   ],
   "source": [
    "# Store them in a 2D NumPy array, with one row for each embedding.\n",
    "\n",
    "import numpy as np\n",
    "embeddings_array = np.array(embeddings) \n",
    "print(\"Shape: \" + str(embeddings_array.shape))\n",
    "print(embeddings_array)"
   ]
  },
  {
   "cell_type": "markdown",
   "id": "b5051746-2157-4a3a-9713-40061072f7c7",
   "metadata": {},
   "source": [
    "The shape is 7 rows of 768 dimensions.\n",
    "\n",
    "Reduce embeddings from 768 to 2 dimensions so that we can visualize them. We'll use principal component analysis (PCA)."
   ]
  },
  {
   "cell_type": "code",
   "execution_count": 15,
   "id": "f6fbdc63-4b43-46d3-89a1-0e0f5f0459ed",
   "metadata": {
    "tags": []
   },
   "outputs": [],
   "source": [
    "from sklearn.decomposition import PCA\n",
    "\n",
    "# Perform PCA for 2D visualization\n",
    "PCA_model = PCA(n_components = 2)\n",
    "PCA_model.fit(embeddings_array)\n",
    "new_values = PCA_model.transform(embeddings_array)"
   ]
  },
  {
   "cell_type": "code",
   "execution_count": 16,
   "id": "e92a0a19-1de7-4742-b7e6-2744bee04941",
   "metadata": {
    "tags": []
   },
   "outputs": [
    {
     "name": "stdout",
     "output_type": "stream",
     "text": [
      "Shape: (7, 2)\n",
      "[[ 0.49533001  0.17530328]\n",
      " [ 0.47394037  0.16537099]\n",
      " [ 0.34864739  0.11626409]\n",
      " [-0.01331229 -0.5433861 ]\n",
      " [-0.22950727 -0.56127286]\n",
      " [-0.4674816   0.36944202]\n",
      " [-0.60761662  0.27827859]]\n"
     ]
    }
   ],
   "source": [
    "# Show the shape of the new array.\n",
    "\n",
    "print(\"Shape: \" + str(new_values.shape))\n",
    "print(new_values)"
   ]
  },
  {
   "cell_type": "markdown",
   "id": "6989beac-4e28-479b-a8de-6a5a65afffec",
   "metadata": {},
   "source": [
    "The shape is now 7 rows of 2 dimensions.\n",
    "\n",
    "Install the visualization libraries. Then visualize the output"
   ]
  },
  {
   "cell_type": "code",
   "execution_count": 17,
   "id": "bb7957bb-a994-4736-9ecd-d27947d2b944",
   "metadata": {
    "tags": []
   },
   "outputs": [
    {
     "name": "stdout",
     "output_type": "stream",
     "text": [
      "WARNING: All log messages before absl::InitializeLog() is called are written to STDERR\n",
      "E0000 00:00:1727995083.955225     394 backup_poller.cc:126] Run client channel backup poller: UNKNOWN:pollset_work {created_time:\"2024-10-03T22:38:03.935406315+00:00\", children:[UNKNOWN:epoll_wait: Bad file descriptor (9) {created_time:\"2024-10-03T22:38:03.935311523+00:00\"}]}\n",
      "\u001b[33mWARNING: The directory '/home/jupyter/.cache/pip' or its parent directory is not owned or is not writable by the current user. The cache has been disabled. Check the permissions and owner of that directory. If executing pip with sudo, you should use sudo's -H flag.\u001b[0m\u001b[33m\n",
      "\u001b[0mCollecting ipympl\n",
      "  Downloading ipympl-0.9.4-py3-none-any.whl.metadata (8.7 kB)\n",
      "Collecting plot-utils\n",
      "  Downloading plot_utils-0.6.14-py2.py3-none-any.whl.metadata (18 kB)\n",
      "Requirement already satisfied: matplotlib in /opt/conda/lib/python3.10/site-packages (3.7.3)\n",
      "Requirement already satisfied: seaborn in /opt/conda/lib/python3.10/site-packages (0.12.2)\n",
      "Requirement already satisfied: ipython-genutils in /opt/conda/lib/python3.10/site-packages (from ipympl) (0.2.0)\n",
      "Requirement already satisfied: ipython<9 in /opt/conda/lib/python3.10/site-packages (from ipympl) (8.21.0)\n",
      "Requirement already satisfied: ipywidgets<9,>=7.6.0 in /opt/conda/lib/python3.10/site-packages (from ipympl) (8.1.5)\n",
      "Requirement already satisfied: numpy in /opt/conda/lib/python3.10/site-packages (from ipympl) (1.25.2)\n",
      "Requirement already satisfied: pillow in /opt/conda/lib/python3.10/site-packages (from ipympl) (10.4.0)\n",
      "Requirement already satisfied: traitlets<6 in /opt/conda/lib/python3.10/site-packages (from ipympl) (5.14.3)\n",
      "Requirement already satisfied: scipy>=0.19.0 in /opt/conda/lib/python3.10/site-packages (from plot-utils) (1.11.4)\n",
      "Requirement already satisfied: pandas>=0.17.1 in /opt/conda/lib/python3.10/site-packages (from plot-utils) (2.0.3)\n",
      "Requirement already satisfied: cycler>=0.10.0 in /opt/conda/lib/python3.10/site-packages (from plot-utils) (0.12.1)\n",
      "Requirement already satisfied: contourpy>=1.0.1 in /opt/conda/lib/python3.10/site-packages (from matplotlib) (1.3.0)\n",
      "Requirement already satisfied: fonttools>=4.22.0 in /opt/conda/lib/python3.10/site-packages (from matplotlib) (4.53.1)\n",
      "Requirement already satisfied: kiwisolver>=1.0.1 in /opt/conda/lib/python3.10/site-packages (from matplotlib) (1.4.7)\n",
      "Requirement already satisfied: packaging>=20.0 in /opt/conda/lib/python3.10/site-packages (from matplotlib) (24.1)\n",
      "Requirement already satisfied: pyparsing>=2.3.1 in /opt/conda/lib/python3.10/site-packages (from matplotlib) (3.1.4)\n",
      "Requirement already satisfied: python-dateutil>=2.7 in /opt/conda/lib/python3.10/site-packages (from matplotlib) (2.9.0.post0)\n",
      "Requirement already satisfied: decorator in /opt/conda/lib/python3.10/site-packages (from ipython<9->ipympl) (5.1.1)\n",
      "Requirement already satisfied: jedi>=0.16 in /opt/conda/lib/python3.10/site-packages (from ipython<9->ipympl) (0.19.1)\n",
      "Requirement already satisfied: matplotlib-inline in /opt/conda/lib/python3.10/site-packages (from ipython<9->ipympl) (0.1.7)\n",
      "Requirement already satisfied: prompt-toolkit<3.1.0,>=3.0.41 in /opt/conda/lib/python3.10/site-packages (from ipython<9->ipympl) (3.0.47)\n",
      "Requirement already satisfied: pygments>=2.4.0 in /opt/conda/lib/python3.10/site-packages (from ipython<9->ipympl) (2.18.0)\n",
      "Requirement already satisfied: stack-data in /opt/conda/lib/python3.10/site-packages (from ipython<9->ipympl) (0.6.3)\n",
      "Requirement already satisfied: exceptiongroup in /opt/conda/lib/python3.10/site-packages (from ipython<9->ipympl) (1.2.2)\n",
      "Requirement already satisfied: pexpect>4.3 in /opt/conda/lib/python3.10/site-packages (from ipython<9->ipympl) (4.9.0)\n",
      "Requirement already satisfied: comm>=0.1.3 in /opt/conda/lib/python3.10/site-packages (from ipywidgets<9,>=7.6.0->ipympl) (0.2.2)\n",
      "Requirement already satisfied: widgetsnbextension~=4.0.12 in /opt/conda/lib/python3.10/site-packages (from ipywidgets<9,>=7.6.0->ipympl) (4.0.13)\n",
      "Requirement already satisfied: jupyterlab-widgets~=3.0.12 in /opt/conda/lib/python3.10/site-packages (from ipywidgets<9,>=7.6.0->ipympl) (3.0.13)\n",
      "Requirement already satisfied: pytz>=2020.1 in /opt/conda/lib/python3.10/site-packages (from pandas>=0.17.1->plot-utils) (2024.2)\n",
      "Requirement already satisfied: tzdata>=2022.1 in /opt/conda/lib/python3.10/site-packages (from pandas>=0.17.1->plot-utils) (2024.1)\n",
      "Requirement already satisfied: six>=1.5 in /opt/conda/lib/python3.10/site-packages (from python-dateutil>=2.7->matplotlib) (1.16.0)\n",
      "Requirement already satisfied: parso<0.9.0,>=0.8.3 in /opt/conda/lib/python3.10/site-packages (from jedi>=0.16->ipython<9->ipympl) (0.8.4)\n",
      "Requirement already satisfied: ptyprocess>=0.5 in /opt/conda/lib/python3.10/site-packages (from pexpect>4.3->ipython<9->ipympl) (0.7.0)\n",
      "Requirement already satisfied: wcwidth in /opt/conda/lib/python3.10/site-packages (from prompt-toolkit<3.1.0,>=3.0.41->ipython<9->ipympl) (0.2.13)\n",
      "Requirement already satisfied: executing>=1.2.0 in /opt/conda/lib/python3.10/site-packages (from stack-data->ipython<9->ipympl) (2.1.0)\n",
      "Requirement already satisfied: asttokens>=2.1.0 in /opt/conda/lib/python3.10/site-packages (from stack-data->ipython<9->ipympl) (2.4.1)\n",
      "Requirement already satisfied: pure-eval in /opt/conda/lib/python3.10/site-packages (from stack-data->ipython<9->ipympl) (0.2.3)\n",
      "Downloading ipympl-0.9.4-py3-none-any.whl (516 kB)\n",
      "Downloading plot_utils-0.6.14-py2.py3-none-any.whl (13.3 MB)\n",
      "\u001b[2K   \u001b[90m━━━━━━━━━━━━━━━━━━━━━━━━━━━━━━━━━━━━━━━━\u001b[0m \u001b[32m13.3/13.3 MB\u001b[0m \u001b[31m191.4 MB/s\u001b[0m eta \u001b[36m0:00:00\u001b[0m\n",
      "\u001b[?25hInstalling collected packages: plot-utils, ipympl\n",
      "Successfully installed ipympl-0.9.4 plot-utils-0.6.14\n",
      "\u001b[33mWARNING: Running pip as the 'root' user can result in broken permissions and conflicting behaviour with the system package manager, possibly rendering your system unusable.It is recommended to use a virtual environment instead: https://pip.pypa.io/warnings/venv. Use the --root-user-action option if you know what you are doing and want to suppress this warning.\u001b[0m\u001b[33m\n",
      "\u001b[0m"
     ]
    }
   ],
   "source": [
    "!pip install ipympl plot-utils matplotlib seaborn"
   ]
  },
  {
   "cell_type": "code",
   "execution_count": 18,
   "id": "bd00ea06-a8a3-4095-865d-497a95e0f5f3",
   "metadata": {
    "tags": []
   },
   "outputs": [
    {
     "data": {
      "text/plain": [
       "<seaborn.axisgrid.FacetGrid at 0x7f4beb693040>"
      ]
     },
     "execution_count": 18,
     "metadata": {},
     "output_type": "execute_result"
    },
    {
     "data": {
      "image/png": "[encoded data removed]",
      "text/plain": [
       "<Figure size 874.875x500 with 1 Axes>"
      ]
     },
     "metadata": {},
     "output_type": "display_data"
    }
   ],
   "source": [
    "import seaborn as sns\n",
    "import pandas as pd\n",
    "\n",
    "data = pd.DataFrame({ 'x':new_values[:,0], 'y':new_values[:,1], 'sentences': input_text_lst_news})\n",
    "\n",
    "# Create a visualization\n",
    "sns.relplot(\n",
    "    data,\n",
    "    x='x',\n",
    "    y='y',\n",
    "    kind='scatter',\n",
    "    hue='sentences'\n",
    ")"
   ]
  },
  {
   "cell_type": "markdown",
   "id": "cccd25f7-abc2-48a1-a30d-54af0ae5186e",
   "metadata": {},
   "source": [
    "Notice that similar sentences are plotted closer to each other. For instance the sentences about Python developers and programming languages are both plotted to the bottom right of the graph."
   ]
  },
  {
   "cell_type": "code",
   "execution_count": null,
   "id": "41ef219a-49ec-47dd-954b-75ae2d92f951",
   "metadata": {},
   "outputs": [],
   "source": []
  }
 ],
 "metadata": {
  "environment": {
   "kernel": "python3",
   "name": ".m125",
   "type": "gcloud",
   "uri": "us-docker.pkg.dev/deeplearning-platform-release/gcr.io/:m125"
  },
  "kernelspec": {
   "display_name": "Python 3 (ipykernel)",
   "language": "python",
   "name": "python3"
  },
  "language_info": {
   "codemirror_mode": {
    "name": "ipython",
    "version": 3
   },
   "file_extension": ".py",
   "mimetype": "text/x-python",
   "name": "python",
   "nbconvert_exporter": "python",
   "pygments_lexer": "ipython3",
   "version": "3.9.6"
  }
 },
 "nbformat": 4,
 "nbformat_minor": 5
}
