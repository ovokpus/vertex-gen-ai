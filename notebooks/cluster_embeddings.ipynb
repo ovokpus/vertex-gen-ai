{
 "cells": [
  {
   "cell_type": "markdown",
   "metadata": {
    "id": "om0L7SpIkezD"
   },
   "source": [
    "# Use Embeddings to Cluster Products Based on Descriptions\n",
    "\n",
    "In this lab, you're going to generate the embeddings of a list of product descriptions.\n",
    "\n",
    "Embeddings represent the use of language in a numerical space, so you can use distance measurements between these embeddings to calculate similarity between them."
   ]
  },
  {
   "cell_type": "markdown",
   "metadata": {
    "id": "XcKYLauBqxKT",
    "tags": []
   },
   "source": [
    "## Setup\n",
    "To access Google Cloud's embedding models, you need to set up the client to access Vertex AI. Start by installing one of the latest versions of the Python client library.\n",
    "\n",
    "All of the imports will be done up front to keep the notebook tidy."
   ]
  },
  {
   "cell_type": "markdown",
   "metadata": {
    "id": "8Yj86jOepszm"
   },
   "source": [
    "\n",
    "### Installs\n",
    "Make sure we have a new enough version of the Vertex AI Python client library to use a text embedding model."
   ]
  },
  {
   "cell_type": "code",
   "execution_count": 1,
   "metadata": {
    "id": "rahbv6G3A5u9",
    "tags": []
   },
   "outputs": [],
   "source": [
    "!pip3 install --quiet \"google-cloud-aiplatform>=1.40\""
   ]
  },
  {
   "cell_type": "markdown",
   "metadata": {
    "id": "ZCszeRTl8z7r"
   },
   "source": [
    "After the install, we need to restart the kernel to use the new library version."
   ]
  },
  {
   "cell_type": "code",
   "execution_count": 2,
   "metadata": {
    "id": "MD7jc0Oi8z7r",
    "tags": []
   },
   "outputs": [
    {
     "data": {
      "text/plain": [
       "{'status': 'ok', 'restart': True}"
      ]
     },
     "execution_count": 2,
     "metadata": {},
     "output_type": "execute_result"
    }
   ],
   "source": [
    "import IPython\n",
    "\n",
    "app = IPython.Application.instance()\n",
    "app.kernel.do_shutdown(True)"
   ]
  },
  {
   "cell_type": "markdown",
   "metadata": {
    "id": "IoiMMtRdlj-p"
   },
   "source": [
    "### Imports\n",
    "Import all of the modules needed for the notebook.\n",
    "\n",
    "Most modules in the Python client library belong to the package `google.cloud`, but Vertex AI is an exception.\n",
    "\n"
   ]
  },
  {
   "cell_type": "code",
   "execution_count": 1,
   "metadata": {
    "id": "TK8osmKGB90I",
    "tags": []
   },
   "outputs": [],
   "source": [
    "import vertexai\n",
    "from vertexai.language_models import TextEmbeddingModel\n",
    "\n",
    "from sklearn.cluster import KMeans\n",
    "\n",
    "import google.auth\n",
    "from google.cloud import storage\n",
    "from google.cloud import aiplatform\n",
    "\n",
    "import math\n",
    "import numpy as np\n",
    "import pandas as pd\n",
    "\n",
    "from tqdm.auto import tqdm\n",
    "\n",
    "from typing import Generator, List, Optional, Tuple\n",
    "import functools\n",
    "import time\n",
    "from concurrent.futures import ThreadPoolExecutor\n",
    "\n",
    "import pickle\n",
    "from urllib.request import urlopen\n",
    "\n",
    "from collections import Counter"
   ]
  },
  {
   "cell_type": "markdown",
   "metadata": {
    "id": "F0kIBlZamszU"
   },
   "source": [
    "### User Authentication\n",
    "If you are using Colab, uncomment this cell and run it to authenticate as your user for Google Cloud.\n",
    "\n",
    "Shortcut: Select the cell contents and press `Ctrl/Cmd + /`."
   ]
  },
  {
   "cell_type": "code",
   "execution_count": 2,
   "metadata": {
    "id": "z0pHFht6Dyz9",
    "tags": []
   },
   "outputs": [],
   "source": [
    "# from google.colab import auth\n",
    "# auth.authenticate_user()"
   ]
  },
  {
   "cell_type": "markdown",
   "metadata": {
    "id": "1nPKRJx2n2V0"
   },
   "source": [
    "Run the cell below to retrieve the credentials for intializing access to Vertex AI."
   ]
  },
  {
   "cell_type": "code",
   "execution_count": 3,
   "metadata": {
    "id": "4IJy1q43moMm",
    "tags": []
   },
   "outputs": [],
   "source": [
    "credentials, _ = google.auth.default()"
   ]
  },
  {
   "cell_type": "markdown",
   "metadata": {
    "id": "UpV7k9eJnB3g"
   },
   "source": [
    "### Client setup\n",
    "\n",
    "Configure your project ID in `MY_PROJECT`.\n",
    "\n",
    "If you want to use a specific Vertex AI location, set it as `VERTEX_LOCATION`. We'll default to us-central1."
   ]
  },
  {
   "cell_type": "code",
   "execution_count": 5,
   "metadata": {
    "id": "uZvSlFSMpbWs",
    "tags": []
   },
   "outputs": [],
   "source": [
    "MY_PROJECT = 'qwiklabs-gcp-04-192b6fce6166'\n",
    "VERTEX_LOCATION = 'us-central1'"
   ]
  },
  {
   "cell_type": "code",
   "execution_count": 6,
   "metadata": {
    "id": "20jsc9ZlBLUb",
    "tags": []
   },
   "outputs": [],
   "source": [
    "vertexai.init(\n",
    "    project=MY_PROJECT,\n",
    "    location=VERTEX_LOCATION,\n",
    "    #credentials set above\n",
    "    credentials=credentials\n",
    ")"
   ]
  },
  {
   "cell_type": "markdown",
   "metadata": {
    "id": "WVceXVB5rx9I"
   },
   "source": [
    "## Data\n",
    "The product description data we are using was gathered for the paper\n",
    "\n",
    "**Justifying recommendations using distantly-labeled reviews and fined-grained aspects**\\\n",
    "Jianmo Ni, Jiacheng Li, Julian McAuley\\\n",
    "_Empirical Methods in Natural Language Processing (EMNLP)_, 2019\\\n",
    "[pdf](http://cseweb.ucsd.edu/~jmcauley/pdfs/emnlp19a.pdf)\n",
    "\n",
    "This [dataset](https://cseweb.ucsd.edu/~jmcauley/datasets/amazon_v2/index.html) includes many additional fields that you're not going to use, including reviews from users. To keep this lab more focused, the data has already been parsed and cleaned. We've taken a sample of 2,000 products each across 5 categories, for a total of 10,000 products. The clustering model you'll train will be used to attempt to rediscover those categories!\n",
    "\n",
    "The cleaned data only includes the name of the item and the description. This is formatted into a CSV file, which is hosted on Cloud Storage.\n",
    "\n",
    "The five original categories are as follows:\n",
    "* all beauty\n",
    "* appliances\n",
    "* musical instruments\n",
    "* pantry\n",
    "* software"
   ]
  },
  {
   "cell_type": "code",
   "execution_count": 7,
   "metadata": {
    "id": "CL2wsxJjR9pA",
    "tags": []
   },
   "outputs": [],
   "source": [
    "URL = 'https://storage.googleapis.com/cloud-training/specialized-training/model_garden/products.csv.gz'\n",
    "products_df = pd.read_csv(URL)"
   ]
  },
  {
   "cell_type": "markdown",
   "metadata": {
    "id": "VoRsQQ7hFu_b"
   },
   "source": [
    "You can preview the data in the following cell. Verify that there are indeed 10,000 rows of data consisting of two columns: name and description."
   ]
  },
  {
   "cell_type": "code",
   "execution_count": 8,
   "metadata": {
    "id": "Y3pvqtTWVi-j",
    "tags": []
   },
   "outputs": [
    {
     "data": {
      "text/html": [
       "<div>\n",
       "<style scoped>\n",
       "    .dataframe tbody tr th:only-of-type {\n",
       "        vertical-align: middle;\n",
       "    }\n",
       "\n",
       "    .dataframe tbody tr th {\n",
       "        vertical-align: top;\n",
       "    }\n",
       "\n",
       "    .dataframe thead th {\n",
       "        text-align: right;\n",
       "    }\n",
       "</style>\n",
       "<table border=\"1\" class=\"dataframe\">\n",
       "  <thead>\n",
       "    <tr style=\"text-align: right;\">\n",
       "      <th></th>\n",
       "      <th>name</th>\n",
       "      <th>description</th>\n",
       "    </tr>\n",
       "  </thead>\n",
       "  <tbody>\n",
       "    <tr>\n",
       "      <th>0</th>\n",
       "      <td>NAILTEK CITRA Formula 3 Protection for Dry, Br...</td>\n",
       "      <td>NAILTEK CITRA Formula #3 Protection for Dry, B...</td>\n",
       "    </tr>\n",
       "    <tr>\n",
       "      <th>1</th>\n",
       "      <td>Wildberry Incense Sticks: Vanilla</td>\n",
       "      <td>Vanilla incense is smooth, creamy and delectable.</td>\n",
       "    </tr>\n",
       "    <tr>\n",
       "      <th>2</th>\n",
       "      <td>Wonder Pro Professional Red Rubber Sponge #010...</td>\n",
       "      <td>Wonder Pro Professional Red Sponges-2 pack</td>\n",
       "    </tr>\n",
       "    <tr>\n",
       "      <th>3</th>\n",
       "      <td>Ronson 2.75 oz(78 Gram) Butane Multi-Fill/12 Pk.</td>\n",
       "      <td>Fills up to 20 disposable lighters per bottle.</td>\n",
       "    </tr>\n",
       "    <tr>\n",
       "      <th>4</th>\n",
       "      <td>NUKSIT 10% Sulfur Ointment - Large tub 4oz, Po...</td>\n",
       "      <td>This 4 oz size is an excellent value. Swiss fo...</td>\n",
       "    </tr>\n",
       "    <tr>\n",
       "      <th>...</th>\n",
       "      <td>...</td>\n",
       "      <td>...</td>\n",
       "    </tr>\n",
       "    <tr>\n",
       "      <th>9995</th>\n",
       "      <td>Mayo Clinic Family Health 3.0 (PC CD Jewel Case)</td>\n",
       "      <td>Mayo Clinic one of the most trusted names in m...</td>\n",
       "    </tr>\n",
       "    <tr>\n",
       "      <th>9996</th>\n",
       "      <td>SecurErase 8: Permanently Erase Your Hard Drive</td>\n",
       "      <td>SecurErase overwrites the data that sits unuse...</td>\n",
       "    </tr>\n",
       "    <tr>\n",
       "      <th>9997</th>\n",
       "      <td>Finale 2008-2009 Tutorial DVD</td>\n",
       "      <td>156 videos with a running time of over 8.5 hou...</td>\n",
       "    </tr>\n",
       "    <tr>\n",
       "      <th>9998</th>\n",
       "      <td>Putt-Putt Joins the Circus - PC/Mac</td>\n",
       "      <td>Step Right Up!  Discover the Circus with Putt-...</td>\n",
       "    </tr>\n",
       "    <tr>\n",
       "      <th>9999</th>\n",
       "      <td>KidSpeak: Spanish French German Italian Japane...</td>\n",
       "      <td>the most fun, most effective way for kids to l...</td>\n",
       "    </tr>\n",
       "  </tbody>\n",
       "</table>\n",
       "<p>10000 rows × 2 columns</p>\n",
       "</div>"
      ],
      "text/plain": [
       "                                                   name  \\\n",
       "0     NAILTEK CITRA Formula 3 Protection for Dry, Br...   \n",
       "1                     Wildberry Incense Sticks: Vanilla   \n",
       "2     Wonder Pro Professional Red Rubber Sponge #010...   \n",
       "3      Ronson 2.75 oz(78 Gram) Butane Multi-Fill/12 Pk.   \n",
       "4     NUKSIT 10% Sulfur Ointment - Large tub 4oz, Po...   \n",
       "...                                                 ...   \n",
       "9995   Mayo Clinic Family Health 3.0 (PC CD Jewel Case)   \n",
       "9996    SecurErase 8: Permanently Erase Your Hard Drive   \n",
       "9997                      Finale 2008-2009 Tutorial DVD   \n",
       "9998                Putt-Putt Joins the Circus - PC/Mac   \n",
       "9999  KidSpeak: Spanish French German Italian Japane...   \n",
       "\n",
       "                                            description  \n",
       "0     NAILTEK CITRA Formula #3 Protection for Dry, B...  \n",
       "1     Vanilla incense is smooth, creamy and delectable.  \n",
       "2            Wonder Pro Professional Red Sponges-2 pack  \n",
       "3        Fills up to 20 disposable lighters per bottle.  \n",
       "4     This 4 oz size is an excellent value. Swiss fo...  \n",
       "...                                                 ...  \n",
       "9995  Mayo Clinic one of the most trusted names in m...  \n",
       "9996  SecurErase overwrites the data that sits unuse...  \n",
       "9997  156 videos with a running time of over 8.5 hou...  \n",
       "9998  Step Right Up!  Discover the Circus with Putt-...  \n",
       "9999  the most fun, most effective way for kids to l...  \n",
       "\n",
       "[10000 rows x 2 columns]"
      ]
     },
     "execution_count": 8,
     "metadata": {},
     "output_type": "execute_result"
    }
   ],
   "source": [
    "products_df"
   ]
  },
  {
   "cell_type": "code",
   "execution_count": 9,
   "metadata": {
    "id": "citgca62VrG3",
    "tags": []
   },
   "outputs": [
    {
     "data": {
      "text/plain": [
       "10000"
      ]
     },
     "execution_count": 9,
     "metadata": {},
     "output_type": "execute_result"
    }
   ],
   "source": [
    "len(products_df)"
   ]
  },
  {
   "cell_type": "markdown",
   "metadata": {
    "id": "8fij3WI3p0dJ"
   },
   "source": [
    "## Embeddings Model\n"
   ]
  },
  {
   "cell_type": "markdown",
   "metadata": {
    "id": "YhdpjoJfGKzb"
   },
   "source": [
    "With the product information loaded, you can now get the embeddings for the description. Start by loading the model. Check the model card in Model Garden for how to get started, or view the API documentation.\n",
    "\n",
    "[Embeddings for Text model card in Model Garden](https://console.cloud.google.com/vertex-ai/publishers/google/model-garden/textembedding-gecko)\n",
    "\n",
    "[TexEmbeddingModel API](https://cloud.google.com/python/docs/reference/aiplatform/latest/vertexai.language_models.TextEmbeddingModel)\n",
    "\n",
    "[TextEmbeddingModel code](https://github.com/googleapis/python-aiplatform/blob/bbffb0d5bfe0509399c801d849311a6201caa633/vertexai/language_models/_language_models.py#L2105)"
   ]
  },
  {
   "cell_type": "code",
   "execution_count": 10,
   "metadata": {
    "id": "3ftbeq7vBRhC",
    "tags": []
   },
   "outputs": [],
   "source": [
    "model = TextEmbeddingModel.from_pretrained(\"text-embedding-004\")"
   ]
  },
  {
   "cell_type": "markdown",
   "metadata": {
    "id": "HYENqbBkHW1E"
   },
   "source": [
    "Confirm that we are using the model from Model Garden that we expect, which is the TextEmbeddingModel."
   ]
  },
  {
   "cell_type": "code",
   "execution_count": 11,
   "metadata": {
    "id": "RGJv1qTbEqyR",
    "tags": []
   },
   "outputs": [
    {
     "data": {
      "text/plain": [
       "vertexai.language_models.TextEmbeddingModel"
      ]
     },
     "execution_count": 11,
     "metadata": {},
     "output_type": "execute_result"
    }
   ],
   "source": [
    "type(model)"
   ]
  },
  {
   "cell_type": "markdown",
   "metadata": {
    "id": "P3hKDOiEGjeh"
   },
   "source": [
    "Let's try calling the model with a couple example sentences, just to see the basic process. We'll print the first 15 dimensions of each vector to see what the result looks like."
   ]
  },
  {
   "cell_type": "code",
   "execution_count": 12,
   "metadata": {
    "id": "bgt4XOgzDOmC",
    "tags": []
   },
   "outputs": [
    {
     "name": "stdout",
     "output_type": "stream",
     "text": [
      "[0.044721949845552444, -0.04241640120744705, 0.05587426573038101, -0.029217351227998734, 0.02876843884587288, -0.01948491856455803, 0.008314436301589012, 0.016210688278079033, 0.014452790841460228, 0.02895222045481205, -0.002439456759020686, 0.002695783507078886, 0.046391382813453674, -0.08300202339887619, -0.03702150285243988]\n",
      "\n",
      "-----\n",
      "\n",
      "[0.002556765917688608, -0.07282502949237823, 0.016707293689250946, 0.0009703844552859664, 0.03553098440170288, -0.03356371074914932, -0.00041769977542571723, -0.003981488291174173, 0.00450397003442049, 0.05094684287905693, 0.01801416277885437, -0.0369516983628273, 0.04498067870736122, -0.04002223536372185, -0.042615052312612534]\n",
      "\n",
      "-----\n",
      "\n"
     ]
    }
   ],
   "source": [
    "embeddings = model.get_embeddings([\"Dinner in New York City\", \"Dinner in Paris\"])\n",
    "for embedding in embeddings:\n",
    "    vector = embedding.values\n",
    "    print(vector[:15])\n",
    "    print('\\n-----\\n')"
   ]
  },
  {
   "cell_type": "code",
   "execution_count": 13,
   "metadata": {
    "id": "ppUMX7zYG7ml",
    "tags": []
   },
   "outputs": [
    {
     "name": "stdout",
     "output_type": "stream",
     "text": [
      "Response type: <class 'list'>\n",
      "Each response type: <class 'vertexai.language_models.TextEmbedding'>\n"
     ]
    }
   ],
   "source": [
    "print(f'Response type: {type(embeddings)}')\n",
    "print(f'Each response type: {type(embeddings[0])}')"
   ]
  },
  {
   "cell_type": "markdown",
   "metadata": {
    "id": "hh6TJ-iVGz0Y"
   },
   "source": [
    "The Python client puts the responses from the model into a list in order of the requested sentences."
   ]
  },
  {
   "cell_type": "code",
   "execution_count": 14,
   "metadata": {
    "id": "Zpm1RlMLHLqe",
    "tags": []
   },
   "outputs": [
    {
     "data": {
      "text/plain": [
       "2"
      ]
     },
     "execution_count": 14,
     "metadata": {},
     "output_type": "execute_result"
    }
   ],
   "source": [
    "len(embeddings)"
   ]
  },
  {
   "cell_type": "markdown",
   "metadata": {
    "id": "mgjOu2ieb7wz"
   },
   "source": [
    "The TextEmbeddings are a set of floating point values representing the 768 dimensions used by Vertex AI text embedding models for understanding the meaning of text. Later, we'll convert these lists of floats to numpy ndarrays for easier use."
   ]
  },
  {
   "cell_type": "code",
   "execution_count": 15,
   "metadata": {
    "id": "0_aH-3daHg2p",
    "tags": []
   },
   "outputs": [
    {
     "name": "stdout",
     "output_type": "stream",
     "text": [
      "Values: 768\n",
      "Value type: <class 'float'>\n"
     ]
    }
   ],
   "source": [
    "print(f'Values: {len(embeddings[0].values)}')\n",
    "print(f'Value type: {type(embeddings[0].values[0])}')"
   ]
  },
  {
   "cell_type": "markdown",
   "metadata": {
    "id": "7wL_f1-nH5Si"
   },
   "source": [
    "According to the [documentation](https://cloud.google.com/vertex-ai/docs/generative-ai/embeddings/get-text-embeddings#get_text_embeddings_for_a_snippet_of_text), the API has a limit of 5 input texts (product descriptions in our case) per API call. With a batch size of 5 and 10,000 product descriptions to embed, we'll need to make 2,000 calls to the API. It's time to turn the basic example into a function for more utility."
   ]
  },
  {
   "cell_type": "markdown",
   "metadata": {
    "id": "71syMMrEXLu-"
   },
   "source": [
    "#### Function to call the model\n",
    "This function does what our basic example does, which is call the `get_embeddings` method to convert our text. It adds very basic error handling, which should be expanded for production use."
   ]
  },
  {
   "cell_type": "code",
   "execution_count": 16,
   "metadata": {
    "id": "980yTXSPXCT2",
    "tags": []
   },
   "outputs": [],
   "source": [
    "# Define an embedding method that uses the model\n",
    "def encode_texts_to_embeddings(sentences: List[str]) -> List[Optional[List[float]]]:\n",
    "    try:\n",
    "        embeddings = model.get_embeddings(sentences)\n",
    "        return [embedding.values for embedding in embeddings]\n",
    "    except Exception:\n",
    "        return [None for _ in range(len(sentences))]"
   ]
  },
  {
   "cell_type": "markdown",
   "metadata": {
    "id": "Ya9y9rXPKK5P"
   },
   "source": [
    "#### Define two more helper functions for converting text to embeddings\n",
    "\n",
    "- generate_batches:  This method splits `sentences` into batches of 5 before sending to the embedding API.\n",
    "- encode_text_to_embedding_batched: This method calls `generate_batches` to handle batching and then calls the embedding API via `encode_texts_to_embeddings`. It also handles rate-limiting using `time.sleep`. For production use cases, you would want a more sophisticated rate-limiting mechanism that takes retries into account."
   ]
  },
  {
   "cell_type": "code",
   "execution_count": 17,
   "metadata": {
    "id": "QfO_IE3cKOWn",
    "tags": []
   },
   "outputs": [],
   "source": [
    "# Generator function to yield batches of descriptions\n",
    "def generate_batches(\n",
    "    descriptions: List[str], batch_size: int\n",
    ") -> Generator[List[str], None, None]:\n",
    "    for i in range(0, len(descriptions), batch_size):\n",
    "        yield descriptions[i : i + batch_size]\n",
    "\n",
    "\n",
    "def encode_text_to_embedding_batched(\n",
    "    descriptions: List[str], api_calls_per_minute: int = 20, batch_size: int = 5\n",
    ") -> Tuple[List[bool], np.ndarray]:\n",
    "\n",
    "    embeddings_list: List[List[float]] = []\n",
    "\n",
    "    # Prepare the batches using a generator\n",
    "    batches = generate_batches(descriptions, batch_size)\n",
    "\n",
    "    seconds_per_job = 60 / api_calls_per_minute\n",
    "\n",
    "    with ThreadPoolExecutor() as executor:\n",
    "        futures = []\n",
    "        for batch in tqdm(\n",
    "            batches, total=math.ceil(len(descriptions) / batch_size), position=0\n",
    "        ):\n",
    "            futures.append(\n",
    "                executor.submit(functools.partial(encode_texts_to_embeddings), batch)\n",
    "            )\n",
    "            time.sleep(seconds_per_job)\n",
    "\n",
    "        for future in futures:\n",
    "            embeddings_list.extend(future.result())\n",
    "\n",
    "    is_successful = [\n",
    "        embedding is not None for sentence, embedding in zip(descriptions, embeddings_list)\n",
    "    ]\n",
    "    embeddings_list_successful = np.squeeze(\n",
    "        np.stack([embedding for embedding in embeddings_list if embedding is not None])\n",
    "    )\n",
    "    return is_successful, embeddings_list_successful"
   ]
  },
  {
   "cell_type": "markdown",
   "metadata": {
    "id": "SpbR-pIxd0jw"
   },
   "source": [
    "#### Generate Embeddings"
   ]
  },
  {
   "cell_type": "markdown",
   "metadata": {
    "id": "lkV9gat23jmc"
   },
   "source": [
    "To generate the embeddings, we will call the batch helper function. However, the Qwiklabs environment has a low rate quota, so this process will take a long time to complete. Luckily, an important principle of the embeddings is that they won't substantially change no matter when you do the conversion! We can compute the embeddings once, store them, then load them whenever we need them again.\n",
    "\n",
    "The below cell is the code for generating the embeddings. It is commented out since you won't be using it, but it does show you the process for your own use later! Make sure to change the `api_calls_per_minute` parameter based on [your own quota rate limit!](https://console.cloud.google.com/iam-admin/quotas?referrer=search&pageState=(%22allQuotasTable%22:(%22f%22:%22%255B%257B_22k_22_3A_22_22_2C_22t_22_3A10_2C_22v_22_3A_22_5C_22base_model_3Atextembedding-gecko_5C_22_22_2C_22s_22_3Atrue%257D%255D%22)))"
   ]
  },
  {
   "cell_type": "code",
   "execution_count": 18,
   "metadata": {
    "id": "XK_qEE1bWlxS",
    "tags": []
   },
   "outputs": [],
   "source": [
    "# descriptions = products_df['description'].values.tolist()\n",
    "# response = encode_text_to_embedding_batched(descriptions, api_calls_per_minute=20)"
   ]
  },
  {
   "cell_type": "markdown",
   "metadata": {
    "id": "263Foe2v43bx"
   },
   "source": [
    "The full response is hosted on Cloud Storage so we can import it and pick up right where the previous cell would have left us."
   ]
  },
  {
   "cell_type": "code",
   "execution_count": 19,
   "metadata": {
    "tags": []
   },
   "outputs": [
    {
     "name": "stdout",
     "output_type": "stream",
     "text": [
      "Copying gs://partner-genai-bucket/genai042/embeddings-response.pkl...\n",
      "- [1 files][ 58.6 MiB/ 58.6 MiB]                                                \n",
      "Operation completed over 1 objects/58.6 MiB.                                     \n"
     ]
    }
   ],
   "source": [
    "!gsutil cp -r gs://partner-genai-bucket/genai042/embeddings-response.pkl ."
   ]
  },
  {
   "cell_type": "code",
   "execution_count": 20,
   "metadata": {
    "id": "e2Kl3jbI7Zuq",
    "tags": []
   },
   "outputs": [],
   "source": [
    "file_path = 'embeddings-response.pkl'\n",
    "\n",
    "# Open the file in binary mode and load the data\n",
    "with open(file_path, 'rb') as file:\n",
    "    response = pickle.load(file)"
   ]
  },
  {
   "cell_type": "markdown",
   "metadata": {
    "id": "jMwOxSgiXsYz"
   },
   "source": [
    "The `response` created by the `encode_text_to_embeddings_batched` function is a Tuple of (List[bool], ndarray)\n",
    "\n",
    "The first tuple item represents whether the API call was successful or not. There should be an equal number of responses to the size of the original product description list (10,000). These should all be True to indicate we have embeddings for every description."
   ]
  },
  {
   "cell_type": "code",
   "execution_count": 21,
   "metadata": {
    "id": "JG3pK5F9Xmm_",
    "tags": []
   },
   "outputs": [
    {
     "name": "stdout",
     "output_type": "stream",
     "text": [
      "Item 0\n",
      "\ttype: <class 'list'>\n",
      "\tvalues: 10000\n",
      "All embeddings requests completed successfully: True\n"
     ]
    }
   ],
   "source": [
    "print('Item 0')\n",
    "print(f'\\ttype: {type(response[0])}')\n",
    "print(f'\\tvalues: {len(response[0])}')\n",
    "# Test to make sure all responses are True.\n",
    "print(f'All embeddings requests completed successfully: {all(response[0])}')"
   ]
  },
  {
   "cell_type": "markdown",
   "metadata": {
    "id": "4pSBtah4Bh4R"
   },
   "source": [
    "The second tuple item is a numpy ndarray of the 768-dimension embedding vectors provided by the model for each product description."
   ]
  },
  {
   "cell_type": "code",
   "execution_count": 22,
   "metadata": {
    "id": "0C60kW2N-2ft",
    "tags": []
   },
   "outputs": [
    {
     "name": "stdout",
     "output_type": "stream",
     "text": [
      "Item 1\n",
      "\ttype: <class 'numpy.ndarray'>\n",
      "\tshape: (10000, 768)\n",
      "\tvector data type: float64\n"
     ]
    }
   ],
   "source": [
    "print('Item 1')\n",
    "print(f'\\ttype: {type(response[1])}')\n",
    "print(f'\\tshape: {response[1].shape}')\n",
    "print(f'\\tvector data type: {response[1].dtype}')"
   ]
  },
  {
   "cell_type": "markdown",
   "metadata": {
    "id": "1Uxkd_JGEXgt"
   },
   "source": [
    "Even though the giant string of floating point numbers doesn't mean anything to us as humans, it's still interesting to see."
   ]
  },
  {
   "cell_type": "code",
   "execution_count": 23,
   "metadata": {
    "id": "SYZ5l-w6DXxz",
    "tags": []
   },
   "outputs": [
    {
     "name": "stdout",
     "output_type": "stream",
     "text": [
      "Original text: \n",
      "NAILTEK CITRA Formula #3 Protection for Dry, Brittle Nails .47oz  Conditions brittle dry nails, replenishes the natural moisture of the nails and provides the hydration necessary to resist stress and enhance survivability.\n",
      "Embedding vector:\n",
      "[ 1.68416835e-03  2.64479499e-02  3.66069041e-02 -5.85494712e-02\n",
      " -4.18350846e-02 -2.53428388e-02 -2.47018486e-02 -3.58675458e-02\n",
      "  5.83306560e-03 -3.72460415e-03  5.53904437e-02  5.05214296e-02\n",
      "  2.63037439e-02  3.30709517e-02 -9.58084688e-03 -1.33588593e-02\n",
      "  8.42376333e-03  4.07868475e-02 -1.50383309e-01  5.11450805e-02\n",
      "  3.67602259e-02  3.07591213e-03  5.02366163e-02  4.37612422e-02\n",
      " -3.92399468e-02  2.02372279e-02  6.84936577e-03 -4.06099629e-04\n",
      " -3.27024385e-02 -7.20532686e-02  1.49083668e-02  2.95301061e-02\n",
      " -7.84689374e-03 -1.34938024e-02  8.97528306e-02  1.72084793e-02\n",
      " -1.23068672e-02  7.31257023e-03 -4.16205972e-02 -5.06948344e-02\n",
      " -3.90185323e-03 -6.15222305e-02 -1.38300401e-03 -1.54975476e-02\n",
      " -2.87686139e-02  6.25725687e-02 -5.52744940e-02 -9.39035974e-03\n",
      " -5.21286726e-02 -2.44055931e-02  9.72182397e-03  3.58370990e-02\n",
      " -5.68783209e-02  2.22943798e-02 -2.36085635e-02  3.83513351e-03\n",
      " -7.17490241e-02 -1.22781284e-02  3.45117343e-03 -2.56589800e-02\n",
      "  1.22975130e-02 -4.92676068e-03  7.23962876e-05 -5.43992501e-03\n",
      " -4.58470620e-02 -7.84533098e-04  1.09554846e-02 -2.67258435e-02\n",
      "  2.74129249e-02 -5.24038309e-03  1.42304692e-02 -1.71627402e-02\n",
      " -2.17069406e-02 -6.23685643e-02  6.85763583e-02 -5.22944108e-02\n",
      " -1.05319293e-02  2.27805842e-02  1.25042081e-01  7.89874867e-02\n",
      "  3.03551946e-02  1.45784598e-02  7.77265728e-02  7.49552622e-02\n",
      "  1.10385222e-02 -3.99852023e-02  3.81044596e-02 -1.03206813e-01\n",
      " -4.28731218e-02 -3.79697345e-02  7.52869099e-02  2.89105196e-02\n",
      " -4.57545480e-04 -1.33320289e-02 -1.31377261e-02  3.44140418e-02\n",
      " -3.86064239e-02 -9.16829258e-02  3.89331020e-02 -4.60054586e-03\n",
      " -9.01047979e-03 -1.08909199e-03 -3.54210958e-02 -3.86053137e-02\n",
      " -1.29768550e-02 -2.13840250e-02 -1.60446018e-02  1.28583275e-02\n",
      " -2.41509806e-02  4.69419807e-02  8.43367819e-03 -6.25542179e-02\n",
      "  2.14948915e-02 -2.18453053e-02 -3.25497650e-02  2.09180787e-02\n",
      "  6.60872646e-03 -1.35442801e-02 -6.09460101e-02 -3.74973342e-02\n",
      " -2.51002423e-02  2.22491529e-02  4.50622104e-02  3.01526603e-03\n",
      "  5.65944649e-02  9.54586919e-03 -3.67156379e-02 -4.64187115e-02\n",
      "  1.43779097e-02 -9.82981641e-03 -5.58149591e-02 -5.74215166e-02\n",
      " -1.91475541e-04  3.90457883e-02  3.15359645e-02  5.89192985e-03\n",
      "  2.54814723e-03 -8.94496031e-03  4.29250039e-02 -2.06202660e-02\n",
      "  3.18269506e-02 -5.39500453e-02  1.35937566e-02  8.02888647e-02\n",
      "  2.83224657e-02  6.44142914e-04  4.49875277e-03  4.45686020e-02\n",
      "  1.68314446e-02 -2.97742896e-02  6.96038753e-02 -2.40328778e-02\n",
      "  3.60388868e-02 -1.80155989e-02  3.55159789e-02  4.05699387e-03\n",
      "  2.52957009e-02 -7.29421619e-03  1.13312562e-03 -4.43025259e-03\n",
      "  5.24752252e-02  6.82013575e-03 -2.50534397e-02  4.77147987e-04\n",
      " -2.04403307e-02 -1.26769161e-02 -1.13332428e-01 -4.73305807e-02\n",
      "  1.99933928e-02 -4.86840941e-02 -6.73756152e-02 -4.80896123e-02\n",
      " -2.96360329e-02 -3.94132882e-02 -5.74381948e-02  2.92756800e-02\n",
      "  7.29433149e-02 -5.10143340e-02  5.43713272e-02 -4.27501556e-03\n",
      "  2.92596384e-03  4.51840423e-02 -3.33160758e-02 -7.29471073e-02\n",
      "  1.67616326e-02 -6.21960424e-02 -5.59478998e-02  3.11011039e-02\n",
      "  3.40193473e-02  4.73398343e-02  2.52960362e-02 -6.06869254e-03\n",
      " -7.57348258e-03  6.71579018e-02  1.27285784e-02 -2.77733454e-03\n",
      "  2.94461045e-02  4.34027612e-02 -1.27330422e-02 -2.13871766e-02\n",
      "  1.99527536e-02  4.95158252e-04  4.96092113e-03  9.81494598e-03\n",
      "  8.60015675e-03 -5.36785796e-02 -6.72358871e-02  4.33589611e-03\n",
      " -1.97907407e-02 -6.58076704e-02  2.91734226e-02  2.65616905e-02\n",
      " -7.67513970e-03 -1.59618445e-02 -5.99591946e-03 -1.16780177e-02\n",
      "  3.85250822e-02  2.71288250e-02  1.96663421e-02  3.40325013e-02\n",
      "  6.53691515e-02  4.46228758e-02 -4.94966209e-02  1.66575760e-02\n",
      " -4.31094021e-02  4.75979298e-02 -2.73562185e-02 -2.04388723e-02\n",
      "  2.53317947e-03 -1.89455170e-02  2.01474801e-02  8.25733617e-02\n",
      "  3.14963679e-03 -1.28695946e-02 -4.58771456e-03  6.08535893e-02\n",
      "  1.94517951e-02 -3.53336446e-02  4.25118580e-02  3.77774499e-02\n",
      "  2.84867249e-02  4.06880789e-02  6.94470778e-02  1.22056026e-02\n",
      " -2.95762699e-02  3.84959243e-02  1.56558231e-02 -1.29375271e-02\n",
      "  4.94012749e-03 -1.57858320e-02 -2.17553508e-02  1.99380354e-03\n",
      "  5.70310205e-02  4.09484878e-02  1.09063505e-04 -3.04416311e-03\n",
      "  5.15082069e-02 -4.54514213e-02 -9.49162897e-03 -7.89221283e-03\n",
      "  5.16783856e-02 -4.63466495e-02  5.09043708e-02 -8.78352895e-02\n",
      "  1.64320730e-02 -3.07372548e-02 -4.09685783e-02  2.55076811e-02\n",
      " -2.30631884e-02  2.07332559e-02  4.92129475e-02  8.88426322e-03\n",
      " -1.41487354e-02  1.34568354e-02  4.52132849e-03 -2.51660999e-02\n",
      "  5.60043985e-03  4.11752872e-02  9.40749701e-03  1.23709729e-02\n",
      "  4.58568074e-02 -4.18816656e-02  2.36560851e-02 -3.84521037e-02\n",
      "  1.99986771e-02 -5.23754582e-02 -9.62127186e-03  6.02883138e-02\n",
      "  2.95581948e-02 -2.99634822e-02 -5.30809676e-03 -2.57276632e-02\n",
      " -1.03487503e-02 -5.49447127e-02 -2.46427637e-02 -2.11032629e-02\n",
      "  1.50342993e-02  3.08081005e-02 -5.24091460e-02  1.58508876e-04\n",
      " -2.45805122e-02 -3.18211094e-02 -4.87863049e-02  2.29293965e-02\n",
      " -6.77141696e-02 -4.23293933e-02  3.45915630e-02  1.29407574e-03\n",
      " -4.42279801e-02 -4.52530384e-03 -2.50854213e-02 -5.58895664e-03\n",
      " -1.46439178e-02 -5.51004447e-02 -7.78781995e-03 -3.78959663e-02\n",
      " -1.13174155e-01 -5.78224063e-02 -4.03522365e-02  2.83409972e-02\n",
      " -3.44118103e-02  3.49463150e-02 -3.64373215e-02 -1.38231451e-02\n",
      "  2.72980314e-02 -1.75526962e-02  5.91845578e-03 -3.14827338e-02\n",
      " -1.09392479e-02 -3.54610570e-02  1.38608227e-02  1.88895799e-02\n",
      "  1.42502999e-02 -3.26523706e-02 -4.70444374e-02  4.56657186e-02\n",
      " -3.62680033e-02 -8.34137201e-03  5.03069460e-02  1.37213925e-02\n",
      " -2.40045805e-02 -5.01660118e-03  9.68222320e-03  2.14520954e-02\n",
      " -2.45320499e-02 -6.06400818e-02  1.02827046e-02 -6.26489222e-02\n",
      "  2.13767886e-02  1.75837316e-02  2.26950441e-02  4.85850312e-02\n",
      " -2.95892581e-02 -1.86319668e-02 -2.56804768e-02 -2.04617586e-02\n",
      "  3.88873480e-02 -5.74026722e-03  3.02927401e-02  3.32993008e-02\n",
      " -1.98513456e-02 -2.87564397e-02  1.47033529e-02  2.77902894e-02\n",
      "  3.75562795e-02  4.91412990e-02 -9.13398899e-03  4.47928272e-02\n",
      "  2.46742480e-02 -4.61955033e-02 -1.52249737e-02 -1.26652196e-02\n",
      "  3.12158894e-02 -1.78020354e-02 -2.07617204e-03 -6.18644338e-03\n",
      " -1.03413500e-01  1.33576365e-02 -1.09458873e-02  5.34161739e-02\n",
      "  1.29369749e-02 -3.30486172e-03 -4.23594378e-02  3.95464012e-03\n",
      " -3.33007909e-02  1.00764111e-01 -2.24469416e-02 -1.48020335e-03\n",
      " -3.38959396e-02 -1.84934847e-02 -1.12254536e-02  4.61131297e-02\n",
      "  4.15951498e-02  1.53262317e-02 -7.08331540e-03  6.78189620e-02\n",
      "  9.95736755e-03  6.40266761e-02 -3.27185057e-02 -2.74602678e-02\n",
      "  5.47612272e-03 -6.27529854e-03  8.29702429e-03 -7.75913568e-03\n",
      "  3.46034691e-02 -3.98801714e-02 -2.10722350e-02 -4.42141108e-02\n",
      "  3.53392474e-02  1.86880324e-02 -9.90983751e-03 -8.36507138e-03\n",
      "  5.85578568e-03  6.33606464e-02  1.56917237e-02  1.31422430e-02\n",
      " -2.39594951e-02 -3.34544405e-02 -3.11479927e-03  2.15031047e-04\n",
      "  1.77608263e-02  1.78259853e-02 -3.94359976e-02  4.67948355e-02\n",
      " -1.08500263e-02 -6.67723566e-02 -2.51968727e-02 -8.03873222e-03\n",
      " -3.41241132e-03  1.46911934e-03  6.93361741e-03  4.69418727e-02\n",
      " -3.21760364e-02 -2.55679470e-02  6.73988238e-02  4.57217619e-02\n",
      " -4.89578769e-02 -6.36021346e-02 -1.97739191e-02  1.98779795e-02\n",
      " -7.63694616e-03  1.99941788e-02  7.03285960e-03 -1.62018202e-02\n",
      " -2.02002879e-02  4.20376845e-02  5.94115406e-02  6.87248260e-02\n",
      "  2.19150800e-02 -3.96774560e-02  3.11765820e-02  1.32795870e-02\n",
      "  6.85590208e-02 -3.40945162e-02 -1.64166111e-02  2.11073980e-02\n",
      "  3.20701040e-02  5.80883212e-02 -5.83901852e-02  2.77087893e-02\n",
      " -1.34595251e-02  1.03051253e-02  9.10467505e-02  2.02026982e-02\n",
      " -9.21237376e-03 -5.46531491e-02  2.06110962e-02  1.21667311e-02\n",
      " -4.57611540e-03 -3.90534848e-02 -5.45376097e-04  6.32492751e-02\n",
      " -5.11449724e-02  2.64255553e-02 -5.69527000e-02  2.62170210e-02\n",
      "  1.07301427e-02  2.89965495e-02  1.56200724e-02 -1.57918669e-02\n",
      " -2.01070569e-02  1.93426218e-02  1.33338608e-02  1.15448795e-02\n",
      "  8.35897848e-02 -1.59331504e-02 -7.50820711e-03  1.78266354e-02\n",
      "  5.79686696e-03 -4.94365804e-02 -3.68482992e-02  3.99452969e-02\n",
      "  1.05085569e-02 -4.71500084e-02 -1.33085875e-02  1.35254124e-02\n",
      "  2.50653438e-02 -7.30823958e-03 -8.47283378e-03  8.29849392e-02\n",
      "  5.60259633e-03  1.75604094e-02 -6.68408861e-03  5.79787977e-03\n",
      " -1.78854913e-02  2.58670859e-02 -4.05635349e-02  3.59959640e-02\n",
      "  1.42905004e-02 -6.83038030e-03 -3.82041857e-02 -2.01910492e-02\n",
      " -1.04886862e-02  1.25061786e-02  5.62736690e-02 -1.13790696e-02\n",
      "  2.09665927e-03  3.69331203e-02  3.90864983e-02  4.59586717e-02\n",
      " -6.06627204e-03  2.75251251e-02  1.33493757e-02  3.56452120e-03\n",
      "  8.89385305e-03  8.41439329e-03 -4.40822635e-03  6.00153431e-02\n",
      "  5.15608639e-02  4.37581018e-02 -2.73190476e-02 -5.10616489e-02\n",
      "  5.18190451e-02  3.42364572e-02 -2.07361709e-02  2.75997631e-02\n",
      " -1.98864541e-03 -5.30670285e-02 -3.92908379e-02  3.31940874e-02\n",
      "  2.68552303e-02 -4.32808585e-02  1.47301229e-02  1.59559131e-04\n",
      "  5.21710962e-02 -1.43498406e-02 -8.41290690e-04  7.76042556e-03\n",
      "  2.14892365e-02 -1.28452629e-02 -7.08290040e-02 -2.22692620e-02\n",
      " -2.43722033e-02 -2.06215940e-02  1.02767488e-02 -9.78439767e-03\n",
      "  3.82816382e-02 -4.72611142e-03 -2.06442364e-03 -3.03055532e-02\n",
      "  1.30460961e-02 -5.57856858e-02  4.60964777e-02 -5.53247333e-02\n",
      "  5.85989375e-03 -2.25551389e-02 -3.47698703e-02  1.02396999e-02\n",
      "  2.51511857e-02 -1.25040747e-02  4.16069292e-02 -6.56242482e-04\n",
      "  6.25333190e-02  5.55183180e-02  3.86716835e-02  4.55908012e-03\n",
      " -1.25298789e-03 -1.33494362e-02  3.89550105e-02  7.24892691e-03\n",
      " -4.41103652e-02  1.94850881e-02  3.22327018e-02  2.05976772e-03\n",
      " -3.79246962e-03 -1.42787062e-02 -2.76368055e-02  7.34426919e-03\n",
      " -3.57801653e-02  1.66589301e-03  7.79565144e-03  8.18836316e-03\n",
      " -7.65105709e-03 -4.62076850e-02 -3.28966696e-03  1.36042871e-02\n",
      " -1.98621005e-02  2.61019543e-02  2.55940016e-02 -1.32343527e-02\n",
      " -2.66717952e-02  9.67266504e-03  5.38638281e-03 -1.91133209e-02\n",
      " -4.40710001e-02 -3.98373343e-02 -4.08043861e-02 -6.71620294e-02\n",
      " -1.89548545e-02 -6.57693818e-02 -2.50690747e-02  4.37020808e-02\n",
      " -8.37604236e-03 -9.77986492e-03 -4.02341820e-02 -2.83492077e-02\n",
      " -6.54561967e-02  1.87754817e-02 -2.01943866e-03  2.20609270e-02\n",
      " -3.87890227e-02 -3.90994735e-02 -1.45485867e-02  3.29266564e-04\n",
      " -9.44550857e-02  1.12726251e-02  4.43910658e-02 -8.99723638e-03\n",
      " -3.97969931e-02  2.46803798e-02 -8.36583041e-03  2.15509813e-03\n",
      "  4.88609150e-02  4.62764874e-03 -2.45032348e-02  1.13758761e-02\n",
      "  5.35243899e-02  1.59285124e-02  3.62609117e-03  1.68241654e-02\n",
      " -3.29481158e-03  5.63509986e-02  1.52483387e-02 -5.03434725e-02\n",
      " -2.31491756e-02 -1.49125262e-04  3.42032090e-02 -3.05327699e-02\n",
      " -4.34925184e-02  1.06902104e-02 -3.40883085e-03  4.09715064e-03\n",
      " -3.55351418e-02 -1.48207778e-02 -3.68505321e-03 -9.99030471e-03\n",
      " -3.64488401e-02  3.33443731e-02 -3.02684121e-02 -5.76409139e-02\n",
      "  8.07960518e-03  1.14843305e-02 -2.68147830e-02  1.09502627e-02\n",
      " -1.41030727e-02  1.48454318e-02 -5.33111617e-02  8.06029979e-03\n",
      "  5.90024097e-03 -1.85570437e-02 -1.37063004e-02  3.79626565e-02\n",
      "  4.65187058e-02 -2.94303373e-02 -7.62104169e-02  2.02462822e-02\n",
      "  4.89806850e-03 -2.35803053e-02 -1.41567150e-02  2.17755418e-03\n",
      " -1.54989250e-02  4.96211182e-03  1.16685126e-02 -2.62227245e-02\n",
      "  1.19320108e-02  4.86967042e-02  6.45906702e-02 -3.04575078e-02\n",
      " -7.18162954e-03  2.62515321e-02 -5.04166074e-02 -3.50420512e-02\n",
      " -1.47705059e-02  2.07552053e-02 -5.16008697e-02  6.26111180e-02\n",
      " -3.92132327e-02  4.03107777e-02  1.26965176e-02 -6.71747001e-03\n",
      "  1.89627968e-02 -7.60374367e-02 -8.10948983e-02 -5.88404946e-02\n",
      "  3.96095179e-02  2.05730554e-03  7.84880482e-03  3.93570364e-02\n",
      " -3.61532345e-02 -9.00756288e-03 -2.53084768e-02 -2.82987393e-02\n",
      "  9.44219530e-04  1.71706080e-02  1.05452891e-02 -9.91561823e-03\n",
      " -9.18057933e-03  6.06921986e-02  4.24282961e-02 -5.40569387e-02\n",
      "  5.71650974e-02 -6.35105669e-02  3.64306383e-02  1.90806910e-02\n",
      "  5.16569801e-02  2.30102427e-03 -2.18406152e-02 -2.67859064e-02\n",
      " -7.69959167e-02  3.16075645e-02  3.01624928e-02 -2.16036849e-02\n",
      "  4.58808709e-03  1.40303997e-02  1.39280753e-02  5.19931428e-02\n",
      " -6.03881963e-02 -1.03054019e-02 -1.10446634e-02  2.33600810e-02\n",
      "  2.62387970e-04 -3.12274769e-02 -5.74990660e-02  2.16570608e-02\n",
      " -3.01044919e-02  6.41572475e-02 -4.71746456e-03 -1.06019909e-02\n",
      "  8.76304321e-03 -4.47337329e-02 -9.55971405e-02  4.63419557e-02\n",
      " -3.23701017e-02  6.15611412e-02  3.14098038e-02 -5.89465909e-03\n",
      "  1.66061241e-02  4.56335284e-02  1.30136516e-02  4.84514944e-02\n",
      " -6.49691373e-02  4.32087108e-02 -2.85767615e-02  1.45847825e-02\n",
      " -7.28124678e-02  9.87055173e-05 -2.86151674e-02  2.12066830e-03]\n"
     ]
    }
   ],
   "source": [
    "print(f'Original text: \\n{products_df[\"description\"][0]}\\nEmbedding vector:')\n",
    "print(response[1][0])"
   ]
  },
  {
   "cell_type": "markdown",
   "metadata": {
    "id": "kbhzVEaBDYR2"
   },
   "source": [
    "## Clustering Model\n",
    "With the embeddings computed, you can use those to create categories representing similar products. Notice that the dataset you loaded is not labeled for which category each product belongs to. However, those product categories do exist the source data.\n",
    "\n",
    "You'll use a K-Means model to find similarities in the embedding vectors. Using scikit-learn, the [KMeans model](https://scikit-learn.org/stable/modules/generated/sklearn.cluster.KMeans.html) directly accepts an ndarray, which our embedding vectors are formatted as thanks to the helper functions!\n",
    "\n",
    "As mentioned, the sample data came from 5 product categories, so we're going to have the model learn 5 clusters. With the small dataset we're using, training the clustering model will take almost no time."
   ]
  },
  {
   "cell_type": "code",
   "execution_count": 24,
   "metadata": {
    "id": "xCKth5J5aKr7",
    "tags": []
   },
   "outputs": [],
   "source": [
    "embeddings = response[1]\n",
    "kmeans = KMeans(n_clusters=5, n_init=\"auto\").fit(embeddings)"
   ]
  },
  {
   "cell_type": "markdown",
   "metadata": {
    "id": "vlP8i8DCf1q7"
   },
   "source": [
    "Fitting the model also provides us with the predictions for the values used to train the model in the `labels_` property."
   ]
  },
  {
   "cell_type": "code",
   "execution_count": 25,
   "metadata": {
    "id": "LSJtpHokeqtS",
    "tags": []
   },
   "outputs": [
    {
     "data": {
      "text/plain": [
       "10000"
      ]
     },
     "execution_count": 25,
     "metadata": {},
     "output_type": "execute_result"
    }
   ],
   "source": [
    "len(kmeans.labels_)"
   ]
  },
  {
   "cell_type": "markdown",
   "metadata": {
    "id": "UinH9O6lgisw"
   },
   "source": [
    "We can sanity check that by calling the `predict` function directly, which is also how you'd cluster future products now that we've trained the model!"
   ]
  },
  {
   "cell_type": "code",
   "execution_count": 26,
   "metadata": {
    "id": "p0qyf686gRtb",
    "tags": []
   },
   "outputs": [],
   "source": [
    "predictions = kmeans.predict(embeddings)"
   ]
  },
  {
   "cell_type": "code",
   "execution_count": 27,
   "metadata": {
    "id": "aA-o8YrNfm9A",
    "tags": []
   },
   "outputs": [
    {
     "data": {
      "text/plain": [
       "array([3, 3, 3, 3, 3, 3, 3, 3, 3, 3, 3, 3, 3, 3, 3, 3, 3, 3, 3, 3],\n",
       "      dtype=int32)"
      ]
     },
     "execution_count": 27,
     "metadata": {},
     "output_type": "execute_result"
    }
   ],
   "source": [
    "kmeans.labels_[:20]"
   ]
  },
  {
   "cell_type": "code",
   "execution_count": 28,
   "metadata": {
    "id": "RN02b-jUgWNP",
    "tags": []
   },
   "outputs": [
    {
     "data": {
      "text/plain": [
       "array([3, 3, 3, 3, 3, 3, 3, 3, 3, 3, 3, 3, 3, 3, 3, 3, 3, 3, 3, 3],\n",
       "      dtype=int32)"
      ]
     },
     "execution_count": 28,
     "metadata": {},
     "output_type": "execute_result"
    }
   ],
   "source": [
    "predictions[:20]"
   ]
  },
  {
   "cell_type": "markdown",
   "metadata": {
    "id": "oDo_U_JVoBK6"
   },
   "source": [
    "#### Evaluate the clusters\n",
    "Let's attach the predicted clusters to the original data and see some example products from each cluster to see how well the model performed.\n",
    "\n",
    "As a reminder, the data has 2,000 products from each of 5 categories."
   ]
  },
  {
   "cell_type": "code",
   "execution_count": 29,
   "metadata": {
    "id": "35Je8UUExUDl",
    "tags": []
   },
   "outputs": [],
   "source": [
    "products_df['category'] = predictions"
   ]
  },
  {
   "cell_type": "code",
   "execution_count": 30,
   "metadata": {
    "id": "_6N0PT3hxguQ",
    "tags": []
   },
   "outputs": [
    {
     "data": {
      "text/plain": [
       "category\n",
       "0    1590\n",
       "1    1877\n",
       "2    2119\n",
       "3    2453\n",
       "4    1961\n",
       "Name: name, dtype: int64"
      ]
     },
     "execution_count": 30,
     "metadata": {},
     "output_type": "execute_result"
    }
   ],
   "source": [
    "products_df.groupby('category').count()['name']"
   ]
  },
  {
   "cell_type": "markdown",
   "metadata": {
    "id": "QjuXrMVFF2Oy"
   },
   "source": [
    "We can see that the model did not entirely accurately recreate the categories as there are not exactly 2,000 in each cluster. However, the performance isn't terrible for having spent about one second training.\n",
    "\n",
    "What you should also know about the input data is that it was sorted by category. Each block of 2,000 rows is one product category. Let's see how well the model predicts each of the different categories."
   ]
  },
  {
   "cell_type": "code",
   "execution_count": 31,
   "metadata": {
    "id": "96gptzVUHguq",
    "tags": []
   },
   "outputs": [
    {
     "name": "stdout",
     "output_type": "stream",
     "text": [
      "Counter({3: 1803, 2: 89, 0: 82, 1: 16, 4: 10})\n",
      "Counter({1: 1849, 2: 82, 3: 60, 0: 6, 4: 3})\n",
      "Counter({2: 1896, 3: 69, 4: 29, 1: 5, 0: 1})\n",
      "Counter({0: 1499, 3: 482, 2: 11, 4: 7, 1: 1})\n",
      "Counter({4: 1912, 2: 41, 3: 39, 1: 6, 0: 2})\n"
     ]
    }
   ],
   "source": [
    "# Create named slices for easier reference\n",
    "beauty = slice(2000)\n",
    "appliance = slice(2000,4000)\n",
    "instrument = slice(4000,6000)\n",
    "pantry = slice(6000,8000)\n",
    "software = slice(8000,10000)\n",
    "\n",
    "beauty_cnts = Counter(predictions[beauty])\n",
    "appliance_cnts = Counter(predictions[appliance])\n",
    "instrument_cnts = Counter(predictions[instrument])\n",
    "pantry_cnts = Counter(predictions[pantry])\n",
    "software_cnts = Counter(predictions[software])\n",
    "\n",
    "product_pred_cnts = [beauty_cnts, appliance_cnts, instrument_cnts, pantry_cnts, software_cnts]\n",
    "for product_cnt in product_pred_cnts:\n",
    "    print(product_cnt)"
   ]
  },
  {
   "cell_type": "markdown",
   "metadata": {
    "id": "YuiAA6jEDyPa"
   },
   "source": [
    "With the set of predictions and the counts per category, we can now label the clusters based on the highest number of predictions. With many clustering tasks, we won't have a source of ground truth like in this example, so figuring out names for your clusters will be up to you. You'll do additional analysis of the features of the objects that are predicted to be in the same cluster by your model."
   ]
  },
  {
   "cell_type": "code",
   "execution_count": 32,
   "metadata": {
    "id": "TRW36uWOOmCY",
    "tags": []
   },
   "outputs": [
    {
     "name": "stdout",
     "output_type": "stream",
     "text": [
      "{0: 'all_beauty', 1: 'appliance', 2: 'instrument', 3: 'pantry', 4: 'software'}\n",
      "{3: 'all_beauty', 1: 'appliance', 2: 'instrument', 0: 'pantry', 4: 'software'}\n"
     ]
    }
   ],
   "source": [
    "def most_likely_cluster(counted_dict):\n",
    "    return max(counted_dict, key=counted_dict.get)\n",
    "\n",
    "product_category_list = ['all_beauty', 'appliance', 'instrument', 'pantry', 'software']\n",
    "\n",
    "product_clusters = []\n",
    "for product in product_pred_cnts:\n",
    "    product_clusters.append(most_likely_cluster(product))\n",
    "\n",
    "keys = [0, 1, 2, 3, 4] # simple list of index values as the products are inserted\n",
    "row_names = dict(zip(keys, product_category_list))\n",
    "cluster_map = dict(zip(product_clusters, product_category_list))\n",
    "print(row_names) # ascending alpha order\n",
    "print(cluster_map) # predictions"
   ]
  },
  {
   "cell_type": "markdown",
   "metadata": {
    "id": "jkrWATrAMA4o"
   },
   "source": [
    "Add all of that information to a new DataFrame for easier visualization. The prediction counts get added in as raw information, then we'll update row and column names to match the product categories."
   ]
  },
  {
   "cell_type": "code",
   "execution_count": 33,
   "metadata": {
    "id": "dfsvsDKBH_gJ",
    "tags": []
   },
   "outputs": [],
   "source": [
    "correctness_df = pd.DataFrame.from_dict(product_pred_cnts)\n",
    "correctness_df.rename(index=row_names, inplace=True)\n",
    "correctness_df.rename(columns=cluster_map, inplace=True)\n",
    "correctness_df.sort_index(axis=0, inplace=True)\n",
    "correctness_df.sort_index(axis=1, inplace=True)"
   ]
  },
  {
   "cell_type": "code",
   "execution_count": 34,
   "metadata": {
    "id": "bCsHdgwiJC-C",
    "tags": []
   },
   "outputs": [
    {
     "data": {
      "text/html": [
       "<div>\n",
       "<style scoped>\n",
       "    .dataframe tbody tr th:only-of-type {\n",
       "        vertical-align: middle;\n",
       "    }\n",
       "\n",
       "    .dataframe tbody tr th {\n",
       "        vertical-align: top;\n",
       "    }\n",
       "\n",
       "    .dataframe thead th {\n",
       "        text-align: right;\n",
       "    }\n",
       "</style>\n",
       "<table border=\"1\" class=\"dataframe\">\n",
       "  <thead>\n",
       "    <tr style=\"text-align: right;\">\n",
       "      <th></th>\n",
       "      <th>all_beauty</th>\n",
       "      <th>appliance</th>\n",
       "      <th>instrument</th>\n",
       "      <th>pantry</th>\n",
       "      <th>software</th>\n",
       "    </tr>\n",
       "  </thead>\n",
       "  <tbody>\n",
       "    <tr>\n",
       "      <th>all_beauty</th>\n",
       "      <td>1803</td>\n",
       "      <td>16</td>\n",
       "      <td>89</td>\n",
       "      <td>82</td>\n",
       "      <td>10</td>\n",
       "    </tr>\n",
       "    <tr>\n",
       "      <th>appliance</th>\n",
       "      <td>60</td>\n",
       "      <td>1849</td>\n",
       "      <td>82</td>\n",
       "      <td>6</td>\n",
       "      <td>3</td>\n",
       "    </tr>\n",
       "    <tr>\n",
       "      <th>instrument</th>\n",
       "      <td>69</td>\n",
       "      <td>5</td>\n",
       "      <td>1896</td>\n",
       "      <td>1</td>\n",
       "      <td>29</td>\n",
       "    </tr>\n",
       "    <tr>\n",
       "      <th>pantry</th>\n",
       "      <td>482</td>\n",
       "      <td>1</td>\n",
       "      <td>11</td>\n",
       "      <td>1499</td>\n",
       "      <td>7</td>\n",
       "    </tr>\n",
       "    <tr>\n",
       "      <th>software</th>\n",
       "      <td>39</td>\n",
       "      <td>6</td>\n",
       "      <td>41</td>\n",
       "      <td>2</td>\n",
       "      <td>1912</td>\n",
       "    </tr>\n",
       "  </tbody>\n",
       "</table>\n",
       "</div>"
      ],
      "text/plain": [
       "            all_beauty  appliance  instrument  pantry  software\n",
       "all_beauty        1803         16          89      82        10\n",
       "appliance           60       1849          82       6         3\n",
       "instrument          69          5        1896       1        29\n",
       "pantry             482          1          11    1499         7\n",
       "software            39          6          41       2      1912"
      ]
     },
     "execution_count": 34,
     "metadata": {},
     "output_type": "execute_result"
    }
   ],
   "source": [
    "correctness_df.head()"
   ]
  },
  {
   "cell_type": "markdown",
   "metadata": {
    "id": "Tqy4cDdPRg_6"
   },
   "source": [
    "From this confusion matrix, we can see which categories have the most recognizable patterns of descriptions. Down the diagonal is the count of correct predictions.\n",
    "\n",
    "With this data, the model predicted software and instruments very well. Very few of those predictions were wrong. However, it also frequently confused appliances and beauty products for instruments. You can see which descriptions were confusing by selecting those products from the original dataframe."
   ]
  },
  {
   "cell_type": "code",
   "execution_count": 35,
   "metadata": {
    "id": "zSDbvZta8z7x",
    "tags": []
   },
   "outputs": [],
   "source": [
    "instrument_category = product_clusters[2]"
   ]
  },
  {
   "cell_type": "code",
   "execution_count": 36,
   "metadata": {
    "id": "fr0XMuedSqc4",
    "tags": []
   },
   "outputs": [
    {
     "data": {
      "text/html": [
       "<div>\n",
       "<style scoped>\n",
       "    .dataframe tbody tr th:only-of-type {\n",
       "        vertical-align: middle;\n",
       "    }\n",
       "\n",
       "    .dataframe tbody tr th {\n",
       "        vertical-align: top;\n",
       "    }\n",
       "\n",
       "    .dataframe thead th {\n",
       "        text-align: right;\n",
       "    }\n",
       "</style>\n",
       "<table border=\"1\" class=\"dataframe\">\n",
       "  <thead>\n",
       "    <tr style=\"text-align: right;\">\n",
       "      <th></th>\n",
       "      <th>name</th>\n",
       "      <th>description</th>\n",
       "      <th>category</th>\n",
       "    </tr>\n",
       "  </thead>\n",
       "  <tbody>\n",
       "    <tr>\n",
       "      <th>41</th>\n",
       "      <td>Souvenir Palestine Metal Flag Map Keychain Pal...</td>\n",
       "      <td>Metal Palestine Flag Map Colors Key chain</td>\n",
       "      <td>2</td>\n",
       "    </tr>\n",
       "    <tr>\n",
       "      <th>62</th>\n",
       "      <td>PIBBS Wood Appliance Holder (Model</td>\n",
       "      <td>Professional Features:-Wooden appliance holder...</td>\n",
       "      <td>2</td>\n",
       "    </tr>\n",
       "    <tr>\n",
       "      <th>83</th>\n",
       "      <td>Blue Lamb Skin Leather Cigarette Case with 2 Z...</td>\n",
       "      <td>Lambskin leather cigarette case with 2 zipper ...</td>\n",
       "      <td>2</td>\n",
       "    </tr>\n",
       "    <tr>\n",
       "      <th>106</th>\n",
       "      <td>New Dc Comics The Joker Batman Western Mens Me...</td>\n",
       "      <td>Batman Movie Joker Character Officially Licens...</td>\n",
       "      <td>2</td>\n",
       "    </tr>\n",
       "    <tr>\n",
       "      <th>137</th>\n",
       "      <td>Yo-Kai Watch Series 1 Komajiro Medal [Loose]</td>\n",
       "      <td>1.75\" in diameter disc. Loose Yo-kai Medal</td>\n",
       "      <td>2</td>\n",
       "    </tr>\n",
       "    <tr>\n",
       "      <th>...</th>\n",
       "      <td>...</td>\n",
       "      <td>...</td>\n",
       "      <td>...</td>\n",
       "    </tr>\n",
       "    <tr>\n",
       "      <th>1905</th>\n",
       "      <td>Ultra (Box of 10) Corn Plane Blades</td>\n",
       "      <td>Ultra (Box of 10) Corn Plane Blades</td>\n",
       "      <td>2</td>\n",
       "    </tr>\n",
       "    <tr>\n",
       "      <th>1913</th>\n",
       "      <td>color trak Color Trak Caddy, Pink, Black and Y...</td>\n",
       "      <td>Coloratura wood color brushes, 3 pack.</td>\n",
       "      <td>2</td>\n",
       "    </tr>\n",
       "    <tr>\n",
       "      <th>1921</th>\n",
       "      <td>1907 NCS019 Streeterville Shear Case, 0.277 Pound</td>\n",
       "      <td>NCS019 Streeter vile Shear Case.</td>\n",
       "      <td>2</td>\n",
       "    </tr>\n",
       "    <tr>\n",
       "      <th>1969</th>\n",
       "      <td>JENNING MOUTH GAG 6</td>\n",
       "      <td>JENNING MOUTH GAG 6\" G.S INSTRUMENTS</td>\n",
       "      <td>2</td>\n",
       "    </tr>\n",
       "    <tr>\n",
       "      <th>1977</th>\n",
       "      <td>NEW! NEW NEW Suunto Quest Yellow Speed Pack Fi...</td>\n",
       "      <td>Brand\\tSuunto  \\tMfg. Reference\\tSS019158000  ...</td>\n",
       "      <td>2</td>\n",
       "    </tr>\n",
       "  </tbody>\n",
       "</table>\n",
       "<p>89 rows × 3 columns</p>\n",
       "</div>"
      ],
      "text/plain": [
       "                                                   name  \\\n",
       "41    Souvenir Palestine Metal Flag Map Keychain Pal...   \n",
       "62                   PIBBS Wood Appliance Holder (Model   \n",
       "83    Blue Lamb Skin Leather Cigarette Case with 2 Z...   \n",
       "106   New Dc Comics The Joker Batman Western Mens Me...   \n",
       "137        Yo-Kai Watch Series 1 Komajiro Medal [Loose]   \n",
       "...                                                 ...   \n",
       "1905                Ultra (Box of 10) Corn Plane Blades   \n",
       "1913  color trak Color Trak Caddy, Pink, Black and Y...   \n",
       "1921  1907 NCS019 Streeterville Shear Case, 0.277 Pound   \n",
       "1969                                JENNING MOUTH GAG 6   \n",
       "1977  NEW! NEW NEW Suunto Quest Yellow Speed Pack Fi...   \n",
       "\n",
       "                                            description  category  \n",
       "41            Metal Palestine Flag Map Colors Key chain         2  \n",
       "62    Professional Features:-Wooden appliance holder...         2  \n",
       "83    Lambskin leather cigarette case with 2 zipper ...         2  \n",
       "106   Batman Movie Joker Character Officially Licens...         2  \n",
       "137          1.75\" in diameter disc. Loose Yo-kai Medal         2  \n",
       "...                                                 ...       ...  \n",
       "1905                Ultra (Box of 10) Corn Plane Blades         2  \n",
       "1913             Coloratura wood color brushes, 3 pack.         2  \n",
       "1921                   NCS019 Streeter vile Shear Case.         2  \n",
       "1969               JENNING MOUTH GAG 6\" G.S INSTRUMENTS         2  \n",
       "1977  Brand\\tSuunto  \\tMfg. Reference\\tSS019158000  ...         2  \n",
       "\n",
       "[89 rows x 3 columns]"
      ]
     },
     "execution_count": 36,
     "metadata": {},
     "output_type": "execute_result"
    }
   ],
   "source": [
    "products_df.iloc[beauty].query(f'category == {instrument_category}')"
   ]
  },
  {
   "cell_type": "markdown",
   "metadata": {
    "id": "ZET0y5ULckg-"
   },
   "source": [
    "We can compare those descriptions with the descriptions from instruments that were correctly predicted."
   ]
  },
  {
   "cell_type": "code",
   "execution_count": 37,
   "metadata": {
    "id": "RzuvpR7LchRe",
    "tags": []
   },
   "outputs": [
    {
     "data": {
      "text/html": [
       "<div>\n",
       "<style scoped>\n",
       "    .dataframe tbody tr th:only-of-type {\n",
       "        vertical-align: middle;\n",
       "    }\n",
       "\n",
       "    .dataframe tbody tr th {\n",
       "        vertical-align: top;\n",
       "    }\n",
       "\n",
       "    .dataframe thead th {\n",
       "        text-align: right;\n",
       "    }\n",
       "</style>\n",
       "<table border=\"1\" class=\"dataframe\">\n",
       "  <thead>\n",
       "    <tr style=\"text-align: right;\">\n",
       "      <th></th>\n",
       "      <th>name</th>\n",
       "      <th>description</th>\n",
       "      <th>category</th>\n",
       "    </tr>\n",
       "  </thead>\n",
       "  <tbody>\n",
       "    <tr>\n",
       "      <th>4000</th>\n",
       "      <td>Oscar Schmidt OR6CEB-O-U Acoustic Electric Res...</td>\n",
       "      <td>The OR6CE is a biscuit resonator guitar with c...</td>\n",
       "      <td>2</td>\n",
       "    </tr>\n",
       "    <tr>\n",
       "      <th>4001</th>\n",
       "      <td>Vacuum Tube Set for Fender Bandmaster VM Head,...</td>\n",
       "      <td>(2)T-12AX7-S-JJ (1)T-6L6GC-JJ-MP (Apex Matched...</td>\n",
       "      <td>2</td>\n",
       "    </tr>\n",
       "    <tr>\n",
       "      <th>4002</th>\n",
       "      <td>Liverpool Double Star Drum Stick/Mallet Comb S...</td>\n",
       "      <td>Liverpool Drum Sticks Mallet / Drum Stick Combo</td>\n",
       "      <td>2</td>\n",
       "    </tr>\n",
       "    <tr>\n",
       "      <th>4003</th>\n",
       "      <td>Didgeridoo Store Decorative Didgeridoo Midnigh...</td>\n",
       "      <td>Didgeridoo Store Decorative Didgeridoo Midnigh...</td>\n",
       "      <td>2</td>\n",
       "    </tr>\n",
       "    <tr>\n",
       "      <th>4004</th>\n",
       "      <td>WellieSTR (A Pair) Real Leather Accordion/Acco...</td>\n",
       "      <td>(A Pair) Real Leather Accordion/Accordian Bell...</td>\n",
       "      <td>2</td>\n",
       "    </tr>\n",
       "    <tr>\n",
       "      <th>...</th>\n",
       "      <td>...</td>\n",
       "      <td>...</td>\n",
       "      <td>...</td>\n",
       "    </tr>\n",
       "    <tr>\n",
       "      <th>5995</th>\n",
       "      <td>MBT Lighting PAR56 Par Can - Black</td>\n",
       "      <td>Par56 Par Can. Made by MBT Lighting.</td>\n",
       "      <td>2</td>\n",
       "    </tr>\n",
       "    <tr>\n",
       "      <th>5996</th>\n",
       "      <td>Blast King I49BMIC20B Female XLR to 1/4-Inch P...</td>\n",
       "      <td>Blast King MICROPHONE CABLE, FEMALE XLR TO 1/4\" P</td>\n",
       "      <td>2</td>\n",
       "    </tr>\n",
       "    <tr>\n",
       "      <th>5997</th>\n",
       "      <td>Kona Guitars KA15T 10-Watt Amplifier with Buil...</td>\n",
       "      <td>Kona 10 Watt Amplifier with Built-in Tuner and...</td>\n",
       "      <td>2</td>\n",
       "    </tr>\n",
       "    <tr>\n",
       "      <th>5998</th>\n",
       "      <td>BEHRINGER STUDIO CONDENSER MICROPHONE T-47</td>\n",
       "      <td>Vacuum Tube Condenser Microphone</td>\n",
       "      <td>2</td>\n",
       "    </tr>\n",
       "    <tr>\n",
       "      <th>5999</th>\n",
       "      <td>Alvarez Acoustic Guitar AD60S Dreadnought Top ...</td>\n",
       "      <td>Alvarez Acoustic Guitar AD60S Dreadnought Top ...</td>\n",
       "      <td>2</td>\n",
       "    </tr>\n",
       "  </tbody>\n",
       "</table>\n",
       "<p>1896 rows × 3 columns</p>\n",
       "</div>"
      ],
      "text/plain": [
       "                                                   name  \\\n",
       "4000  Oscar Schmidt OR6CEB-O-U Acoustic Electric Res...   \n",
       "4001  Vacuum Tube Set for Fender Bandmaster VM Head,...   \n",
       "4002  Liverpool Double Star Drum Stick/Mallet Comb S...   \n",
       "4003  Didgeridoo Store Decorative Didgeridoo Midnigh...   \n",
       "4004  WellieSTR (A Pair) Real Leather Accordion/Acco...   \n",
       "...                                                 ...   \n",
       "5995                 MBT Lighting PAR56 Par Can - Black   \n",
       "5996  Blast King I49BMIC20B Female XLR to 1/4-Inch P...   \n",
       "5997  Kona Guitars KA15T 10-Watt Amplifier with Buil...   \n",
       "5998         BEHRINGER STUDIO CONDENSER MICROPHONE T-47   \n",
       "5999  Alvarez Acoustic Guitar AD60S Dreadnought Top ...   \n",
       "\n",
       "                                            description  category  \n",
       "4000  The OR6CE is a biscuit resonator guitar with c...         2  \n",
       "4001  (2)T-12AX7-S-JJ (1)T-6L6GC-JJ-MP (Apex Matched...         2  \n",
       "4002    Liverpool Drum Sticks Mallet / Drum Stick Combo         2  \n",
       "4003  Didgeridoo Store Decorative Didgeridoo Midnigh...         2  \n",
       "4004  (A Pair) Real Leather Accordion/Accordian Bell...         2  \n",
       "...                                                 ...       ...  \n",
       "5995               Par56 Par Can. Made by MBT Lighting.         2  \n",
       "5996  Blast King MICROPHONE CABLE, FEMALE XLR TO 1/4\" P         2  \n",
       "5997  Kona 10 Watt Amplifier with Built-in Tuner and...         2  \n",
       "5998                   Vacuum Tube Condenser Microphone         2  \n",
       "5999  Alvarez Acoustic Guitar AD60S Dreadnought Top ...         2  \n",
       "\n",
       "[1896 rows x 3 columns]"
      ]
     },
     "execution_count": 37,
     "metadata": {},
     "output_type": "execute_result"
    }
   ],
   "source": [
    "products_df.iloc[instrument].query(f'category == {instrument_category}')"
   ]
  },
  {
   "cell_type": "markdown",
   "metadata": {
    "id": "N5Eq7F46dFwC"
   },
   "source": [
    "They don't look that similar to me, but they apparently look similar to the model at the embedding vector level!"
   ]
  },
  {
   "cell_type": "markdown",
   "metadata": {
    "id": "TdQb0V_ZhelM"
   },
   "source": [
    "### Save the model\n",
    "Having the model available in the notebook is all well and good, but right now, it only lives in memory and is only accessible from within the notebook. That's not very useful. We can do better. First, let's save the model locally on the machine to prevent us from losing it during a reboot. We can use Pickle to export the model to disk."
   ]
  },
  {
   "cell_type": "code",
   "execution_count": 38,
   "metadata": {
    "id": "A0N8P4zNnFW9",
    "tags": []
   },
   "outputs": [],
   "source": [
    "model_local_file = 'model.pkl'\n",
    "with open(model_local_file, 'wb') as model_file:\n",
    "    pickle.dump(kmeans, model_file)"
   ]
  },
  {
   "cell_type": "markdown",
   "metadata": {
    "id": "YBk-yuVOn1hI"
   },
   "source": [
    "At least now the model is persisted to local storage, but it's still not very available. A much better place to store it is Cloud Storage!\n",
    "\n",
    "We'll default to using a Cloud Storage bucket name based on our project ID. You can set this to any Cloud Storage bucket you have access to."
   ]
  },
  {
   "cell_type": "code",
   "execution_count": 39,
   "metadata": {
    "id": "f2PUNXE1peaI",
    "tags": []
   },
   "outputs": [],
   "source": [
    "GCS_BUCKET=f\"{MY_PROJECT}-productcluster\""
   ]
  },
  {
   "cell_type": "code",
   "execution_count": 40,
   "metadata": {
    "id": "PiCCwjzmqxJJ",
    "tags": []
   },
   "outputs": [],
   "source": [
    "gcs_client = storage.Client()"
   ]
  },
  {
   "cell_type": "markdown",
   "metadata": {
    "id": "CKz4sgb_prqv"
   },
   "source": [
    "The following cell will create the bucket. If you set the variable to an existing bucket, skip the following cell or it will throw an error."
   ]
  },
  {
   "cell_type": "code",
   "execution_count": 41,
   "metadata": {
    "id": "TgLA6OZ5pi6a",
    "tags": []
   },
   "outputs": [
    {
     "data": {
      "text/plain": [
       "<Bucket: qwiklabs-gcp-04-192b6fce6166-productcluster>"
      ]
     },
     "execution_count": 41,
     "metadata": {},
     "output_type": "execute_result"
    }
   ],
   "source": [
    "gcs_client.create_bucket(GCS_BUCKET)"
   ]
  },
  {
   "cell_type": "markdown",
   "metadata": {
    "id": "7z0HBkgLqZS2"
   },
   "source": [
    "Now we can upload the model to Cloud Storage."
   ]
  },
  {
   "cell_type": "code",
   "execution_count": 42,
   "metadata": {
    "id": "3SwIauffopyt",
    "tags": []
   },
   "outputs": [],
   "source": [
    "bucket = gcs_client.get_bucket(GCS_BUCKET)\n",
    "gcs_model_path = f'embeddings_product_cluster'\n",
    "blob = bucket.blob(f'{gcs_model_path}/{model_local_file}')\n",
    "blob.upload_from_filename(model_local_file)"
   ]
  },
  {
   "cell_type": "markdown",
   "metadata": {
    "id": "a53AFJ1g2cDI"
   },
   "source": [
    "To reload your model for future use in a notebook, simply retrive the pickled model file from Cloud Storage, then use pickle to load it again!"
   ]
  },
  {
   "cell_type": "code",
   "execution_count": 43,
   "metadata": {
    "id": "rEnfAYvyqJsK",
    "tags": []
   },
   "outputs": [
    {
     "data": {
      "text/plain": [
       "array([3, 3, 3, 3, 3, 3, 3, 3, 3, 3], dtype=int32)"
      ]
     },
     "execution_count": 43,
     "metadata": {},
     "output_type": "execute_result"
    }
   ],
   "source": [
    "with open(model_local_file, 'rb') as f:\n",
    "    reloaded_kmeans = pickle.load(f)\n",
    "\n",
    "reloaded_kmeans.predict(embeddings[:10])"
   ]
  },
  {
   "cell_type": "markdown",
   "metadata": {
    "id": "cIANpwVHrA9W"
   },
   "source": [
    "Since we still have the original in memory, we can easily show the predictions from the reloaded model are the same as the original."
   ]
  },
  {
   "cell_type": "code",
   "execution_count": 44,
   "metadata": {
    "id": "zdnmUELnq6IJ",
    "tags": []
   },
   "outputs": [
    {
     "data": {
      "text/plain": [
       "array([3, 3, 3, 3, 3, 3, 3, 3, 3, 3], dtype=int32)"
      ]
     },
     "execution_count": 44,
     "metadata": {},
     "output_type": "execute_result"
    }
   ],
   "source": [
    "kmeans.predict(embeddings[:10])"
   ]
  },
  {
   "cell_type": "markdown",
   "metadata": {
    "id": "ibUj5szdroPg"
   },
   "source": [
    "### Model Registry\n",
    "Being in Cloud Storage means you're going to have 11-9s of durability so you know the model won't be lost, and now you can download it in other notebooks to use.\n",
    "\n",
    "However, we can still do better!\n",
    "\n",
    "You can't use the model directly from Cloud Storage to make predictions. You'd have to spin up a notebook or other server, retrieve the model, then load the model back into memory to use it again. That's a lot of work, and it doesn't let you use this model for any kind of real-time predictions.\n",
    "\n",
    "Instead, wouldn't it be great if we could directly send embeddings to our model and not have to worry about the computing behind it? By adding the model to Model Registry, we can unlock the full power of Vertex AI to run our model at scale!"
   ]
  },
  {
   "cell_type": "markdown",
   "metadata": {
    "id": "2KdI6lEs7Txy"
   },
   "source": [
    "According to the [documentation](https://cloud.google.com/vertex-ai/docs/training/exporting-model-artifacts#scikit-learn), Vertex AI expects the model to be named `model.pkl` when importing to Model Registry, which is why we named it that above. To register the model, you pass in the directory (really, key prefix) for where Model Registry can find the pickled model in Cloud Storage. You also specify a serving container image, which your model will be injected into to run on Vertex AI."
   ]
  },
  {
   "cell_type": "code",
   "execution_count": 46,
   "metadata": {
    "id": "2FxO0LB5rzg3",
    "tags": []
   },
   "outputs": [
    {
     "name": "stdout",
     "output_type": "stream",
     "text": [
      "Creating Model\n",
      "Create Model backing LRO: projects/291712904174/locations/us-central1/models/411310807276584960/operations/3549415571038666752\n",
      "Model created. Resource name: projects/291712904174/locations/us-central1/models/411310807276584960@1\n",
      "To use this Model in another session:\n",
      "model = aiplatform.Model('projects/291712904174/locations/us-central1/models/411310807276584960@1')\n"
     ]
    }
   ],
   "source": [
    "model_display_name = 'cluster_products'\n",
    "artifact_directory_uri = f'gs://{GCS_BUCKET}/{gcs_model_path}'\n",
    "serving_container_image = 'us-docker.pkg.dev/vertex-ai/prediction/sklearn-cpu.1-2:latest'\n",
    "\n",
    "vai_model = aiplatform.Model.upload(\n",
    "            display_name=model_display_name,\n",
    "            artifact_uri=artifact_directory_uri,\n",
    "            serving_container_image_uri=serving_container_image)\n",
    "\n",
    "vai_model.wait()"
   ]
  },
  {
   "cell_type": "markdown",
   "metadata": {
    "id": "qs2wPuz1p6WX"
   },
   "source": [
    "Now you can easily send batch predictions to your model, or publish it to an Endpoint for real-time applications!"
   ]
  },
  {
   "cell_type": "markdown",
   "metadata": {
    "id": "z9Q4plQOhX87"
   },
   "source": [
    "### Use the model\n",
    "Finally, with your model no longer in danger of being lost, and being substantially more usable in Model Registry, let's turn back to our local copy of the model to predict a few more products."
   ]
  },
  {
   "cell_type": "markdown",
   "metadata": {
    "id": "pI6xVO35iW52"
   },
   "source": [
    "Here are a few more cleaned-up product descriptions from the original dataset that were not included in the sample, one from each category."
   ]
  },
  {
   "cell_type": "code",
   "execution_count": 47,
   "metadata": {
    "id": "lnKkQhXJiMv-",
    "tags": []
   },
   "outputs": [],
   "source": [
    "new_products = ['Kinetronics StaticWisk Brush-7/8',\n",
    "                'Range Kleen GE/Hotpoint Large Porcelain Drip Bowl 8\"',\n",
    "                'Game of Thrones (Theme from the HBO series) - EASY PIANO Sheet Music Single',\n",
    "                'CADBURY Chocolate Candy Bar, English Toffee, 5.4 Ounce',\n",
    "                'Star Trek: The Game Show']\n",
    "new_descriptions = ['Fine quality anti-static lens brush. Made from a special blend of soft, natural hair and a conductive fiber. To use the brush, simply sweep the lens. The brush has a resistivity of 10-1 and will dissipate any static charge and release the dust.',\n",
    "                    'Are your burner reflector bowls beyond rescue? Reasonably priced and easy to clean, replacement bowls will have your stove looking spiffy in a jiffy!',\n",
    "                    'EASY Piano version of the popular theme song from the HBO series.',\n",
    "                    'Enjoy the rich taste of premium milk chocolate with the satisfying crunch of English toffee. Make any moment more delicious with an Cadbury milk chocolate with English toffee pouch.',\n",
    "                    'Star Trek: The Game Show'\n",
    "]"
   ]
  },
  {
   "cell_type": "markdown",
   "metadata": {
    "id": "gyr9SXF6pdjM"
   },
   "source": [
    "First, generate the text embeddings"
   ]
  },
  {
   "cell_type": "code",
   "execution_count": 48,
   "metadata": {
    "id": "TdaUOSTVpUeK",
    "tags": []
   },
   "outputs": [],
   "source": [
    "new_embeddings = model.get_embeddings(new_descriptions)"
   ]
  },
  {
   "cell_type": "markdown",
   "metadata": {
    "id": "DJcr5lbxpugU"
   },
   "source": [
    "The returned embeddings are in a TextEmbedding class. Convert that to an ndarray of floats to pass to the clustering model."
   ]
  },
  {
   "cell_type": "code",
   "execution_count": 49,
   "metadata": {
    "id": "W-1s10iMptBB",
    "tags": []
   },
   "outputs": [],
   "source": [
    "new_embeddings_nd = np.squeeze(np.stack([embedding.values for embedding in new_embeddings if embedding is not None]))\n",
    "new_predictions = kmeans.predict(new_embeddings_nd)"
   ]
  },
  {
   "cell_type": "code",
   "execution_count": 50,
   "metadata": {
    "id": "BHA2NbvIs5JA",
    "tags": []
   },
   "outputs": [
    {
     "data": {
      "text/plain": [
       "['instrument', 'appliance', 'instrument', 'pantry', 'software']"
      ]
     },
     "execution_count": 50,
     "metadata": {},
     "output_type": "execute_result"
    }
   ],
   "source": [
    "new_predictions_clusters = [cluster_map[x] for x in new_predictions]\n",
    "new_predictions_clusters"
   ]
  },
  {
   "cell_type": "markdown",
   "metadata": {
    "id": "Mljgw9OPuZwl"
   },
   "source": [
    "How did your model do?\n",
    "\n",
    "When I ran this, the model got 4 of 5 correct. Not bad! It confused the musical instrument category for software, which was the most likely category for it to be wrong about based on my confusion matrix."
   ]
  },
  {
   "cell_type": "markdown",
   "metadata": {
    "id": "-c_LhprOhPje"
   },
   "source": [
    "## Congratulations!\n",
    "\n",
    "In this lab, you've converted a set of product descriptions into a vector representation using a text embedding model. With that contextual information, you trained a clustering model to predict the category of the product based on the description. You then persisted the model to Cloud Storage, and most powerfully, added it to Model Registry. It's now ready to use in your Vertex AI pipelines!\n"
   ]
  },
  {
   "cell_type": "code",
   "execution_count": null,
   "metadata": {
    "id": "YGJIkz1S9sLk"
   },
   "outputs": [],
   "source": []
  }
 ],
 "metadata": {
  "colab": {
   "name": "cluster_embeddings.ipynb",
   "provenance": []
  },
  "environment": {
   "kernel": "python3",
   "name": "tf2-gpu.2-17.m125",
   "type": "gcloud",
   "uri": "us-docker.pkg.dev/deeplearning-platform-release/gcr.io/tf2-gpu.2-17:m125"
  },
  "kernelspec": {
   "display_name": "Python 3 (Local)",
   "language": "python",
   "name": "python3"
  },
  "language_info": {
   "codemirror_mode": {
    "name": "ipython",
    "version": 3
   },
   "file_extension": ".py",
   "mimetype": "text/x-python",
   "name": "python",
   "nbconvert_exporter": "python",
   "pygments_lexer": "ipython3",
   "version": "3.10.15"
  }
 },
 "nbformat": 4,
 "nbformat_minor": 4
}
