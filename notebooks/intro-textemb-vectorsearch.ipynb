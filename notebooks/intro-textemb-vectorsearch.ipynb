{
 "cells": [
  {
   "cell_type": "code",
   "execution_count": 1,
   "metadata": {
    "id": "c3_K0GGSTrhd",
    "tags": []
   },
   "outputs": [],
   "source": [
    "# Copyright 2023 Google LLC\n",
    "#\n",
    "# Licensed under the Apache License, Version 2.0 (the \"License\");\n",
    "# you may not use this file except in compliance with the License.\n",
    "# You may obtain a copy of the License at\n",
    "#\n",
    "#     https://www.apache.org/licenses/LICENSE-2.0\n",
    "#\n",
    "# Unless required by applicable law or agreed to in writing, software\n",
    "# distributed under the License is distributed on an \"AS IS\" BASIS,\n",
    "# WITHOUT WARRANTIES OR CONDITIONS OF ANY KIND, either express or implied.\n",
    "# See the License for the specific language governing permissions and\n",
    "# limitations under the License."
   ]
  },
  {
   "cell_type": "markdown",
   "metadata": {
    "id": "7VQkf8sFTeDo"
   },
   "source": [
    "# Getting Started with Text Embeddings + Vertex AI Vector Search\n",
    "\n",
    "\n",
    "<table align=\"left\">\n",
    "  <td style=\"text-align: center\">\n",
    "    <a href=\"https://colab.research.google.com/github/GoogleCloudPlatform/generative-ai/blob/main/embeddings/intro-textemb-vectorsearch.ipynb\">\n",
    "      <img src=\"https://cloud.google.com/ml-engine/images/colab-logo-32px.png\" alt=\"Google Colaboratory logo\"><br> Run in Colab\n",
    "    </a>\n",
    "  </td>\n",
    "  <td style=\"text-align: center\">\n",
    "    <a href=\"https://github.com/GoogleCloudPlatform/generative-ai/blob/main/embeddings/intro-textemb-vectorsearch.ipynb\">\n",
    "      <img src=\"https://cloud.google.com/ml-engine/images/github-logo-32px.png\" alt=\"GitHub logo\"><br> View on GitHub\n",
    "    </a>\n",
    "  </td>\n",
    "  <td style=\"text-align: center\">\n",
    "    <a href=\"https://console.cloud.google.com/vertex-ai/workbench/deploy-notebook?download_url=https://raw.githubusercontent.com/GoogleCloudPlatform/generative-ai/main/embeddings/intro-textemb-vectorsearch.ipynb\">\n",
    "      <img src=\"https://lh3.googleusercontent.com/UiNooY4LUgW_oTvpsNhPpQzsstV5W8F7rYgxgGBD85cWJoLmrOzhVs_ksK_vgx40SHs7jCqkTkCk=e14-rj-sc0xffffff-h130-w32\" alt=\"Vertex AI logo\"><br> Open in Vertex AI Workbench\n",
    "    </a>\n",
    "  </td>\n",
    "</table>"
   ]
  },
  {
   "cell_type": "markdown",
   "metadata": {
    "id": "4d742715e6de"
   },
   "source": [
    "| | |\n",
    "|-|-|\n",
    "|Author(s) | [Smitha Venkat](https://github.com/smitha-google), [Kaz Sato](https://github.com/kazunori279)|"
   ]
  },
  {
   "cell_type": "markdown",
   "metadata": {
    "id": "25a71983a324"
   },
   "source": [
    "## Introduction\n",
    "\n",
    "In this tutorial, you learn how to use Google Cloud AI tools to quickly bring the power of Large Language Models to enterprise systems.  \n",
    "\n",
    "This tutorial covers the following -\n",
    "\n",
    "*   What are embeddings - what business challenges do they help solve ?\n",
    "*   Understanding Text with Vertex AI Text Embeddings\n",
    "*   Find Embeddings fast with Vertex AI Vector Search\n",
    "*   Grounding LLM outputs with Vector Search\n",
    "\n",
    "This tutorial is based on [the blog post](https://cloud.google.com/blog/products/ai-machine-learning/how-to-use-grounding-for-your-llms-with-text-embeddings), combined with sample code.\n",
    "\n",
    "\n",
    "### Prerequisites\n",
    "\n",
    "This tutorial is designed for developers who has basic knowledge and experience with Python programming and machine learning.\n",
    "\n",
    "If you are not reading this tutorial in Qwiklab, then you need to have a Google Cloud project that is linked to a billing account to run this. Please go through [this document](https://cloud.google.com/vertex-ai/docs/start/cloud-environment) to create a project and setup a billing account for it.\n",
    "\n",
    "### Choose the runtime environment\n",
    "\n",
    "The notebook can be run on either Google Colab or [Vertex AI Workbench](https://cloud.google.com/vertex-ai-workbench).\n",
    "\n",
    "- To use Colab: Click [this link](https://colab.research.google.com/github/GoogleCloudPlatform/generative-ai/blob/main/embeddings/intro-textemb-vectorsearch.ipynb) to open the tutorial in Colab.\n",
    "\n",
    "- To use Workbench: If it is the first time to use Workbench in your Google Cloud project, open [the Workbench console](https://console.cloud.google.com/vertex-ai/workbench) and click ENABLE button to enable Notebooks API. Then click [this link](https://console.cloud.google.com/vertex-ai/workbench/deploy-notebook?download_url=https://raw.githubusercontent.com/GoogleCloudPlatform/generative-ai/main/embeddings/intro-textemb-vectorsearch.ipynb),  and select an existing notebook or create a new notebook.\n"
   ]
  },
  {
   "cell_type": "markdown",
   "metadata": {
    "id": "2pImjuenUIQz"
   },
   "source": [
    "### How much will this cost?\n",
    "\n",
    "In case you are using your own Cloud project, not a temporary project on Qwiklab, you need to spend roughly a few US dollars to finish this tutorial.\n",
    "\n",
    "The pricing of the Cloud services we will use in this tutorial are available in the following pages:\n",
    "\n",
    "- [Vertex AI Embeddings for Text](https://cloud.google.com/vertex-ai/pricing#generative_ai_models)\n",
    "- [Vertex AI Vector Search](https://cloud.google.com/vertex-ai/pricing#matchingengine)\n",
    "- [BigQuery](https://cloud.google.com/bigquery/pricing)\n",
    "- [Cloud Storage](https://cloud.google.com/storage/pricing)\n",
    "- [Vertex AI Workbench](https://cloud.google.com/vertex-ai/pricing#notebooks) if you use one\n",
    "\n",
    "You can use the [Pricing Calculator](https://cloud.google.com/products/calculator) to generate a cost estimate based on your projected usage. The following is an example of rough cost estimation with the calculator, assuming you will go through this tutorial a couple of time.\n",
    "\n",
    "<img src=\"https://storage.googleapis.com/github-repo/img/embeddings/vs-quickstart/pricing.png\" width=\"50%\"/>\n",
    "\n",
    "### **Warning: delete your objects after the tutorial**\n",
    "\n",
    "In case you are using your own Cloud project, please make sure to delete all the Indexes, Index Endpoints and Cloud Storage buckets (and the Workbench instance if you use one) after finishing this tutorial. Otherwise the remaining assets would incur unexpected costs.\n"
   ]
  },
  {
   "cell_type": "markdown",
   "metadata": {
    "id": "6Fu2OoUDTQ6w"
   },
   "source": [
    "# Bringing Gen AI and LLMs to production services\n",
    "\n",
    "Many people are now starting to think about how to bring Gen AI and LLMs to production services, and facing with several challenges.\n",
    "\n",
    "- \"How to integrate LLMs or AI chatbots with existing IT systems, databases and business data?\"\n",
    "- \"We have thousands of products. How can I let LLM memorize them all precisely?\"\n",
    "- \"How to handle the hallucination issues in AI chatbots to build a reliable service?\"\n",
    "\n",
    "Here is a quick solution: **grounding** with **embeddings** and **vector search**.\n",
    "\n",
    "What is grounding? What are embedding and vector search? In this tutorial, we will learn these crucial concepts to build reliable Gen AI services for enterprise use. But before we dive deeper, let's try the demo below."
   ]
  },
  {
   "cell_type": "markdown",
   "metadata": {
    "id": "ORqZYLgTm9pJ"
   },
   "source": [
    "![](https://storage.googleapis.com/gweb-cloudblog-publish/original_images/1._demo_animation.gif)\n",
    "\n",
    "**Exercise: Try the Stack Overflow semantic search demo:**\n",
    "\n",
    "This demo is available as a [public live demo](https://ai-demos.dev/). Select \"STACKOVERFLOW\" and enter any coding question as a query, so it runs a text search on **8 million** questions posted on [Stack Overflow](https://stackoverflow.com/). Try the text semantic search with some queries like 'How to shuffle rows in SQL?' or arbitrary programming questions.\n",
    "\n",
    "In this tutorial, we are going to see how to build a similar search experience - what is involved in building solutions like this using Vertex AI Embeddings API and Vector Search."
   ]
  },
  {
   "cell_type": "markdown",
   "metadata": {
    "id": "H1MAIOkCw35V"
   },
   "source": [
    "# What is Embeddings?\n",
    "\n",
    "With the rise of LLMs, why is it becoming important for IT engineers and ITDMs to understand how they work?\n",
    "\n",
    "In traditional IT systems, most data is organized as structured or tabular data, using simple keywords, labels, and categories in databases and search engines.\n",
    "\n",
    "![](https://storage.googleapis.com/github-repo/img/embeddings/textemb-vs-notebook/1.png)\n",
    "\n",
    "In contrast, AI-powered services arrange data into a simple data structure known as \"embeddings.\"\n",
    "\n",
    "![](https://storage.googleapis.com/github-repo/img/embeddings/textemb-vs-notebook/2.png)"
   ]
  },
  {
   "cell_type": "markdown",
   "metadata": {
    "id": "hJqjBmQsxz2Z"
   },
   "source": [
    "Once trained with specific content like text, images, or any content, AI creates a space called \"embedding space\", which is essentially a map of the content's meaning.\n",
    "\n",
    "![](https://storage.googleapis.com/github-repo/img/embeddings/textemb-vs-notebook/3.png)\n",
    "\n",
    "AI can identify the location of each content on the map, that's what embedding is.\n",
    "\n",
    "![](https://storage.googleapis.com/github-repo/img/embeddings/textemb-vs-notebook/4.png)\n",
    "\n",
    "Let's take an example where a text discusses movies, music, and actors, with a distribution of 10%, 2%, and 30%, respectively. In this case, the AI can create an embedding with three values: 0.1, 0.02, and 0.3, in 3 dimensional space.\n",
    "\n",
    "![](https://storage.googleapis.com/github-repo/img/embeddings/textemb-vs-notebook/5.png)\n",
    "\n",
    "AI can put content with similar meanings closely together in the space."
   ]
  },
  {
   "cell_type": "markdown",
   "metadata": {
    "id": "A5z7vyTyzk_4"
   },
   "source": [
    "This is how Google organizes data across various services like Google Search, YouTube, Play, and many others, to provide search results and recommendations with relevant content.\n",
    "\n",
    "Embeddings can also be used to represent different types of things in businesses, such as products, users, user activities, conversations, music & videos, signals from IoT sensors, and so on."
   ]
  },
  {
   "cell_type": "markdown",
   "metadata": {
    "id": "tpKVmyEe0ab9"
   },
   "source": [
    "AI and Embeddings are now playing a crucial role in creating a new way of human-computer interaction.\n",
    "\n",
    "![](https://storage.googleapis.com/github-repo/img/embeddings/textemb-vs-notebook/6.png)\n",
    "\n",
    "AI organizes data into embeddings, which represent what the user is looking for, the meaning of contents, or many other things you have in your business. This creates a new level of user experience that is becoming the new standard.\n",
    "\n",
    "To learn more about embeddings, [Foundational courses: Embeddings on Google Machine Learning Crush Course](https://developers.google.com/machine-learning/crash-course/embeddings/video-lecture) and [Meet AI's multitool: Vector embeddings by Dale Markowitz](https://cloud.google.com/blog/topics/developers-practitioners/meet-ais-multitool-vector-embeddings) are great materials.\n"
   ]
  },
  {
   "cell_type": "markdown",
   "metadata": {
    "id": "ovQpiL2GUEXa"
   },
   "source": [
    "# Vertex AI Embeddings for Text\n",
    "\n",
    "With the [Vertex AI Embeddings for Text](https://cloud.google.com/vertex-ai/docs/generative-ai/embeddings/get-text-embeddings), you can easily create a text embedding with LLM. The product is also available on [Vertex AI Model Garden](https://cloud.google.com/model-garden)\n",
    "\n",
    "![](https://storage.googleapis.com/github-repo/img/embeddings/textemb-vs-notebook/7.png)\n",
    "\n",
    "This API is designed to extract embeddings from texts. It can take text input up to 2048 input tokens, and outputs 768 dimensional text embeddings."
   ]
  },
  {
   "cell_type": "markdown",
   "metadata": {
    "id": "nwJHDPG7lU52"
   },
   "source": [
    "## LLM text embedding business use cases\n",
    "\n",
    "With the embedding API, you can apply the innovation of embeddings, combined with the LLM capability, to various text processing tasks, such as:\n",
    "\n",
    "**LLM-enabled Semantic Search**: text embeddings can be used to represent both the meaning and intent of a user's query and documents in the embedding space. Documents that have similar meaning to the user's query intent will be found fast with vector search technology. The model is capable of generating text embeddings that capture the subtle nuances of each sentence and paragraphs in the document.\n",
    "\n",
    "**LLM-enabled Text Classification**: LLM text embeddings can be used for text classification with a deep understanding of different contexts without any training or fine-tuning (so-called zero-shot learning). This wasn't possible with the past language models without task-specific training.\n",
    "\n",
    "**LLM-enabled Recommendation**: The text embedding can be used for recommendation systems as a strong feature for training recommendation models such as Two-Tower model. The model learns the relationship between the query and candidate embeddings, resulting in next-gen user experience with semantic product recommendation.\n",
    "\n",
    "LLM-enabled Clustering, Anomaly Detection, Sentiment Analysis, and more, can be also handled with the LLM-level deep semantics understanding.\n"
   ]
  },
  {
   "cell_type": "markdown",
   "metadata": {
    "id": "ga5A7koYlvlZ"
   },
   "source": [
    "## Sorting 8 million texts at \"librarian-level\" precision\n",
    "\n",
    "Vertex AI Embeddings for Text has an embedding space with 768 dimensions. As explained earlier, the space represents a huge map of a wide variety of texts in the world, organized by their meanings. With each input text, the model can find a location (embedding) in the map.\n",
    "\n",
    "By visualizing the embedding space, you can actually observe how the model sorts the texts at the \"librarian-level\" precision.\n",
    "\n",
    "**Exercise: Try the Nomic AI Atlas**\n",
    "\n",
    "[Nomic AI](http://nomic.ai/) provides a platform called Atlas for storing, visualizing and interacting with embedding spaces with high scalability and in a smooth UI, and they worked with Google for visualizing the embedding space of the 8 million Stack Overflow questions. You can try exploring around the space, zooming in and out to each data point on your browser on this page, courtesy of Nomic AI.\n",
    "\n",
    "The embedding space represents a huge map of texts, organized by their meanings\n",
    "With each input text, the model can find a location (embedding) in the map\n",
    "Like a librarian reading through millions of texts, sorting them with millions of nano-categories\n",
    "\n",
    "Try exploring it [here](https://atlas.nomic.ai/map/edaff028-12b5-42a0-8e8b-6430c9b8222b/bcb42818-3581-4fb5-ac30-9883d01f98ec). Zoom into a few categories, point each dots, and see how the LLM is sorting similar questions close together in the space.\n",
    "\n",
    "![](https://storage.googleapis.com/gweb-cloudblog-publish/images/4._Nomic_AI_Atlas.max-2200x2200.png)\n",
    "\n",
    "### The librarian-level semantic understanding\n",
    "\n",
    "Here are the examples of the librarian-level semantic understanding by Embeddings API with Stack Overflow questions.\n",
    "\n",
    "![](https://storage.googleapis.com/gweb-cloudblog-publish/images/5._semantic_understanding.max-2200x2200.png)\n",
    "\n",
    "For example, the model thinks the question \"Does moving the request line to a header frame require an app change?\" is similar to the question \"Does an application developed on HTTP1x require modifications to run on HTTP2?\". That is because The model knows both questions talk about what's the change required to support the HTTP2 header frame.\n",
    "\n",
    "Note that this demo didn't require any training or fine-tuning with computer programming specific datasets. This is the innovative part of the zero-shot learning capability of the LLM. It can be applied to a wide variety of industries, including finance, healthcare, retail, manufacturing, construction, media, and more, for deep semantic search on the industry-focused business documents without spending time and cost for collecting industry specific datasets and training models."
   ]
  },
  {
   "cell_type": "markdown",
   "metadata": {
    "id": "-iOWOKnIvYxf"
   },
   "source": [
    "# Text Embeddings in Action\n",
    "\n",
    "Lets try using Text Embeddings in action with actual sample code."
   ]
  },
  {
   "cell_type": "markdown",
   "metadata": {
    "id": "AtXnXhF8U-8R"
   },
   "source": [
    "## Setup\n",
    "\n",
    "Before get started with the Vertex AI services, we need to setup the following.\n",
    "\n",
    "* Install Python SDK\n",
    "* Environment variables\n",
    "* Authentication (Colab only)\n",
    "* Enable APIs\n",
    "* Set IAM permissions"
   ]
  },
  {
   "cell_type": "markdown",
   "metadata": {
    "id": "UjnvWl6FLUlF"
   },
   "source": [
    "### Install Python SDK\n",
    "\n",
    "Vertex AI, Cloud Storage and BigQuery APIs can be accessed with multiple ways including REST API and Python SDK. In this tutorial we will use the SDK."
   ]
  },
  {
   "cell_type": "code",
   "execution_count": 2,
   "metadata": {
    "id": "FZgLGALt_al7",
    "tags": []
   },
   "outputs": [
    {
     "name": "stdout",
     "output_type": "stream",
     "text": [
      "Requirement already satisfied: google-cloud-aiplatform in /opt/conda/lib/python3.10/site-packages (1.70.0)\n",
      "Requirement already satisfied: google-cloud-storage in /opt/conda/lib/python3.10/site-packages (2.14.0)\n",
      "Collecting google-cloud-storage\n",
      "  Downloading google_cloud_storage-2.18.2-py2.py3-none-any.whl.metadata (9.1 kB)\n",
      "Requirement already satisfied: google-cloud-bigquery[pandas] in /opt/conda/lib/python3.10/site-packages (3.25.0)\n",
      "Collecting google-cloud-bigquery[pandas]\n",
      "  Downloading google_cloud_bigquery-3.26.0-py2.py3-none-any.whl.metadata (8.7 kB)\n",
      "Requirement already satisfied: google-api-core!=2.0.*,!=2.1.*,!=2.2.*,!=2.3.*,!=2.4.*,!=2.5.*,!=2.6.*,!=2.7.*,<3.0.0dev,>=1.34.1 in /opt/conda/lib/python3.10/site-packages (from google-api-core[grpc]!=2.0.*,!=2.1.*,!=2.2.*,!=2.3.*,!=2.4.*,!=2.5.*,!=2.6.*,!=2.7.*,<3.0.0dev,>=1.34.1->google-cloud-aiplatform) (1.34.1)\n",
      "Requirement already satisfied: google-auth<3.0.0dev,>=2.14.1 in /opt/conda/lib/python3.10/site-packages (from google-cloud-aiplatform) (2.35.0)\n",
      "Requirement already satisfied: proto-plus<2.0.0dev,>=1.22.3 in /opt/conda/lib/python3.10/site-packages (from google-cloud-aiplatform) (1.24.0)\n",
      "Requirement already satisfied: protobuf!=4.21.0,!=4.21.1,!=4.21.2,!=4.21.3,!=4.21.4,!=4.21.5,<6.0.0dev,>=3.20.2 in /opt/conda/lib/python3.10/site-packages (from google-cloud-aiplatform) (3.20.3)\n",
      "Requirement already satisfied: packaging>=14.3 in /opt/conda/lib/python3.10/site-packages (from google-cloud-aiplatform) (24.1)\n",
      "Requirement already satisfied: google-cloud-resource-manager<3.0.0dev,>=1.3.3 in /opt/conda/lib/python3.10/site-packages (from google-cloud-aiplatform) (1.12.5)\n",
      "Requirement already satisfied: shapely<3.0.0dev in /opt/conda/lib/python3.10/site-packages (from google-cloud-aiplatform) (2.0.6)\n",
      "Requirement already satisfied: pydantic<3 in /opt/conda/lib/python3.10/site-packages (from google-cloud-aiplatform) (2.9.2)\n",
      "Requirement already satisfied: docstring-parser<1 in /opt/conda/lib/python3.10/site-packages (from google-cloud-aiplatform) (0.16)\n",
      "Collecting google-api-core!=2.0.*,!=2.1.*,!=2.2.*,!=2.3.*,!=2.4.*,!=2.5.*,!=2.6.*,!=2.7.*,<3.0.0dev,>=1.34.1 (from google-api-core[grpc]!=2.0.*,!=2.1.*,!=2.2.*,!=2.3.*,!=2.4.*,!=2.5.*,!=2.6.*,!=2.7.*,<3.0.0dev,>=1.34.1->google-cloud-aiplatform)\n",
      "  Downloading google_api_core-2.21.0-py3-none-any.whl.metadata (2.8 kB)\n",
      "Requirement already satisfied: google-cloud-core<3.0dev,>=2.3.0 in /opt/conda/lib/python3.10/site-packages (from google-cloud-storage) (2.4.1)\n",
      "Requirement already satisfied: google-resumable-media>=2.7.2 in /opt/conda/lib/python3.10/site-packages (from google-cloud-storage) (2.7.2)\n",
      "Requirement already satisfied: requests<3.0.0dev,>=2.18.0 in /opt/conda/lib/python3.10/site-packages (from google-cloud-storage) (2.32.3)\n",
      "Requirement already satisfied: google-crc32c<2.0dev,>=1.0 in /opt/conda/lib/python3.10/site-packages (from google-cloud-storage) (1.6.0)\n",
      "Requirement already satisfied: python-dateutil<3.0dev,>=2.7.3 in /opt/conda/lib/python3.10/site-packages (from google-cloud-bigquery[pandas]) (2.9.0.post0)\n",
      "Requirement already satisfied: pandas>=1.1.0 in /opt/conda/lib/python3.10/site-packages (from google-cloud-bigquery[pandas]) (2.2.3)\n",
      "Requirement already satisfied: pyarrow>=3.0.0 in /opt/conda/lib/python3.10/site-packages (from google-cloud-bigquery[pandas]) (15.0.2)\n",
      "Requirement already satisfied: db-dtypes<2.0.0dev,>=0.3.0 in /opt/conda/lib/python3.10/site-packages (from google-cloud-bigquery[pandas]) (1.3.0)\n",
      "Requirement already satisfied: numpy>=1.16.6 in /opt/conda/lib/python3.10/site-packages (from db-dtypes<2.0.0dev,>=0.3.0->google-cloud-bigquery[pandas]) (1.26.4)\n",
      "Requirement already satisfied: googleapis-common-protos<2.0.dev0,>=1.56.2 in /opt/conda/lib/python3.10/site-packages (from google-api-core!=2.0.*,!=2.1.*,!=2.2.*,!=2.3.*,!=2.4.*,!=2.5.*,!=2.6.*,!=2.7.*,<3.0.0dev,>=1.34.1->google-api-core[grpc]!=2.0.*,!=2.1.*,!=2.2.*,!=2.3.*,!=2.4.*,!=2.5.*,!=2.6.*,!=2.7.*,<3.0.0dev,>=1.34.1->google-cloud-aiplatform) (1.65.0)\n",
      "Requirement already satisfied: grpcio<2.0dev,>=1.33.2 in /opt/conda/lib/python3.10/site-packages (from google-api-core[grpc]!=2.0.*,!=2.1.*,!=2.2.*,!=2.3.*,!=2.4.*,!=2.5.*,!=2.6.*,!=2.7.*,<3.0.0dev,>=1.34.1->google-cloud-aiplatform) (1.66.2)\n",
      "Requirement already satisfied: grpcio-status<2.0.dev0,>=1.33.2 in /opt/conda/lib/python3.10/site-packages (from google-api-core[grpc]!=2.0.*,!=2.1.*,!=2.2.*,!=2.3.*,!=2.4.*,!=2.5.*,!=2.6.*,!=2.7.*,<3.0.0dev,>=1.34.1->google-cloud-aiplatform) (1.48.2)\n",
      "Requirement already satisfied: cachetools<6.0,>=2.0.0 in /opt/conda/lib/python3.10/site-packages (from google-auth<3.0.0dev,>=2.14.1->google-cloud-aiplatform) (5.5.0)\n",
      "Requirement already satisfied: pyasn1-modules>=0.2.1 in /opt/conda/lib/python3.10/site-packages (from google-auth<3.0.0dev,>=2.14.1->google-cloud-aiplatform) (0.4.1)\n",
      "Requirement already satisfied: rsa<5,>=3.1.4 in /opt/conda/lib/python3.10/site-packages (from google-auth<3.0.0dev,>=2.14.1->google-cloud-aiplatform) (4.9)\n",
      "Requirement already satisfied: grpc-google-iam-v1<1.0.0dev,>=0.12.4 in /opt/conda/lib/python3.10/site-packages (from google-cloud-resource-manager<3.0.0dev,>=1.3.3->google-cloud-aiplatform) (0.13.1)\n",
      "Requirement already satisfied: pytz>=2020.1 in /opt/conda/lib/python3.10/site-packages (from pandas>=1.1.0->google-cloud-bigquery[pandas]) (2024.2)\n",
      "Requirement already satisfied: tzdata>=2022.7 in /opt/conda/lib/python3.10/site-packages (from pandas>=1.1.0->google-cloud-bigquery[pandas]) (2024.2)\n",
      "Requirement already satisfied: annotated-types>=0.6.0 in /opt/conda/lib/python3.10/site-packages (from pydantic<3->google-cloud-aiplatform) (0.7.0)\n",
      "Requirement already satisfied: pydantic-core==2.23.4 in /opt/conda/lib/python3.10/site-packages (from pydantic<3->google-cloud-aiplatform) (2.23.4)\n",
      "Requirement already satisfied: typing-extensions>=4.6.1 in /opt/conda/lib/python3.10/site-packages (from pydantic<3->google-cloud-aiplatform) (4.12.2)\n",
      "Requirement already satisfied: six>=1.5 in /opt/conda/lib/python3.10/site-packages (from python-dateutil<3.0dev,>=2.7.3->google-cloud-bigquery[pandas]) (1.16.0)\n",
      "Requirement already satisfied: charset-normalizer<4,>=2 in /opt/conda/lib/python3.10/site-packages (from requests<3.0.0dev,>=2.18.0->google-cloud-storage) (3.3.2)\n",
      "Requirement already satisfied: idna<4,>=2.5 in /opt/conda/lib/python3.10/site-packages (from requests<3.0.0dev,>=2.18.0->google-cloud-storage) (3.10)\n",
      "Requirement already satisfied: urllib3<3,>=1.21.1 in /opt/conda/lib/python3.10/site-packages (from requests<3.0.0dev,>=2.18.0->google-cloud-storage) (1.26.20)\n",
      "Requirement already satisfied: certifi>=2017.4.17 in /opt/conda/lib/python3.10/site-packages (from requests<3.0.0dev,>=2.18.0->google-cloud-storage) (2024.8.30)\n",
      "Requirement already satisfied: pyasn1<0.7.0,>=0.4.6 in /opt/conda/lib/python3.10/site-packages (from pyasn1-modules>=0.2.1->google-auth<3.0.0dev,>=2.14.1->google-cloud-aiplatform) (0.6.1)\n",
      "Downloading google_cloud_storage-2.18.2-py2.py3-none-any.whl (130 kB)\n",
      "Downloading google_api_core-2.21.0-py3-none-any.whl (156 kB)\n",
      "Downloading google_cloud_bigquery-3.26.0-py2.py3-none-any.whl (239 kB)\n",
      "Installing collected packages: google-api-core, google-cloud-storage, google-cloud-bigquery\n",
      "\u001b[31mERROR: pip's dependency resolver does not currently take into account all the packages that are installed. This behaviour is the source of the following dependency conflicts.\n",
      "google-api-python-client 1.8.0 requires google-api-core<2dev,>=1.13.0, but you have google-api-core 2.21.0 which is incompatible.\u001b[0m\u001b[31m\n",
      "\u001b[0mSuccessfully installed google-api-core-2.21.0 google-cloud-bigquery-3.26.0 google-cloud-storage-2.18.2\n",
      "Note: you may need to restart the kernel to use updated packages.\n"
     ]
    }
   ],
   "source": [
    "%pip install --upgrade --user google-cloud-aiplatform google-cloud-storage 'google-cloud-bigquery[pandas]'"
   ]
  },
  {
   "cell_type": "markdown",
   "metadata": {
    "id": "R5Xep4W9lq-Z"
   },
   "source": [
    "### Restart current runtime\n",
    "\n",
    "To use the newly installed packages in this Jupyter runtime, you must restart the runtime. You can do this by running the cell below, which will restart the current kernel."
   ]
  },
  {
   "cell_type": "code",
   "execution_count": 3,
   "metadata": {
    "id": "XRvKdaPDTznN",
    "tags": []
   },
   "outputs": [
    {
     "data": {
      "text/plain": [
       "{'status': 'ok', 'restart': True}"
      ]
     },
     "execution_count": 3,
     "metadata": {},
     "output_type": "execute_result"
    }
   ],
   "source": [
    "# Restart kernel after installs so that your environment can access the new packages\n",
    "import IPython\n",
    "\n",
    "app = IPython.Application.instance()\n",
    "app.kernel.do_shutdown(True)"
   ]
  },
  {
   "cell_type": "markdown",
   "metadata": {
    "id": "SbmM4z7FOBpM"
   },
   "source": [
    "<div class=\"alert alert-block alert-warning\">\n",
    "<b>⚠️ The kernel is going to restart. Please wait until it is finished before continuing to the next step. ⚠️</b>\n",
    "</div>\n"
   ]
  },
  {
   "cell_type": "markdown",
   "metadata": {
    "id": "nCoTvkOJoh76"
   },
   "source": [
    "### Environment variables\n",
    "\n",
    "Sets environment variables. If asked, please replace the following `[your-project-id]` with your project ID and run it."
   ]
  },
  {
   "cell_type": "code",
   "execution_count": 1,
   "metadata": {
    "id": "fkmvFRrj3nQI",
    "tags": []
   },
   "outputs": [],
   "source": [
    "# get project ID\n",
    "PROJECT_ID = ! gcloud config get project\n",
    "PROJECT_ID = PROJECT_ID[0]\n",
    "LOCATION = \"us-central1\"\n",
    "if PROJECT_ID == \"(unset)\":\n",
    "    print(f\"Please set the project ID manually below\")"
   ]
  },
  {
   "cell_type": "code",
   "execution_count": 2,
   "metadata": {
    "id": "69XJ95rNoYG9",
    "tags": []
   },
   "outputs": [],
   "source": [
    "# define project information\n",
    "if PROJECT_ID == \"(unset)\":\n",
    "    PROJECT_ID = \"[your-project-id]\"  # @param {type:\"string\"}\n",
    "\n",
    "# generate an unique id for this session\n",
    "from datetime import datetime\n",
    "\n",
    "UID = datetime.now().strftime(\"%m%d%H%M\")"
   ]
  },
  {
   "cell_type": "markdown",
   "metadata": {
    "id": "ph7mDSMRVTIZ"
   },
   "source": [
    "### Authentication (Colab only)\n",
    "\n",
    "If you are running this notebook on Colab, you will need to run the following cell authentication. This step is not required if you are using Vertex AI Workbench as it is pre-authenticated."
   ]
  },
  {
   "cell_type": "code",
   "execution_count": 3,
   "metadata": {
    "id": "5jQkFtlimNXR",
    "tags": []
   },
   "outputs": [],
   "source": [
    "import sys\n",
    "\n",
    "# if it's Colab runtime, authenticate the user with Google Cloud\n",
    "if \"google.colab\" in sys.modules:\n",
    "    from google.colab import auth\n",
    "\n",
    "    auth.authenticate_user()"
   ]
  },
  {
   "cell_type": "markdown",
   "metadata": {
    "id": "jUPbl4IFLmC2"
   },
   "source": [
    "### Enable APIs\n",
    "\n",
    "Run the following to enable APIs for Compute Engine, Vertex AI, Cloud Storage and BigQuery with this Google Cloud project."
   ]
  },
  {
   "cell_type": "code",
   "execution_count": 4,
   "metadata": {
    "id": "qGf0qMMQNond",
    "tags": []
   },
   "outputs": [
    {
     "name": "stdout",
     "output_type": "stream",
     "text": [
      "Operation \"operations/acat.p2-941235496384-9655dccc-1cf8-403a-b332-251c66a2c416\" finished successfully.\n"
     ]
    }
   ],
   "source": [
    "! gcloud services enable compute.googleapis.com aiplatform.googleapis.com storage.googleapis.com bigquery.googleapis.com --project {PROJECT_ID}"
   ]
  },
  {
   "cell_type": "markdown",
   "metadata": {
    "id": "8cF8rkN3Lnhq"
   },
   "source": [
    "### Set IAM permissions\n",
    "\n",
    "Also, we need to add access permissions to the default service account for using those services.\n",
    "\n",
    "- Go to [the IAM page](https://console.cloud.google.com/iam-admin/) in the Console\n",
    "- Look for the principal for default compute service account. It should look like: `<project-number>-compute@developer.gserviceaccount.com`\n",
    "- Click the edit button at right and click `ADD ANOTHER ROLE` to add `Vertex AI User`, `BigQuery User` and `Storage Admin` to the account.\n",
    "\n",
    "This will look like this:\n",
    "\n",
    "![](https://storage.googleapis.com/github-repo/img/embeddings/vs-quickstart/iam-setting.png)"
   ]
  },
  {
   "cell_type": "markdown",
   "metadata": {
    "id": "mahCxLXHMIls"
   },
   "source": [
    "## Getting Started with Vertex AI Embeddings for Text\n",
    "\n",
    "Now it's ready to get started with embeddings!"
   ]
  },
  {
   "cell_type": "markdown",
   "metadata": {
    "id": "rq07_-o0VoZD"
   },
   "source": [
    "### Data Preparation\n",
    "\n",
    "We will be using [the Stack Overflow public dataset](https://console.cloud.google.com/marketplace/product/stack-exchange/stack-overflow) hosted on BigQuery table `bigquery-public-data.stackoverflow.posts_questions`. This is a very big dataset with 23 million rows that doesn't fit into the memory. We are going to limit it to 1000 rows for this tutorial."
   ]
  },
  {
   "cell_type": "code",
   "execution_count": 5,
   "metadata": {
    "id": "snrzPsEQDH4S",
    "tags": []
   },
   "outputs": [
    {
     "data": {
      "text/html": [
       "<div>\n",
       "<style scoped>\n",
       "    .dataframe tbody tr th:only-of-type {\n",
       "        vertical-align: middle;\n",
       "    }\n",
       "\n",
       "    .dataframe tbody tr th {\n",
       "        vertical-align: top;\n",
       "    }\n",
       "\n",
       "    .dataframe thead th {\n",
       "        text-align: right;\n",
       "    }\n",
       "</style>\n",
       "<table border=\"1\" class=\"dataframe\">\n",
       "  <thead>\n",
       "    <tr style=\"text-align: right;\">\n",
       "      <th></th>\n",
       "      <th>id</th>\n",
       "      <th>title</th>\n",
       "    </tr>\n",
       "  </thead>\n",
       "  <tbody>\n",
       "    <tr>\n",
       "      <th>0</th>\n",
       "      <td>73422998</td>\n",
       "      <td>merge rows based on a specific date interval</td>\n",
       "    </tr>\n",
       "    <tr>\n",
       "      <th>1</th>\n",
       "      <td>73462590</td>\n",
       "      <td>why real-time DEVS are always in sync in DEVS/SOA</td>\n",
       "    </tr>\n",
       "    <tr>\n",
       "      <th>2</th>\n",
       "      <td>73463551</td>\n",
       "      <td>Modernizing and simplifying an old node.js+mon...</td>\n",
       "    </tr>\n",
       "    <tr>\n",
       "      <th>3</th>\n",
       "      <td>73485120</td>\n",
       "      <td>Print arabic characters using logstash exec pl...</td>\n",
       "    </tr>\n",
       "    <tr>\n",
       "      <th>4</th>\n",
       "      <td>73341249</td>\n",
       "      <td>Auditing packages brings back more errors</td>\n",
       "    </tr>\n",
       "  </tbody>\n",
       "</table>\n",
       "</div>"
      ],
      "text/plain": [
       "         id                                              title\n",
       "0  73422998       merge rows based on a specific date interval\n",
       "1  73462590  why real-time DEVS are always in sync in DEVS/SOA\n",
       "2  73463551  Modernizing and simplifying an old node.js+mon...\n",
       "3  73485120  Print arabic characters using logstash exec pl...\n",
       "4  73341249          Auditing packages brings back more errors"
      ]
     },
     "execution_count": 5,
     "metadata": {},
     "output_type": "execute_result"
    }
   ],
   "source": [
    "# load the BQ Table into a Pandas DataFrame\n",
    "from google.cloud import bigquery\n",
    "\n",
    "QUESTIONS_SIZE = 1000\n",
    "\n",
    "bq_client = bigquery.Client(project=PROJECT_ID)\n",
    "QUERY_TEMPLATE = \"\"\"\n",
    "        SELECT distinct q.id, q.title\n",
    "        FROM (SELECT * FROM `bigquery-public-data.stackoverflow.posts_questions`\n",
    "        where Score > 0 ORDER BY View_Count desc) AS q\n",
    "        LIMIT {limit} ;\n",
    "        \"\"\"\n",
    "query = QUERY_TEMPLATE.format(limit=QUESTIONS_SIZE)\n",
    "query_job = bq_client.query(query)\n",
    "rows = query_job.result()\n",
    "df = rows.to_dataframe()\n",
    "\n",
    "# examine the data\n",
    "df.head()"
   ]
  },
  {
   "cell_type": "markdown",
   "metadata": {
    "id": "j6022U1FWzpb"
   },
   "source": [
    "### Call the API to generate embeddings\n",
    "\n",
    "With the Stack Overflow dataset, we will use the `title` column (the question title) and generate embedding for it with Embeddings for Text API. The API is available under the [vertexai](https://cloud.google.com/python/docs/reference/aiplatform/latest/vertexai) package of the SDK.\n",
    "\n",
    "You may see some warning messages from the TensorFlow library but you can ignore them."
   ]
  },
  {
   "cell_type": "code",
   "execution_count": 6,
   "metadata": {
    "id": "pY8M4DqO8wGx",
    "tags": []
   },
   "outputs": [],
   "source": [
    "# init the vertexai package\n",
    "import vertexai\n",
    "\n",
    "vertexai.init(project=PROJECT_ID, location=LOCATION)"
   ]
  },
  {
   "cell_type": "markdown",
   "metadata": {
    "id": "jrG82n-y-EC5"
   },
   "source": [
    "From the package, import [TextEmbeddingModel](https://cloud.google.com/python/docs/reference/aiplatform/latest/vertexai.language_models.TextEmbeddingModel) and get a model."
   ]
  },
  {
   "cell_type": "code",
   "execution_count": 7,
   "metadata": {
    "id": "YVLHjSeOGoTu",
    "tags": []
   },
   "outputs": [],
   "source": [
    "# Load the text embeddings model\n",
    "from vertexai.language_models import TextEmbeddingModel\n",
    "\n",
    "model = TextEmbeddingModel.from_pretrained(\"textembedding-gecko@001\")"
   ]
  },
  {
   "cell_type": "markdown",
   "metadata": {
    "id": "FqdVsgZDb_hc"
   },
   "source": [
    "In this tutorial we will use `textembedding-gecko@001` model for getting text embeddings. Please take a look at [Supported models](https://cloud.google.com/vertex-ai/docs/generative-ai/embeddings/get-text-embeddings#supported_models) on the doc to see the list of supported models.\n",
    "\n",
    "Once you get the model, you can call its [get_embeddings](https://cloud.google.com/python/docs/reference/aiplatform/latest/vertexai.language_models.TextEmbeddingModel#vertexai_language_models_TextEmbeddingModel_get_embeddings) function to get embeddings. You can pass up to 5 texts at once in a call. But there is a caveat. By default, the text embeddings API has a \"request per minute\" quota set to 60 for new Cloud projects and 600 for projects with usage history (see [Quotas and limits](https://cloud.google.com/vertex-ai/docs/quotas#request_quotas) to check the latest quota value for `base_model:textembedding-gecko`). So, rather than using the function directly, you may want to define a wrapper like below to limit under 10 calls per second, and pass 5 texts each time."
   ]
  },
  {
   "cell_type": "code",
   "execution_count": 8,
   "metadata": {
    "id": "8HUb9u_P2VWW",
    "tags": []
   },
   "outputs": [],
   "source": [
    "import time\n",
    "\n",
    "import tqdm  # to show a progress bar\n",
    "\n",
    "# get embeddings for a list of texts\n",
    "BATCH_SIZE = 5\n",
    "\n",
    "\n",
    "def get_embeddings_wrapper(texts):\n",
    "    embs = []\n",
    "    for i in tqdm.tqdm(range(0, len(texts), BATCH_SIZE)):\n",
    "        time.sleep(1)  # to avoid the quota error\n",
    "        result = model.get_embeddings(texts[i : i + BATCH_SIZE])\n",
    "        embs = embs + [e.values for e in result]\n",
    "    return embs"
   ]
  },
  {
   "cell_type": "markdown",
   "metadata": {
    "id": "aK4eTSPfcEuh"
   },
   "source": [
    "The following code will get embedding for the question titles and add them as a new column `embedding` to the DataFrame. This will take a few minutes."
   ]
  },
  {
   "cell_type": "code",
   "execution_count": 9,
   "metadata": {
    "id": "FcqPvu4PluN1",
    "tags": []
   },
   "outputs": [
    {
     "name": "stderr",
     "output_type": "stream",
     "text": [
      "100%|██████████| 200/200 [03:39<00:00,  1.10s/it]\n"
     ]
    },
    {
     "data": {
      "text/html": [
       "<div>\n",
       "<style scoped>\n",
       "    .dataframe tbody tr th:only-of-type {\n",
       "        vertical-align: middle;\n",
       "    }\n",
       "\n",
       "    .dataframe tbody tr th {\n",
       "        vertical-align: top;\n",
       "    }\n",
       "\n",
       "    .dataframe thead th {\n",
       "        text-align: right;\n",
       "    }\n",
       "</style>\n",
       "<table border=\"1\" class=\"dataframe\">\n",
       "  <thead>\n",
       "    <tr style=\"text-align: right;\">\n",
       "      <th></th>\n",
       "      <th>id</th>\n",
       "      <th>title</th>\n",
       "      <th>embedding</th>\n",
       "    </tr>\n",
       "  </thead>\n",
       "  <tbody>\n",
       "    <tr>\n",
       "      <th>0</th>\n",
       "      <td>73422998</td>\n",
       "      <td>merge rows based on a specific date interval</td>\n",
       "      <td>[-0.0328812412917614, -0.0014272424159571528, ...</td>\n",
       "    </tr>\n",
       "    <tr>\n",
       "      <th>1</th>\n",
       "      <td>73462590</td>\n",
       "      <td>why real-time DEVS are always in sync in DEVS/SOA</td>\n",
       "      <td>[-0.03012823313474655, -0.0016480979975312948,...</td>\n",
       "    </tr>\n",
       "    <tr>\n",
       "      <th>2</th>\n",
       "      <td>73463551</td>\n",
       "      <td>Modernizing and simplifying an old node.js+mon...</td>\n",
       "      <td>[0.001737187965773046, -0.015506032854318619, ...</td>\n",
       "    </tr>\n",
       "    <tr>\n",
       "      <th>3</th>\n",
       "      <td>73485120</td>\n",
       "      <td>Print arabic characters using logstash exec pl...</td>\n",
       "      <td>[-0.037790603935718536, -0.0035946827847510576...</td>\n",
       "    </tr>\n",
       "    <tr>\n",
       "      <th>4</th>\n",
       "      <td>73341249</td>\n",
       "      <td>Auditing packages brings back more errors</td>\n",
       "      <td>[-0.03214360401034355, -0.0032540145330131054,...</td>\n",
       "    </tr>\n",
       "  </tbody>\n",
       "</table>\n",
       "</div>"
      ],
      "text/plain": [
       "         id                                              title  \\\n",
       "0  73422998       merge rows based on a specific date interval   \n",
       "1  73462590  why real-time DEVS are always in sync in DEVS/SOA   \n",
       "2  73463551  Modernizing and simplifying an old node.js+mon...   \n",
       "3  73485120  Print arabic characters using logstash exec pl...   \n",
       "4  73341249          Auditing packages brings back more errors   \n",
       "\n",
       "                                           embedding  \n",
       "0  [-0.0328812412917614, -0.0014272424159571528, ...  \n",
       "1  [-0.03012823313474655, -0.0016480979975312948,...  \n",
       "2  [0.001737187965773046, -0.015506032854318619, ...  \n",
       "3  [-0.037790603935718536, -0.0035946827847510576...  \n",
       "4  [-0.03214360401034355, -0.0032540145330131054,...  "
      ]
     },
     "execution_count": 9,
     "metadata": {},
     "output_type": "execute_result"
    }
   ],
   "source": [
    "# get embeddings for the question titles and add them as \"embedding\" column\n",
    "df = df.assign(embedding=get_embeddings_wrapper(list(df.title)))\n",
    "df.head()"
   ]
  },
  {
   "cell_type": "markdown",
   "metadata": {
    "id": "nB53SiJjVN6e"
   },
   "source": [
    "## Look at the embedding similarities\n",
    "\n",
    "Let's see how these embeddings are organized in the embedding space with their meanings by quickly calculating the similarities between them and sorting them.\n",
    "\n",
    "As embeddings are vectors, you can calculate similarity between two embeddings by using one of the popular metrics like the followings:\n",
    "\n",
    "![](https://storage.googleapis.com/github-repo/img/embeddings/textemb-vs-notebook/8.png)\n",
    "\n",
    "Which metric should we use? Usually it depends on how each model is trained. In case of the model `textembedding-gecko@001`, we need to use inner product (dot product).\n",
    "\n",
    "In the following code, it picks up one question randomly and uses the numpy `np.dot` function to calculate the similarities between the question and other questions."
   ]
  },
  {
   "cell_type": "code",
   "execution_count": 10,
   "metadata": {
    "id": "lKs6jSu7NiM6",
    "tags": []
   },
   "outputs": [
    {
     "data": {
      "text/plain": [
       "array([0.47903267, 0.44678565, 0.52793021, 0.47078194, 0.46035805])"
      ]
     },
     "execution_count": 10,
     "metadata": {},
     "output_type": "execute_result"
    }
   ],
   "source": [
    "import random\n",
    "\n",
    "import numpy as np\n",
    "\n",
    "# pick one of them as a key question\n",
    "key = random.randint(0, len(df))\n",
    "\n",
    "# calc dot product between the key and other questions\n",
    "embs = np.array(df.embedding.to_list())\n",
    "similarities = np.dot(embs[key], embs.T)\n",
    "\n",
    "# print similarities for the first 5 questions\n",
    "similarities[:5]"
   ]
  },
  {
   "cell_type": "markdown",
   "metadata": {
    "id": "srM04lJBQp4w"
   },
   "source": [
    "Finally, sort the questions with the similarities and print the list."
   ]
  },
  {
   "cell_type": "code",
   "execution_count": 11,
   "metadata": {
    "id": "lTUVvj9FQlab",
    "tags": []
   },
   "outputs": [
    {
     "name": "stdout",
     "output_type": "stream",
     "text": [
      "Key question: Following a Python Snake Game tutorial - I don't understand this part\n",
      "\n",
      "1.0000 Following a Python Snake Game tutorial - I don't understand this part\n",
      "0.6802 How to make my tile system work with pygame in python\n",
      "0.6628 cant get raycast to work from angles 90 to 270 pygame\n",
      "0.6556 How to pass some initial value in the first iteration of the loop and then pass the derived values in the subsequent iterations in python?\n",
      "0.6550 python re.sub problems backreferencing from a function\n",
      "0.6489 understanding the logic of Pandas.sort_values in python\n",
      "0.6477 Python: Check if element is less than the next elements\n",
      "0.6429 How to get a character walking in pygame?\n",
      "0.6365 Turtle graphics - screen updates with tracer not working as expected\n",
      "0.6363 How to use python decorators with recursive functions?\n",
      "0.6337 Wrong snakemake glob_wilcards and wildcard_constraints\n",
      "0.6282 I am attempting to make game objects spawn at random points along the Y-Axis\n",
      "0.6260 Problems re-appending spaces to a string in python\n",
      "0.6255 PyScript ModuleNotFoundError: No module named '_lzma'\n",
      "0.6211 Why am I getting a random string and not the expected output in Beautiful soup in Python?\n",
      "0.6185 Why does the third iteration of my code return incorrectly?\n",
      "0.6171 Replacing copyright symbol python\n",
      "0.6153 How load() is supposed to be used\n",
      "0.6131 creating dynamic lists with configured values in python\n",
      "0.6120 AttributeError when I use libsvm on python\n"
     ]
    }
   ],
   "source": [
    "# print the question\n",
    "print(f\"Key question: {df.title[key]}\\n\")\n",
    "\n",
    "# sort and print the questions by similarities\n",
    "sorted_questions = sorted(\n",
    "    zip(df.title, similarities), key=lambda x: x[1], reverse=True\n",
    ")[:20]\n",
    "for i, (question, similarity) in enumerate(sorted_questions):\n",
    "    print(f\"{similarity:.4f} {question}\")"
   ]
  },
  {
   "cell_type": "markdown",
   "metadata": {
    "id": "S75SQzAg1wHV"
   },
   "source": [
    "# Find embeddings fast with Vertex AI Vector Search\n",
    "\n",
    "As we have explained above, you can find similar embeddings by calculating the distance or similarity between the embeddings.\n",
    "\n",
    "But this isn't easy when you have millions or billions of embeddings. For example, if you have 1 million embeddings with 768 dimensions, you need to repeat the distance calculations for 1 million x 768 times. This would take some seconds - too slow."
   ]
  },
  {
   "cell_type": "markdown",
   "metadata": {
    "id": "0sjhTy-a47YH"
   },
   "source": [
    "So the researchers have been studying a technique called [Approximate Nearest Neighbor (ANN)](https://en.wikipedia.org/wiki/Nearest_neighbor_search) for faster search. ANN uses \"vector quantization\" for separating the space into multiple spaces with a tree structure. This is similar to the index in relational databases for improving the query performance, enabling very fast and scalable search with billions of embeddings.\n",
    "\n",
    "With the rise of LLMs, the ANN is getting popular quite rapidly, known as the Vector Search technology.\n",
    "\n",
    "![](https://storage.googleapis.com/gweb-cloudblog-publish/images/7._ANN.1143068821171228.max-2200x2200.png)\n",
    "\n",
    "In 2020, Google Research published a new ANN algorithm called [ScaNN](https://ai.googleblog.com/2020/07/announcing-scann-efficient-vector.html). It is considered one of the best ANN algorithms in the industry, also the most important foundation for search and recommendation in major Google services such as Google Search, YouTube and many others.\n"
   ]
  },
  {
   "cell_type": "markdown",
   "metadata": {
    "id": "xVOL8BgM2isz"
   },
   "source": [
    "## What is Vertex AI Vector Search?\n",
    "\n",
    "Google Cloud developers can take the full advantage of Google's vector search technology with [Vertex AI Vector Search](https://cloud.google.com/vertex-ai/docs/vector-search/overview) (previously called Matching Engine). With this fully managed service, developers can just add the embeddings to its index and issue a search query with a key embedding for the blazingly fast vector search. In the case of the Stack Overflow demo, Vector Search can find relevant questions from 8 million embeddings in tens of milliseconds.\n",
    "\n",
    "![](https://storage.googleapis.com/github-repo/img/embeddings/textemb-vs-notebook/9.png)\n",
    "\n",
    "With Vector Search, you don't need to spend much time and money building your own vector search service from scratch or using open source tools if your goal is high scalability, availability and maintainability for production systems."
   ]
  },
  {
   "cell_type": "markdown",
   "metadata": {
    "id": "uBt8tjidSzyU"
   },
   "source": [
    "## Get Started with Vector Search\n",
    "\n",
    "When you already have the embeddings, then getting started with Vector Search is pretty easy. In this section, we will follow the steps below.\n",
    "\n",
    "### Setting up Vector Search\n",
    "- Save the embeddings in JSON files on Cloud Storage\n",
    "- Build an Index\n",
    "- Create an Index Endpoint\n",
    "- Deploy the Index to the endpoint\n",
    "\n",
    "### Use Vector Search\n",
    "\n",
    "- Query with the endpoint\n",
    "\n",
    "### **Tip for Colab users**\n",
    "\n",
    "If you use Colab for this tutorial, you may lose your runtime while you are waiting for the Index building and deployment in the later sections as it takes tens of minutes. In that case, run the following sections again with the new instance to recover the runtime: [Install Python SDK, Environment variables and Authentication](https://colab.research.google.com/drive/1xJhLFEyPqW0qvKiERD6aYgeTHa6_U50N?resourcekey=0-2qUkxckCjt6W03AsqvZHhw#scrollTo=AtXnXhF8U-8R&line=9&uniqifier=1).\n",
    "\n",
    "Then, use the [Utilities](https://colab.research.google.com/drive/1xJhLFEyPqW0qvKiERD6aYgeTHa6_U50N?resourcekey=0-2qUkxckCjt6W03AsqvZHhw#scrollTo=BE1tELsH-u8N&line=1&uniqifier=1) to recover the Index and Index Endpoint and continute with the rest."
   ]
  },
  {
   "cell_type": "markdown",
   "metadata": {
    "id": "6pu1a3zjfQ0D"
   },
   "source": [
    "### Save the embeddings in a JSON file\n",
    "To load the embeddings to Vector Search, we need to save them in JSON files with JSONL format. See more information in the docs at [Input data format and structure](https://cloud.google.com/vertex-ai/docs/matching-engine/match-eng-setup/format-structure#data-file-formats).\n",
    "\n",
    "First, export the `id` and `embedding` columns from the DataFrame in JSONL format, and save it."
   ]
  },
  {
   "cell_type": "code",
   "execution_count": 12,
   "metadata": {
    "id": "GzZ30d4j_uLU",
    "tags": []
   },
   "outputs": [
    {
     "name": "stdout",
     "output_type": "stream",
     "text": [
      "{\"id\":73422998,\"embedding\":[-0.0328812413,-0.0014272424,-0.0164171513,0.0156355686,0.0089899581,-0.0113092195,-0.049591817,0.0239915289,0.0255861077,0.0361649953,0.0457717478,-0.0077851242,0.0219536778,-0.0065634716,0.0147749251,-0.0395318605,-0.07152576,-0.0119689731,0.0045166239,-0.0124982232,-0.0296483897,0.037820708,0.0343234278,-0.0035847381,-0.0004932554,-0.0618307181,0.0064909244,-0.0444712937,-0.0174099393,-0.0049750842,-0.0291252863,0.0254711993,0.0029158792,-0.0016761395,0.0159194916,0.0072222687,0.0137389461,0.0439540185,-0.0417973511,0.0097888913,-0.0018813786,0.0169229507,-0.0299995132,0.0292902086,-0.0116693489,-0.023827536,-0.029742267,0.0179490782,0.0135939764,-0.0724141821,-0.0045963596,-0.0559656098,0.0180341769,0.0662234649,0.0425155945,0.0324024297,-0.0132778604,-0.0050997296,-0.0205196366,-0.0184070673,0.0624139234,-0.0237672869,0.0165869649,0.0128709478,0.0021903168,0.0400445983,-0.007329769,0.0069545675,-0.045541767,0.019875586,0.0282672141,-0.022966506,-0.0269129463,0.016404286,0.0599887744,0.0044662305,0.0067106737,0.0027774102,0.0434133373,-0.0478645749,0.0087455818,-0.0725583732,-0.0233071148,-0.1380384117,-0.0187945254,0.0542574599,-0.0489073992,0.0305967219,-0.0655359849,-0.0317332223,0.009235193,-0.0162767507,-0.0098783979,0.0517728031,-0.0089731654,0.0012534154,-0.0325810313,0.0382208526,-0.0135388114,-0.0217962787,-0.0250090342,-0.0346493199,0.0488543808,0.0079745259,0.0487527177,-0.0615896881,-0.0093353949,0.050957486,0.0008606609,-0.0975706503,-0.083476752,-0.0423445366,-0.0175216272,0.0128646232,-0.0588969588,0.0044658803,-0.0090124011,-0.0103195747,0.0153734656,-0.0125076706,-0.0225136001,0.0361242741,0.042871438,0.010036068,-0.0090168165,0.021179894,0.0428894125,0.019978635,-0.0161056761,-0.0040472075,-0.0171930902,-0.0250246655,-0.0337689146,-0.0599217936,0.0095806299,-0.0182427578,0.0039332877,-0.024231391,0.0342160463,0.0281278454,-0.0303676166,0.0409623682,0.0054244767,-0.0115942424,-0.0044039739,-0.0190158058,0.0189710334,0.0064412253,-0.0796414986,-0.0298913065,0.030894801,0.0219684783,-0.0408706442,-0.0056055035,0.0241052546,0.0114069115,0.015292516,0.0216227472,0.0126702683,-0.0345316827,0.0060448232,-0.0465343595,0.0128857717,0.0136048608,0.0580891371,-0.0210822392,0.0522553287,-0.0170993991,0.0001976683,0.0121718962,0.0129343616,-0.0796968415,0.0105770314,-0.043438565,0.0310820322,-0.0467966497,-0.0087658288,0.0382487513,0.0216604192,-0.0028423902,0.0191524588,-0.0102745257,0.0208123121,-0.0405094884,-0.0574128255,0.0320549235,-0.0462361351,-0.0206353981,-0.0486518368,0.0524835661,-0.0071279262,0.0311634801,0.0452340282,-0.0375958309,-0.0145418067,0.0002958251,0.0828713998,-0.1050934866,0.0108587118,0.0032317233,-0.0041129515,-0.009055485,0.0631541908,-0.008446903,-0.0175180379,0.0001534197,-0.0240224283,-0.0372503959,-0.0019079091,0.0231231786,0.0491729379,-0.0003566318,0.020894438,-0.0080946069,0.0697930977,-0.0850209221,0.0237268545,-0.064500846,-0.0861957967,0.0002373091,-0.0091164643,0.0014152956,0.0757202059,-0.0292116459,-0.0023237281,0.0470842496,0.053982839,0.017330518,0.0566241741,0.0558075346,-0.0022684275,-0.0281055905,-0.0003034794,-0.0077033062,-0.0540248007,0.0691175461,0.0415907651,-0.036206767,-0.0923307389,0.0020535337,0.0369328223,0.0142293284,0.0089353118,0.0434235185,-0.0032143563,0.0035821341,-0.0055896239,0.0711834654,0.0557196476,-0.042437572,0.0683327243,-0.0723125115,-0.0106395064,0.0243645404,0.0188663527,0.0045040483,0.0086653205,0.0321848392,-0.0251192022,0.0273530744,-0.0218582675,0.008837481,-0.0205089059,0.0913219303,-0.0038292778,-0.0342972055,0.0112450598,-0.0563634746,0.050654877,-0.0060956744,-0.0026071819,-0.0227622371,-0.0337070227,0.0569386445,-0.0029602004,0.0200651232,0.006308544,0.0632819831,0.0092868358,0.0618507788,-0.0306911673,0.0228541754,0.0210263692,0.0296207387,0.0043509472,0.0553313196,-0.0525376052,-0.0139050614,-0.0446772389,-0.0249868613,-0.0159661453,0.0019582894,-0.0247791447,0.0470369235,-0.019094253,-0.0411260054,0.0104708727,-0.0520434678,-0.0227485485,0.0553618185,-0.0423382558,0.0149829183,0.0221477002,-0.0000217267,0.0065415879,-0.0354322568,0.0331687219,0.007992221,0.03524708,0.0118564218,-0.0387776792,0.0073492685,0.072773926,0.0552252382,-0.0494969077,0.0026893418,-0.0100783771,-0.018882338,-0.0718108416,0.0415267907,-0.0522364303,-0.0276280195,0.0560677275,-0.0229390711,0.0035410086,0.039236445,0.050878454,-0.0100344094,0.0863213167,-0.0036646621,-0.0066326153,-0.0102023659,-0.0112313507,0.0130012268,0.0518627018,-0.0087641217,0.0563056357,-0.0047297371,0.0142152794,-0.0318364836,-0.007244762,0.0356454551,-0.0413787067,-0.0091303578,-0.0282877497,0.0521238968,-0.0400198773,-0.04914454,0.0053705443,-0.0768955573,-0.0144152194,-0.0305833668,0.0112003917,0.0576658919,0.0086030541,0.0079798317,-0.0160856843,0.0335958153,0.0413850211,0.0012834326,-0.0219370425,0.0054152929,-0.0094883582,0.0159419235,0.0328063443,0.0251597334,-0.0649978444,0.0349298716,0.0498740822,0.0137711363,-0.0219402462,-0.0063946568,0.0273167733,-0.0099690324,-0.0621824488,0.0259511322,-0.0297773015,0.0148680387,0.0199974049,0.0228651576,0.0230472982,-0.0279077329,-0.0225539301,-0.0277790688,0.0053434307,0.0417547375,0.0558608882,0.0321726948,0.0238871183,-0.0365872122,0.0026478576,0.0469960682,0.0373962037,0.0263480227,-0.02288175,0.0248002782,-0.0124990363,-0.0104242116,-0.0003344438,-0.0240429584,0.0052992329,0.0199809019,-0.065906167,-0.074509114,0.0213652961,0.0301501118,0.0550627038,0.0496094376,0.0139516285,-0.0226873048,0.0402386747,-0.000449749,-0.002775315,-0.002705506,0.0268953927,-0.0379263684,0.0346407965,-0.0476271808,-0.0398439355,0.0523464642,0.0175512321,-0.0107055549,-0.0404002257,0.0479570515,-0.0355296433,0.0249114148,-0.0593091063,0.0980520323,-0.0546595529,-0.0253489166,-0.0020698945,0.0339012891,0.044884596,-0.0591947548,0.0033900046,-0.0757775232,0.0823921114,0.0533535071,-0.0080863768,-0.0064901435,0.0092641143,-0.0130465711,-0.0322616845,0.0220675543,0.0308299456,-0.0548039488,-0.0202200301,-0.0024748384,-0.0162618421,-0.0525352284,-0.0364291072,0.0023100902,0.0137106795,0.0958064422,-0.0014585571,0.014477184,0.033564914,-0.0005244013,-0.0505732298,0.0112567004,-0.0302777756,-0.013887695,-0.0342249274,0.0315109603,-0.009216914,0.0096348468,-0.0130242035,0.0199090615,-0.001954766,0.0351461507,-0.038249664,0.029268017,-0.064141579,-0.0129924435,0.0092239715,-0.0203772094,0.0618042238,0.01330538,-0.0706313401,-0.0289026592,-0.0060160975,-0.0441961661,-0.0719638616,0.0005506227,0.018647233,0.0165325385,-0.0013124557,0.0060270792,-0.0576971546,-0.0143407686,-0.0019910843,-0.0165029857,0.0089495489,0.0225286614,0.0221193992,-0.0218164623,-0.0374808274,0.0198104214,-0.0307082683,-0.0018023277,0.0565129891,0.0300357174,0.0051845801,-0.0181127377,-0.0272874404,0.0052609676,-0.0090038218,-0.0043112161,0.0081624305,0.0099886339,0.0261165928,0.0349185914,-0.0285271946,-0.0862702057,-0.0347099602,-0.0612681098,0.0395993777,0.0351188406,0.0013314249,-0.0540271066,-0.0790088624,0.0519171543,-0.0110698771,0.0199890975,0.0094713885,0.000917735,0.0205961894,-0.0560787953,-0.0860637575,0.0080060093,0.0015056318,0.0210596528,0.0120460503,0.0626365021,-0.0244787931,-0.0213371962,0.0522496402,0.0260126945,0.0700299665,0.0700844675,-0.0024281631,-0.0847287625,-0.0262755007,0.0722939,0.0218437705,0.0304666758,-0.0165895633,0.0217060614,-0.0423021577,0.0164977498,0.0463620424,-0.0262075253,0.0322025008,0.0434319563,-0.003741585,-0.0067425305,0.0330648087,-0.080627352,-0.0407230929,-0.0123010399,-0.0456783585,0.0181645211,0.0309205614,-0.0467469394,0.0515749604,0.0100742485,0.0062476774,-0.0444580987,-0.007557062,0.0390929542,-0.0055390168,-0.0296768304,-0.0571208708,-0.0256112684,-0.0037877355,0.0346459374,0.0182679258,0.037618421,-0.0240012072,-0.0108455596,-0.010372702,0.0245884843,-0.0022799396,0.0339880884,-0.031516321,-0.0004377532,-0.0280385297,-0.0420570634,-0.0290209576,-0.0503545254,0.0094975419,-0.0768773705,-0.005605937,-0.0231298059,-0.0720063075,-0.0201722495,-0.0212352201,0.0260815956,0.0148100583,0.0389103927,-0.0192139428,-0.054263372,-0.0186731424,-0.0458963849,0.0079108328,-0.002349955,-0.0125609711,0.0407569036,-0.0011975648,0.0937395245,0.0524799451,0.0687894449,0.0194782708,-0.046107281,-0.0291086826,0.0176143683,-0.0210606568,0.0192690026,-0.0409193933,-0.0419479869,0.0689420849,-0.0285170954,-0.0176179428,-0.023045687,-0.0182838496,-0.0398579948,0.0315856151,0.0527518652,-0.021952711,-0.0365031548,0.0117707159,-0.057963796,-0.0213027,-0.0548753589,-0.0350078456,-0.0291850064,0.0155285699,0.0416692793,0.0865010619,0.0276435856,0.0174286272,-0.0036254241,0.0469731912,-0.0371781364,-0.0009186658,0.0118392995,0.0008414874,-0.0639801249,0.0132594649,0.016603088,0.0254533459,0.0078450153,-0.0549841858,-0.0348012857,0.0265067872,0.0211837236,-0.0149945645,0.0130404262,0.0230234638,0.0236599483,0.0714325011,0.0100135887,-0.0021289117,0.0471948981,-0.0832782388,0.0313984007,-0.0346110612,-0.0202105939,-0.0216964297,-0.0113206189,-0.0384749882,-0.0228266753,0.0123297628,-0.0285406429,0.0016398912,-0.0140189696,0.021775851,0.0544792898,0.0166760907,0.0298343692,-0.0543116964,0.0256003011,0.0207652487,0.0141857229,0.0094191656,-0.0398524515,-0.0115537178,-0.033957351,-0.0210023001,-0.0090930723,0.0196355302,0.0208752304,-0.0895195752,-0.0056259353,0.0252255611,-0.0141074779,-0.0170906615,-0.0157717615,-0.0169936251,-0.0210495554,-0.0035600204,0.0074430518,0.023089882,0.0289271679,0.0594820455,-0.0131894313,0.0318542533,-0.0493438691,-0.0217153616,-0.0307462905,0.0155239105,0.0034451243,0.0145283034,-0.0105293943,-0.0646507367,0.0473527722,-0.0990817323,-0.0135640074,0.0661524087,0.0278171785,-0.0367277414,0.0142101767,-0.0213748775,-0.0653669536,-0.0305085182,-0.0296181981,0.0005431165,0.0073128738,-0.0251003522,-0.0375615843,-0.0232883766,-0.0136804478,0.0753747076,0.0019406336,0.0429158174,-0.0279871486,0.0362788849,0.000043764,0.013751884,0.0218309946,-0.0007570601,-0.0396433771,0.0255947299,0.0456906781,0.0353606343,0.0066948188,0.0072636483,0.0006061537,0.0291797519,-0.0623865835,-0.0550241843,-0.0146361776,-0.0096306689,0.0154354898,0.0248637665,0.0645211115,-0.0101454845,0.0582019351,-0.0188027155,0.0405046865,-0.0138027407,0.0134507604,0.0122279935,0.0027061754,0.0579653941,0.0226438921,-0.0639459938,0.0220850706]}\n",
      "{\"id\":73462590,\"embedding\":[-0.0301282331,-0.001648098,-0.0557533018,0.0187108014,-0.0234174766,-0.0494904146,-0.0184661243,0.026618598,-0.0455333255,0.0436914973,0.0542231984,0.0074756187,0.0744292662,0.0030251567,-0.0315506496,0.0074506369,-0.040081013,-0.0289275516,0.0184167288,0.0552734025,-0.0672053099,0.024001861,-0.0388332941,0.0233538467,-0.0328686051,-0.0464255102,0.0225501172,0.0534648001,0.014802726,-0.0472425185,0.032188151,0.0005214334,-0.0166549012,-0.0225574449,0.0286743995,0.0154378554,0.0234639533,0.0553729348,-0.0034681601,-0.0043405285,0.0087724747,-0.0467305928,0.0284254551,-0.0136375176,0.002431086,0.0128097916,-0.0224712975,0.0230538957,0.010092089,-0.0356036238,0.0227174237,-0.0506240092,-0.0170169268,-0.0010636068,0.027174443,0.0120046875,-0.0532239266,0.0570835136,-0.0141855702,-0.0311576519,0.0130879041,0.0416398793,-0.0350085013,-0.0444419384,-0.0098432079,0.0610652938,0.0021988298,0.0090161869,0.002171566,-0.0120512359,0.0234235972,0.0107885431,-0.0371897332,0.031972941,0.0222481284,0.0239635091,-0.0060858899,-0.0065687667,0.04179281,-0.0244789775,0.0156740639,-0.0629205778,-0.0162334554,-0.1253723055,-0.0021112657,0.0714254677,0.0115036778,0.0535744764,-0.0107458588,0.0377510041,0.0055920249,0.0293443706,0.0078733871,0.0324466713,0.0188124087,0.010378045,-0.0218164213,0.0336768962,0.0061098435,0.0249528699,-0.0239534378,-0.0233349334,0.0377875529,0.0061261202,0.0233291909,0.0171108805,0.0127303377,-0.0188811496,-0.0209291931,-0.096034728,-0.0436892919,-0.0239558592,-0.0334469564,0.0201116987,-0.0050885016,-0.0077061066,-0.0329281688,-0.0063049444,0.0272926316,0.0278802812,-0.0226562526,-0.003043697,0.0358101875,0.0012935755,0.0237339195,0.0089591406,0.0478160232,-0.0267708953,-0.0453374386,-0.0468535312,0.0322199501,-0.0102789523,0.0553971566,-0.0100283753,0.0282743704,0.0135674234,0.0214174911,-0.0050456729,0.0063549224,0.0088405004,-0.0515278466,-0.0163198709,-0.0027375056,-0.0002890172,-0.0267811678,-0.0303671677,0.0046810675,-0.0282931887,-0.06044323,-0.0123401545,0.020154126,-0.0311530381,0.007226916,0.0288586859,0.0702596158,0.0266772788,0.0363819003,0.0131997131,-0.0190827977,-0.087561585,0.0085289869,-0.0475216769,0.0031352961,-0.0026428648,0.0535846129,-0.0082565481,0.0145495338,0.0191535875,0.0075586378,0.0068446812,0.0068787448,-0.1716148555,0.0354601704,-0.0158103406,0.04145642,-0.0291108638,-0.0137970774,0.0399228409,0.0204468071,0.0034657852,-0.0001417433,-0.0943288654,-0.0066601406,0.0394732095,-0.0718712881,-0.0587450154,-0.0574074686,-0.0447203629,0.0016619405,0.0589878857,-0.0406413972,0.0321285129,0.0269296709,-0.0276648942,-0.01226978,-0.0153807607,0.065255709,-0.0827002004,-0.0275259204,0.0571861044,-0.0041293106,-0.0317663699,-0.0209368635,0.031438373,0.0121430233,0.048045937,-0.088954173,0.0529070422,0.0266056433,0.0012080156,-0.0342641361,0.0011024532,0.0313851982,0.0022689628,0.0529415645,-0.0517964289,-0.0083811125,-0.0191319324,-0.0424673781,-0.0125058666,-0.0445037223,-0.0153646572,0.0398399085,0.0211514756,0.0431153886,-0.0200554263,-0.0393798277,-0.0068815034,0.0117480271,-0.0114293117,-0.0480236746,-0.0191672798,-0.0565678217,0.0096017038,-0.0427704155,0.0097358469,0.0227896422,0.0372332782,-0.0331732891,0.0454209186,0.009397408,0.0352389179,-0.0463561937,0.0034618333,0.01347489,-0.0484119058,0.011438272,0.0356425568,0.0140737994,-0.0210482292,0.0301238168,-0.0516276248,0.0198098607,-0.0046597682,0.0613022149,-0.0320654213,-0.0284640491,0.0458465293,-0.0097084381,0.0188778061,-0.0128499335,-0.0380893983,0.0221282411,0.0916574597,-0.0306957085,-0.0359667949,-0.0340515375,-0.0206267759,0.0404919237,-0.0051713865,-0.0530388057,0.0436773486,0.0245739166,-0.0035819178,-0.0189475268,0.033568982,-0.0239213537,0.0670163929,-0.0056184977,0.06615825,-0.0384600237,-0.0213267338,0.0629285574,0.0293092281,-0.0241024662,0.0631284416,-0.0349836275,-0.0125564262,-0.1038453579,-0.0097021358,-0.0030313963,0.0031135359,0.0047249389,0.0510224178,-0.0078083952,0.0036799512,0.0535457209,-0.0203935504,-0.0314828232,0.0627525151,0.0439917967,-0.0139569603,0.0257074069,-0.0171235334,0.0213274602,-0.041194547,0.0377945416,0.0168494768,-0.0409653857,0.0185731165,-0.0462774113,0.0239698682,0.0290059038,0.0169402044,-0.0093945498,0.0046042334,-0.0055235839,0.0158284437,-0.0302633811,0.0020139988,-0.0229514278,-0.022580998,0.074758172,-0.0056955814,0.0346522145,-0.0229869429,-0.0021817107,0.0043297461,0.0607831813,0.0071655428,-0.0324274525,0.0128478678,-0.0211835764,0.0582638867,0.0180059243,0.0040659588,0.0202203635,0.0076530338,-0.0445203967,-0.0643587783,0.004301399,-0.0278721489,-0.0118946256,-0.0558060482,-0.0208284054,0.0223657731,-0.024931252,-0.0324660353,-0.0206862595,-0.0144382548,0.0050773988,-0.0179629568,-0.0084424727,0.0611702614,-0.007029491,-0.0219554286,-0.0091897724,-0.0010739206,0.05154486,0.0341530479,-0.0351389349,-0.0205314104,-0.0460902192,-0.0217584297,0.0227152966,-0.0036742191,-0.0185847525,0.0453533083,0.0927136391,-0.0272500757,-0.0147536127,0.0232044589,-0.0012877021,0.0232937187,-0.0575959869,0.0173028279,-0.0521375015,-0.0000979111,0.0050514839,0.0108973077,-0.035191346,0.011845395,0.0432633311,0.0019882161,-0.0052879951,0.0177576486,0.0020438337,0.01728753,0.0299534965,-0.0073922314,0.0530673303,0.114987731,-0.0160833504,-0.0248549264,-0.0255400985,0.0034873113,-0.0135145104,-0.0268008541,0.0132376328,-0.0508126691,-0.0224220604,0.0182671808,-0.0471344031,-0.0183295403,0.0367661454,-0.0371974967,0.0312140584,-0.0159644652,0.0024878897,-0.0762955695,-0.0004126573,-0.0146646164,-0.0027913204,0.0214373507,0.081692785,-0.0075744814,-0.0072174165,-0.0173459817,0.0071312659,0.0303716995,0.0260457415,-0.0120278429,-0.0322738662,0.0401704572,0.0587257892,0.0208867174,-0.0437745713,0.1166627258,-0.0336224884,-0.0043616225,-0.003115017,0.0062412997,0.0147814862,-0.0123605169,-0.0125547685,0.015085184,0.0891681165,0.0403008759,-0.0031444922,0.0014018803,0.0113545498,-0.0168356486,-0.0290597044,0.0244628266,-0.0180951674,0.0003737767,-0.0366798453,-0.0355221741,-0.0062792962,-0.0548089594,-0.0416085422,-0.0231185071,0.0071464358,0.1333371997,-0.0393799245,0.0091895098,0.0249184538,-0.035040658,-0.0089051444,0.0211233068,0.0098245144,-0.0086419228,-0.0626288131,0.0558065698,0.0292835124,0.0181973148,0.037082985,0.0795500651,0.0132998042,0.0190454945,0.0044814632,0.0899190456,-0.0593442842,-0.0222777613,0.0390705094,0.0398999192,0.0727175325,0.044331193,-0.0228290223,0.010681387,-0.0166910253,-0.0086383326,-0.024641443,-0.0003047875,0.0084215421,0.0495796166,0.0716844872,-0.0428654216,-0.0423618294,0.0328003839,0.0411967337,-0.0481391624,0.0189706013,0.0203140192,-0.0048926119,-0.0132374335,-0.0114818281,0.0177625977,-0.0303801522,0.0399871469,0.0423197523,0.0450497791,0.0013243085,0.023453271,-0.0191020612,-0.021771675,0.0199460406,-0.0225836113,0.0167389456,0.0032066198,-0.0004289201,0.043156445,-0.0237007793,-0.0467021801,-0.0531942323,-0.0367737599,0.0063177962,0.0447253734,0.0001776773,-0.0453070961,-0.0194176715,0.0552436747,-0.0106127281,-0.0249473471,0.0501177683,-0.0069649988,0.0306217521,-0.0343500227,-0.0294481143,-0.0149084078,0.0153398328,0.0437088162,-0.0019935665,0.0269414801,0.0116188051,-0.0171941072,0.0528974943,-0.0108682467,-0.0153933521,0.0688410401,0.0515686795,-0.0271765143,0.0272653457,-0.0375768319,-0.0062277475,-0.0024231081,-0.0048599988,0.0278892256,-0.0287061259,0.0535978153,0.0122947283,0.013840531,-0.0300741624,0.0664429143,-0.0160147976,-0.0398354232,0.0369997323,-0.0431690179,0.0060305391,0.0014403258,0.0155350128,0.0628073364,0.0406397022,-0.0489697009,0.0178691,-0.0232768469,0.0235818978,0.0165886264,0.0030099398,0.0912821963,-0.0296791941,-0.0385815389,-0.0755604878,0.0770266131,-0.0149844233,0.0414113253,-0.015605255,0.0651359558,-0.0079175867,0.0071101505,-0.01924715,0.0322800614,-0.0218516216,-0.0016009551,-0.0363156088,-0.0186288189,0.0090357494,-0.0246294383,-0.0278066434,-0.0343511179,0.0743610412,-0.0560620911,-0.0211088583,-0.0272584595,-0.0074044233,-0.0362703167,-0.0067987656,-0.0351241343,0.0084172571,0.0182213429,0.0343593657,0.0399444588,0.0283277705,-0.022473814,0.0301801041,0.024402434,0.0547722392,0.0610204302,0.0012555666,0.0323979631,0.0051837023,0.014288459,0.0136935767,0.0326192081,-0.0473013595,-0.0032778038,0.0040609683,0.0102352323,-0.0021597659,-0.0057958984,0.0676428229,0.0172292888,-0.0021835119,-0.0547399372,0.0705010518,-0.0437285453,-0.0006406226,0.0224702656,0.0316156596,-0.0771526769,-0.0286799725,0.0291498341,-0.0088296579,-0.067025952,0.0257771015,-0.0186910331,-0.0028006174,0.0167596675,0.0379141867,0.0246994067,-0.0088396184,0.0321271457,0.005545849,0.0325748697,-0.0229915604,-0.0182199441,-0.0105834492,-0.0342934541,-0.0011603121,0.0283735599,0.003643888,-0.0517085418,-0.0209584106,-0.0787796602,0.0000467253,-0.0396385267,0.0258489326,-0.0668853968,-0.0146168256,0.0463246107,0.035414733,0.0219488256,-0.0375705883,0.0391069464,-0.0203774776,-0.0198121537,-0.0083483923,0.0680257902,-0.0050934129,0.0196440145,-0.0587912314,-0.036664106,0.0032682712,-0.0877061337,0.0443864688,-0.026959287,0.0683294907,-0.0150695704,0.0465355888,0.0275219753,-0.0506655015,0.0282871351,0.001614708,-0.0328096114,0.0141183576,-0.0012374541,-0.0416692607,-0.0324247144,0.0281834342,0.0229982585,-0.0319784991,0.0014024657,0.0268186312,-0.0245452952,0.040441215,-0.0594465174,-0.020230595,-0.0503399111,-0.0308685079,0.0665033758,0.0131218266,-0.0190715808,0.0515279472,0.0078409715,0.0867707431,-0.041617468,0.0237268191,-0.0158055425,0.0318839587,-0.0203820206,-0.0124328956,-0.0105678281,0.0005338503,-0.0199345946,-0.026461836,0.0306990184,0.0337301716,-0.0312100723,-0.0054506911,-0.0116006816,0.0275968648,0.0316016488,0.0510667302,-0.0212792363,0.029350115,-0.0058527174,-0.0031703564,-0.0527189448,-0.0494058765,0.0327820927,-0.0162808746,-0.0014399732,0.0453147255,0.0127852522,0.0190626718,-0.0796205252,0.0327740386,0.0287056658,0.0269378889,0.0207135845,-0.0064286124,0.0724023953,0.0348510407,-0.0191111844,0.0055424464,-0.0344827846,0.0312355421,0.0274860505,-0.0714845881,-0.0587576143,-0.0905340761,0.0164631568,0.0085343262,0.0572034754,0.0264765173,0.0687230825,-0.0095839892,0.00454921,0.0031903805,0.0202808306,0.0057996297,-0.0084088407,-0.0230182763,0.0506321527,0.0624890588,0.0126578994,-0.0637680739,-0.0099519081]}\n",
      "{\"id\":73463551,\"embedding\":[0.001737188,-0.0155060329,0.0102090882,0.0311341323,0.0267261807,-0.0501989312,-0.0127159366,-0.0455484279,-0.0055019339,0.0108107729,0.0215362497,0.0510441773,-0.0070315227,-0.029888371,0.0393726677,0.0391970687,0.0125959069,-0.0160443969,-0.0173750259,0.0159833115,-0.0723475069,0.0241381638,0.0324978642,-0.0491199493,0.032727927,-0.0476965867,0.0401874855,-0.0068335361,0.0101752644,0.0208963882,0.0084618852,0.0111202998,-0.0624874905,-0.0365311913,0.0045647267,0.046671547,-0.0359518938,0.0164557137,0.0069434037,0.0279920101,0.0139833661,-0.0136225419,0.0324984714,-0.0421008505,-0.0552929342,0.0165850706,-0.0388117731,0.0012840481,0.0085722674,-0.0884600505,-0.0096253883,-0.0154695166,-0.0643948168,0.017865289,-0.0082925679,-0.0187315345,-0.0648663789,-0.0079346243,-0.0263757743,-0.014216871,-0.0119956676,-0.0134491632,-0.0055297134,-0.0204407908,0.0339577459,0.0554304533,0.0508929193,-0.0091320239,-0.0028410915,-0.0086310878,0.0020647459,0.0336890705,-0.0406028815,0.0016228228,0.011111591,-0.0156842489,0.0011503824,0.0521004461,0.0468107797,-0.0194879863,0.0030610254,-0.127964884,-0.0412319675,-0.1038260385,-0.0448127761,0.0586033165,0.0568249598,0.0327881314,-0.0649790242,0.032744009,0.0393254161,0.0104190744,0.0196784809,0.054794658,0.0183478724,-0.0418115817,-0.0398491435,-0.0148840342,0.0138573674,0.0006721007,-0.0452270433,-0.036645133,0.0325104669,0.0137001984,0.0275953189,-0.0155281099,-0.031762857,0.0272739008,0.0136850029,-0.1043885052,-0.0569728985,0.0097129643,-0.0730091184,-0.0185688101,-0.0118732043,-0.0153374514,0.0068326513,-0.0081299869,0.0269442331,0.0022745684,-0.0050662602,0.0259601157,0.0159719326,-0.0117669934,-0.0027789699,-0.0253182221,0.0232260395,-0.0245497972,0.0204744209,0.0046355058,-0.0112916911,0.0380205959,-0.0248462409,-0.0458995551,0.0689629093,0.0313227773,-0.0165090803,0.0334837288,0.009436517,0.0116329268,-0.0236468837,0.0398648567,-0.006200192,0.0536212213,-0.000565548,-0.0554600656,0.020689439,0.0043387632,-0.0501194522,-0.0117596332,-0.0051783398,-0.0052099978,0.0374028869,0.0249408707,0.0058819684,0.0400523432,0.0454238914,0.0212542899,0.0205401927,-0.0455486104,0.0034368963,-0.0303918552,-0.0050189658,0.0152998492,-0.0142865619,0.0731434375,-0.0060602669,-0.0030834894,0.0375942215,0.0423633158,0.0143415397,-0.0790802538,0.0120556261,-0.0698373169,0.0160384178,-0.0028275726,0.0148211336,0.0017631752,0.0207537692,-0.005994936,-0.05067835,-0.0576391332,0.0114028677,-0.004997062,-0.0624966212,0.053415671,0.0151813366,-0.0386356525,-0.0092038093,0.0464585908,0.0129758818,-0.0354567058,0.0258320291,-0.0734857693,-0.030247746,0.0003373904,0.051417876,-0.0928078964,-0.0019684406,0.0322569385,0.0130535942,-0.0342748873,0.0323698819,0.0178440381,-0.0089744199,0.0245871544,-0.0556774139,0.0173269007,0.0167645887,0.0925679654,-0.008693289,-0.0398275219,0.0579580516,-0.0367799662,0.0389310904,-0.0148486849,-0.0183546972,-0.0622941218,-0.1091542765,0.0240193233,-0.0297153946,-0.0010481174,0.0736993775,-0.0176166892,0.0157863479,0.0439033397,-0.0194550287,0.0378445126,0.0273020472,0.0432523899,0.0164718553,0.0253621228,-0.0151277045,0.0034641644,-0.0399628542,0.0103386687,0.0136966472,-0.0053638141,-0.1088975668,0.0540040433,0.0069510811,0.0687673464,0.0110711893,0.0299066659,0.011855524,0.0338910744,-0.0284095556,0.1005879864,-0.0331520177,0.0176129024,0.0499483794,-0.0457537174,0.0089881169,0.0352840237,0.0229334105,-0.0043299994,0.0052713971,0.0721904188,-0.0311002955,0.0400660485,-0.0280625764,0.0187644865,0.0377885327,0.105595544,-0.0365881547,-0.0312195607,-0.0307106432,0.0035800717,0.0920434445,-0.0298276134,-0.032463517,-0.0017042147,0.0369335189,0.0004917905,-0.0140518267,0.0077174054,-0.0216701459,0.0558215044,0.0101707056,0.017565947,0.0308377557,-0.0073763523,0.0317192376,0.0413042493,0.0178697016,0.0258964095,0.0047412752,0.0038092476,-0.0492921062,0.006792685,0.0677109212,0.0189910047,-0.0044587734,0.0790324807,0.0314204283,-0.0344866253,0.0394607559,0.0106192557,-0.0264494233,0.0429089703,-0.0451144651,-0.0000545536,0.0181992799,-0.026406711,-0.0488044955,-0.0403914936,0.0533600263,0.0041670967,0.0458792113,0.0150705613,0.0264903568,-0.0000961508,0.0021958661,0.0451637581,-0.0257832892,-0.0192512032,-0.002938679,-0.0352022499,-0.0329426378,0.0610273108,-0.0264260694,-0.0413009115,-0.0088849124,-0.0143218385,0.0258795973,-0.0322714113,-0.0054272492,0.0172234252,0.0590108894,-0.0048265844,-0.0166139137,0.0068618553,0.016255619,-0.0450747237,-0.0170485061,0.007881552,0.0034130234,0.0563436933,0.02787848,0.0029893899,0.0150888739,-0.0366660841,-0.0240086988,0.0164886843,-0.0067176255,0.0054187826,-0.0195538774,-0.0427549668,-0.0490584671,-0.1002361849,-0.0151439514,0.0008038688,0.0107310619,0.0384349264,-0.0003273238,0.0472033247,0.005875356,0.0320759639,0.0418154486,0.0355285369,-0.0391286239,-0.0006361965,-0.0333990976,0.0540142618,0.0138446074,0.009353986,-0.0602120794,0.0295059104,0.0444806404,0.0308870822,-0.0196826104,-0.0021017946,0.0238364972,-0.0413877033,-0.0820469335,0.0419944227,-0.0001452789,-0.0612674616,0.0310122278,0.0175416414,-0.0064360769,0.0593984313,-0.009021393,-0.0246507302,-0.0066497615,-0.0131656509,0.0157580078,0.0139034893,-0.0099031636,-0.0125253107,0.0417035557,0.0463503189,0.0400780402,-0.0273209866,-0.0574697666,0.0293032862,-0.0290132407,0.0038016946,-0.0260987468,-0.0190735012,0.0204086266,-0.0176479965,-0.0733044818,-0.0493158624,-0.0046930364,0.0225774795,0.0490792654,0.0467677303,-0.0013321252,-0.0288081318,0.0180133767,0.0030194453,-0.0129833966,0.0138459932,0.0344611108,-0.0175367408,0.0054034311,-0.037546888,-0.0363694802,0.0078968676,-0.0029815619,-0.0159346014,-0.0952317938,-0.0009209569,-0.01045979,-0.0000517756,0.0132615454,0.0397470631,-0.0652706996,-0.0028423145,-0.0168331414,-0.0012899126,0.0116344467,-0.0167925805,-0.0579279326,-0.0199063774,0.0588742234,0.1393655539,-0.0029418608,0.0023837101,0.007218976,-0.0262588654,-0.0033028258,0.0059440741,0.0325140394,-0.0424479619,-0.0006968238,-0.0450648926,-0.0339845009,0.0062520793,-0.0291710719,-0.0047963699,-0.0049835546,0.0665108338,-0.0273250844,-0.0073972815,0.003880315,0.0039293016,-0.0236912929,-0.0032130419,0.0049288948,0.0155111989,-0.0483380742,0.0318636596,0.0348364897,0.0134809827,0.0227631312,0.0054739011,-0.0268521048,0.0150233842,-0.0585741177,0.0651124641,-0.0614423789,0.0110480497,0.0655928031,-0.0263599157,0.0252531562,0.0420817547,-0.0346813053,0.0029526455,-0.0196253583,-0.0248394478,0.0084001161,-0.0507026576,0.0391355902,0.0710828155,0.0565667264,-0.0071943239,-0.0531294271,-0.0035299887,0.0478633568,0.0344036669,0.0215156507,0.0040369513,-0.0020528201,-0.0209758803,0.0179234128,0.021646779,-0.0433156602,0.0314142704,-0.0231828298,0.0007715329,0.0195873696,0.0079156654,-0.0292148851,-0.0502581708,-0.0023408879,-0.0092168739,-0.0070093418,0.027502805,0.0271126702,0.0122832162,-0.0253415685,-0.0392439961,-0.0200136807,-0.0354655273,-0.0205943864,0.0218253843,0.0379151255,0.0021784282,-0.0319118015,0.023491811,-0.0189786032,0.031305667,0.0150068691,0.0323162414,-0.0139344027,0.0132663138,-0.0386708304,-0.0117047466,0.0083613014,0.0412530154,-0.0055081537,0.0259578787,0.0029515433,-0.0455266424,-0.0080003776,-0.0036284707,0.0927463174,0.0836077332,-0.0240857918,-0.0441421792,0.064697586,0.0113748983,-0.0061865165,-0.0365284458,0.0102762198,0.010068262,-0.0209916681,0.0136879049,-0.0277162995,-0.0183319133,-0.0169711336,0.0693112314,0.014223557,0.0050169392,-0.0143789016,-0.0217036903,-0.0149283782,-0.0515772216,-0.0120293163,0.050402049,-0.0125627154,-0.0691223741,0.0626384243,-0.0371408686,0.0264092237,0.0208084863,0.0428787954,0.0296138376,-0.0062097022,-0.0565707907,-0.0366781875,-0.0416164733,-0.0209054165,0.0240736231,0.0053190407,0.0309580136,-0.02667173,-0.0041684578,-0.0221290644,-0.0044819592,0.013006717,0.0625530556,-0.0650707036,0.0145413224,-0.0070303874,-0.0250768438,-0.0145442989,-0.0074637425,-0.0110177519,-0.1051668525,-0.0105608348,-0.0461396128,-0.0418690965,-0.0601195358,-0.0473677777,0.0281689148,0.0177850518,0.0255295821,0.034772303,0.0316414237,-0.0205438659,-0.0082445769,-0.0205057636,0.0040062722,0.0368949398,0.0000163739,0.0272243172,-0.0209038984,0.065913476,0.0492002368,-0.01236628,-0.0265189297,-0.0166040808,-0.0106556416,-0.0020493432,0.050585974,-0.0174829699,-0.0320585966,0.0714617819,-0.0249883831,-0.0333317481,-0.0655078366,0.0292212609,-0.0042083734,0.0261921529,-0.0049162451,-0.0438763574,-0.0178393405,0.0400037691,-0.0381391421,-0.0383086763,-0.0254845116,0.0413362272,-0.0653906688,0.0707871169,0.0363452844,0.0517676175,0.0057191132,0.0307799727,-0.0029168432,0.058650706,0.0188170765,-0.0153475106,0.0298844855,0.0007978773,-0.0824273601,-0.0088524912,0.0278347135,0.0388369486,-0.0080695506,-0.030603027,-0.0612147637,-0.0152398404,-0.0226150565,0.0109086307,0.0055763531,-0.0150421076,-0.0103617534,0.016899148,0.0218747929,0.0333010778,0.032959681,-0.0533632822,0.0746960416,-0.0314808898,-0.0104910787,0.0010820816,0.0090042213,-0.0392732918,-0.0049146395,0.0283315443,-0.0309575181,0.0630453229,0.0011090694,0.0314173885,-0.0040498725,0.0203022193,0.0381985158,-0.0319276266,-0.0501418673,0.0671441928,-0.0487697944,0.0306197386,-0.0409662463,-0.0076828268,-0.0401129685,-0.0008107746,-0.0028152154,-0.0184095576,0.044796221,-0.0631162077,-0.0003246569,0.0527631491,-0.0622536093,-0.0243744906,-0.0470208935,0.0160981789,0.0057021799,-0.0386677794,0.0439955257,0.0231159013,0.0519586727,0.0331369527,-0.0359110311,0.0060880203,-0.0135495486,-0.0155554805,-0.029776372,0.0525035523,-0.0423489474,0.0597356148,0.0247033257,-0.0083824322,0.0387505554,-0.0847711489,-0.0218541995,0.0352236032,0.0326178595,-0.0066649322,0.042791158,0.0043927464,-0.0057159117,0.0158392303,-0.0485952906,-0.0399560854,-0.0327611938,-0.0201002751,-0.0388622358,0.0042914138,-0.0288674813,0.0206405893,-0.0151854055,-0.0122424588,-0.0048421249,0.0500959456,-0.0334729962,0.0727553144,-0.0466674939,0.0141400341,0.0281861667,0.0350345187,0.0049276794,0.034173131,0.0076133958,0.0050890036,-0.0146815311,-0.0265100058,-0.0414119288,-0.047443077,0.0043636044,0.0099849524,0.0066609769,0.042765744,0.1373886317,0.0231761392,0.0713797286,0.0293416027,0.0235766545,-0.0153809059,-0.0618190914,-0.0094376979,0.0085130874,0.0160728227,-0.0455736928,-0.0380172022,-0.0294748116]}\n"
     ]
    }
   ],
   "source": [
    "# save id and embedding as a json file\n",
    "jsonl_string = df[[\"id\", \"embedding\"]].to_json(orient=\"records\", lines=True)\n",
    "with open(\"questions.json\", \"w\") as f:\n",
    "    f.write(jsonl_string)\n",
    "\n",
    "# show the first few lines of the json file\n",
    "! head -n 3 questions.json"
   ]
  },
  {
   "cell_type": "markdown",
   "metadata": {
    "id": "-WTNJ3FAQl_W"
   },
   "source": [
    "Then, create a new Cloud Storage bucket and copy the file to it."
   ]
  },
  {
   "cell_type": "code",
   "execution_count": 13,
   "metadata": {
    "id": "CzwDWJfzAk3n",
    "tags": []
   },
   "outputs": [
    {
     "name": "stdout",
     "output_type": "stream",
     "text": [
      "Creating gs://qwiklabs-gcp-02-63fb29ce323e-embvs-tutorial-10172353/...\n",
      "Copying file://questions.json [Content-Type=application/json]...\n",
      "/ [1 files][  9.8 MiB/  9.8 MiB]                                                \n",
      "Operation completed over 1 objects/9.8 MiB.                                      \n"
     ]
    }
   ],
   "source": [
    "BUCKET_URI = f\"gs://{PROJECT_ID}-embvs-tutorial-{UID}\"\n",
    "! gsutil mb -l $LOCATION -p {PROJECT_ID} {BUCKET_URI}\n",
    "! gsutil cp questions.json {BUCKET_URI}"
   ]
  },
  {
   "cell_type": "markdown",
   "metadata": {
    "id": "xxdbjKw1XDxl"
   },
   "source": [
    "### Create an Index\n",
    "\n",
    "Now it's ready to load the embeddings to Vector Search. Its APIs are available under the [aiplatform](https://cloud.google.com/python/docs/reference/aiplatform/latest/google.cloud.aiplatform) package of the SDK."
   ]
  },
  {
   "cell_type": "code",
   "execution_count": 14,
   "metadata": {
    "id": "8unyr9KagAoI",
    "tags": []
   },
   "outputs": [],
   "source": [
    "# init the aiplatform package\n",
    "from google.cloud import aiplatform\n",
    "\n",
    "aiplatform.init(project=PROJECT_ID, location=LOCATION)"
   ]
  },
  {
   "cell_type": "markdown",
   "metadata": {
    "id": "xpMUXqWQ75uu"
   },
   "source": [
    "Create an [MatchingEngineIndex](https://cloud.google.com/python/docs/reference/aiplatform/latest/google.cloud.aiplatform.MatchingEngineIndex) with its `create_tree_ah_index` function (Matching Engine is the previous name of Vector Search)."
   ]
  },
  {
   "cell_type": "code",
   "execution_count": 15,
   "metadata": {
    "id": "kKDw5VXMkXb3",
    "tags": []
   },
   "outputs": [
    {
     "name": "stdout",
     "output_type": "stream",
     "text": [
      "Creating MatchingEngineIndex\n",
      "Create MatchingEngineIndex backing LRO: projects/941235496384/locations/us-central1/indexes/1701072031518294016/operations/5449912623556460544\n",
      "MatchingEngineIndex created. Resource name: projects/941235496384/locations/us-central1/indexes/1701072031518294016\n",
      "To use this MatchingEngineIndex in another session:\n",
      "index = aiplatform.MatchingEngineIndex('projects/941235496384/locations/us-central1/indexes/1701072031518294016')\n"
     ]
    }
   ],
   "source": [
    "# create index\n",
    "my_index = aiplatform.MatchingEngineIndex.create_tree_ah_index(\n",
    "    display_name=f\"embvs-tutorial-index-{UID}\",\n",
    "    contents_delta_uri=BUCKET_URI,\n",
    "    dimensions=768,\n",
    "    approximate_neighbors_count=20,\n",
    "    distance_measure_type=\"DOT_PRODUCT_DISTANCE\",\n",
    ")"
   ]
  },
  {
   "cell_type": "markdown",
   "metadata": {
    "id": "2rFam_w9U0dI"
   },
   "source": [
    "By calling the `create_tree_ah_index` function, it starts building an Index. This will take under a few minutes if the dataset is small, otherwise about 50 minutes or more depending on the size of the dataset. You can check status of the index creation on [the Vector Search Console > INDEXES tab](https://console.cloud.google.com/vertex-ai/matching-engine/indexes).\n",
    "\n",
    "![](https://storage.googleapis.com/github-repo/img/embeddings/vs-quickstart/creating-index.png)\n",
    "\n",
    "#### The parameters for creating index\n",
    "\n",
    "- `contents_delta_uri`: The URI of Cloud Storage directory where you stored the embedding JSON files\n",
    "- `dimensions`: Dimension size of each embedding. In this case, it is 768 as we are using the embeddings from the Text Embeddings API.\n",
    "- `approximate_neighbors_count`: how many similar items we want to retrieve in typical cases\n",
    "- `distance_measure_type`: what metrics to measure distance/similarity between embeddings. In this case it's `DOT_PRODUCT_DISTANCE`\n",
    "\n",
    "See [the document](https://cloud.google.com/vertex-ai/docs/vector-search/create-manage-index) for more details on creating Index and the parameters.\n",
    "\n",
    "#### Batch Update or Streaming Update?\n",
    "There are two types of index: Index for *Batch Update* (used in this tutorial) and Index for *Streaming Updates*. The Batch Update index can be updated with a batch process whereas the Streaming Update index can be updated in real-time. The latter one is more suited for use cases where you want to add or update each embeddings in the index more often, and crucial to serve with the latest embeddings, such as e-commerce product search.\n"
   ]
  },
  {
   "cell_type": "markdown",
   "metadata": {
    "id": "VLOAMF50XMI8"
   },
   "source": [
    "### Create Index Endpoint and deploy the Index\n",
    "\n",
    "To use the Index, you need to create an [Index Endpoint](https://cloud.google.com/vertex-ai/docs/vector-search/deploy-index-public). It works as a server instance accepting query requests for your Index."
   ]
  },
  {
   "cell_type": "code",
   "execution_count": 16,
   "metadata": {
    "id": "h6IzyufWCjU1",
    "tags": []
   },
   "outputs": [
    {
     "name": "stdout",
     "output_type": "stream",
     "text": [
      "Creating MatchingEngineIndexEndpoint\n",
      "Create MatchingEngineIndexEndpoint backing LRO: projects/941235496384/locations/us-central1/indexEndpoints/7054796457299148800/operations/4305153893274222592\n",
      "MatchingEngineIndexEndpoint created. Resource name: projects/941235496384/locations/us-central1/indexEndpoints/7054796457299148800\n",
      "To use this MatchingEngineIndexEndpoint in another session:\n",
      "index_endpoint = aiplatform.MatchingEngineIndexEndpoint('projects/941235496384/locations/us-central1/indexEndpoints/7054796457299148800')\n"
     ]
    }
   ],
   "source": [
    "# create IndexEndpoint\n",
    "my_index_endpoint = aiplatform.MatchingEngineIndexEndpoint.create(\n",
    "    display_name=f\"embvs-tutorial-index-endpoint-{UID}\",\n",
    "    public_endpoint_enabled=True,\n",
    ")"
   ]
  },
  {
   "cell_type": "markdown",
   "metadata": {
    "id": "11e3e1a3a9e9"
   },
   "source": [
    "This tutorial utilizes a [Public Endpoint](https://cloud.google.com/vertex-ai/docs/vector-search/setup/setup#choose-endpoint) and does not support [Virtual Private Cloud (VPC)](https://cloud.google.com/vpc/docs/private-services-access). Unless you have a specific requirement for VPC, we recommend using a Public Endpoint. Despite the term \"public\" in its name, it does not imply open access to the public internet. Rather, it functions like other endpoints in Vertex AI services, which are secured by default through IAM. Without explicit IAM permissions, as we have previously established, no one can access the endpoint."
   ]
  },
  {
   "cell_type": "markdown",
   "metadata": {
    "id": "8n33iO1T5hFO"
   },
   "source": [
    "With the Index Endpoint, deploy the Index by specifying an unique deployed index ID."
   ]
  },
  {
   "cell_type": "code",
   "execution_count": 17,
   "metadata": {
    "id": "FcBHLifGwAWq",
    "tags": []
   },
   "outputs": [],
   "source": [
    "DEPLOYED_INDEX_ID = f\"embvs_tutorial_deployed_{UID}\""
   ]
  },
  {
   "cell_type": "code",
   "execution_count": 18,
   "metadata": {
    "id": "1jUoGhY5TPFP",
    "tags": []
   },
   "outputs": [
    {
     "name": "stdout",
     "output_type": "stream",
     "text": [
      "Deploying index MatchingEngineIndexEndpoint index_endpoint: projects/941235496384/locations/us-central1/indexEndpoints/7054796457299148800\n",
      "Deploy index MatchingEngineIndexEndpoint index_endpoint backing LRO: projects/941235496384/locations/us-central1/indexEndpoints/7054796457299148800/operations/36585871457124352\n",
      "MatchingEngineIndexEndpoint index_endpoint Deployed index. Resource name: projects/941235496384/locations/us-central1/indexEndpoints/7054796457299148800\n"
     ]
    },
    {
     "data": {
      "text/plain": [
       "<google.cloud.aiplatform.matching_engine.matching_engine_index_endpoint.MatchingEngineIndexEndpoint object at 0x7f2ae6105150> \n",
       "resource name: projects/941235496384/locations/us-central1/indexEndpoints/7054796457299148800"
      ]
     },
     "execution_count": 18,
     "metadata": {},
     "output_type": "execute_result"
    }
   ],
   "source": [
    "# deploy the Index to the Index Endpoint\n",
    "my_index_endpoint.deploy_index(index=my_index, deployed_index_id=DEPLOYED_INDEX_ID)"
   ]
  },
  {
   "cell_type": "markdown",
   "metadata": {
    "id": "xu9ZmWcpXQ55"
   },
   "source": [
    "If it is the first time to deploy an Index to an Index Endpoint, it will take around 25 minutes to automatically build and initiate the backend for it. After the first deployment, it will finish in seconds. To see the status of the index deployment, open [the Vector Search Console > INDEX ENDPOINTS tab](https://console.cloud.google.com/vertex-ai/matching-engine/index-endpoints) and click the Index Endpoint.\n",
    "\n",
    "<img src=\"https://storage.googleapis.com/github-repo/img/embeddings/vs-quickstart/deploying-index.png\" width=\"70%\">"
   ]
  },
  {
   "cell_type": "markdown",
   "metadata": {
    "id": "oTi4PjjbXV-O"
   },
   "source": [
    "### Run Query\n",
    "\n",
    "Finally it's ready to use Vector Search. In the following code, it creates an embedding for a test question, and find similar question with the Vector Search."
   ]
  },
  {
   "cell_type": "code",
   "execution_count": 19,
   "metadata": {
    "id": "FhNuRQqUWdfe",
    "tags": []
   },
   "outputs": [
    {
     "name": "stderr",
     "output_type": "stream",
     "text": [
      "100%|██████████| 1/1 [00:01<00:00,  1.12s/it]\n"
     ]
    }
   ],
   "source": [
    "test_embeddings = get_embeddings_wrapper([\"How to read JSON with Python?\"])"
   ]
  },
  {
   "cell_type": "code",
   "execution_count": 20,
   "metadata": {
    "id": "Q01DGMBPXAg-",
    "tags": []
   },
   "outputs": [
    {
     "name": "stdout",
     "output_type": "stream",
     "text": [
      "0.7397 Why am I getting a random string and not the expected output in Beautiful soup in Python?\n",
      "0.7251 How to download source distribution from pypi using pip?\n",
      "0.7027 Why is Selenium returning this error, and how do I fix it?\n",
      "0.6997 How to use python decorators with recursive functions?\n",
      "0.6823 How to count unique values in a dictionary of lists with Pandas?\n",
      "0.6806 Parse JSON to Java object with dynamics objects in JSON-response\n",
      "0.6634 Distinguish between null and missing field when reading json into pyspark dataframe\n",
      "0.6626 How to resolve versionConflict error in Termsteel (PyJWT, flask-jwt-login and argon2-cffi)?\n",
      "0.6617 Trying to update local json file\n",
      "0.6600 PyScript ModuleNotFoundError: No module named '_lzma'\n",
      "0.6599 Why do I inconsistently get a ValueError or IndexError when splitting a string and using the results?\n",
      "0.6595 How to get basic info of near wallet from near api?\n",
      "0.6584 Pipenv installing a local package but getting \"ModuleNotFoundError: No module named\"\n",
      "0.6582 Python decorator within function, needs class within method?\n",
      "0.6570 How can I log a user in without password in django?\n",
      "0.6539 How to authenticate a cloud functions with the Api https://www.googleapis.com/drive/v3/changes/watch?\n",
      "0.6530 How do I resolve BulkwriteError when using MongoDb with djangorestframework-simplejwt?\n",
      "0.6502 Parsing a pre tag in html, how to append the indented text to the previous line in Python\n",
      "0.6494 Unpack specific dictionary values to list of tuples\n",
      "0.6492 Why data returning from Laravel 9 api endpoint not showing in Vue UI?\n"
     ]
    }
   ],
   "source": [
    "# Test query\n",
    "response = my_index_endpoint.find_neighbors(\n",
    "    deployed_index_id=DEPLOYED_INDEX_ID,\n",
    "    queries=test_embeddings,\n",
    "    num_neighbors=20,\n",
    ")\n",
    "\n",
    "# show the result\n",
    "import numpy as np\n",
    "\n",
    "for idx, neighbor in enumerate(response[0]):\n",
    "    id = np.int64(neighbor.id)\n",
    "    similar = df.query(\"id == @id\", engine=\"python\")\n",
    "    print(f\"{neighbor.distance:.4f} {similar.title.values[0]}\")"
   ]
  },
  {
   "cell_type": "markdown",
   "metadata": {
    "id": "tPDOL9caoYZ9"
   },
   "source": [
    "The `find_neighbors` function only takes milliseconds to fetch the similar items even when you have billions of items on the Index, thanks to the ScaNN algorithm. Vector Search also supports [autoscaling](https://cloud.google.com/vertex-ai/docs/vector-search/deploy-index-public#autoscaling) which can automatically resize the number of nodes based on the demands of your workloads."
   ]
  },
  {
   "cell_type": "markdown",
   "metadata": {
    "id": "DDt4D6FDyc66"
   },
   "source": [
    "# IMPORTANT: Cleaning Up\n",
    "\n",
    "In case you are using your own Cloud project, not a temporary project on Qwiklab, please make sure to delete all the Indexes, Index Endpoints and Cloud Storage buckets after finishing this tutorial. Otherwise the remaining objects would **incur unexpected costs**.\n",
    "\n",
    "If you used Workbench, you may also need to delete the Notebooks from [the console](https://console.cloud.google.com/vertex-ai/workbench)."
   ]
  },
  {
   "cell_type": "code",
   "execution_count": null,
   "metadata": {
    "id": "MEsKVzguyxNx",
    "tags": []
   },
   "outputs": [],
   "source": [
    "# wait for a confirmation\n",
    "input(\"Press Enter to delete Index Endpoint, Index and Cloud Storage bucket:\")\n",
    "\n",
    "# delete Index Endpoint\n",
    "my_index_endpoint.undeploy_all()\n",
    "my_index_endpoint.delete(force=True)\n",
    "\n",
    "# delete Index\n",
    "my_index.delete()\n",
    "\n",
    "# delete Cloud Storage bucket\n",
    "! gsutil rm -r {BUCKET_URI}"
   ]
  },
  {
   "cell_type": "markdown",
   "metadata": {
    "id": "b8k26QOF3Ys7"
   },
   "source": [
    "# Summary\n",
    "\n",
    "## Grounding LLM outputs with Vertex AI Vector Search\n",
    "\n",
    "As we have seen, by combining the Embeddings API and Vector Search, you can use the embeddings to \"ground\" LLM outputs to real business data with low latency.\n",
    "\n",
    "For example, if an user asks a question, Embeddings API can convert it to an embedding, and issue a query on Vector Search to find similar embeddings in its index. Those embeddings represent the actual business data in the databases. As we are just retrieving the business data and not generating any artificial texts, there is no risk of having hallucinations in the result.\n",
    "\n",
    "![](https://storage.googleapis.com/gweb-cloudblog-publish/original_images/10._grounding.png)\n",
    "\n",
    "### The difference between the questions and answers\n",
    "\n",
    "In this tutorial, we have used the Stack Overflow dataset. There is a reason why we had to use it; As the dataset has many pairs of **questions and answers**, so you can just find questions similar to your question to find answers to it.\n",
    "\n",
    "In many business use cases, the semantics (meaning) of questions and answers are different. Also, there could be cases where you would want to add variety of recommended or personalized items to the results, like product search on e-commerce sites.\n",
    "\n",
    "In these cases, the simple semantics search don't work well. It's more like a recommendation system problem where you may want to train a model (e.g. Two-Tower model) to learn the relationship between the question embedding space and answer embedding space. Also, many production systems adds reranking phase after the semantic search to achieve higher search quality. Please see [Scaling deep retrieval with TensorFlow Recommenders and Vertex AI Matching Engine](https://cloud.google.com/blog/products/ai-machine-learning/scaling-deep-retrieval-tensorflow-two-towers-architecture) to learn more.\n",
    "\n",
    "### Hybrid of semantic + keyword search\n",
    "\n",
    "Another typical challenge you will face in production system is to support keyword search combined with the semantic search. For example, for e-commerce product search, you may want to let users find product by entering its product name or model number. As LLM doesn't memorize those product names or model numbers, semantic search can't handle those \"usual\" search functionalities.\n",
    "\n",
    "[Vertex AI Search](https://cloud.google.com/blog/products/ai-machine-learning/vertex-ai-search-and-conversation-is-now-generally-available) is another product you may consider for those requirements. While Vector Search provides a simple semantic search capability only, Search provides a integrated search solution that combines semantic search, keyword search, reranking and filtering, available as an out-of-the-box tool.\n",
    "\n",
    "### What about Retrieval Augmented Generation (RAG)?\n",
    "\n",
    "In this tutorial, we have looked at the simple combination of LLM embeddings and vector search. From this starting point, you may also extend the design to [Retrieval Augmented Generation (RAG)](https://www.google.com/search?q=Retrieval+Augmented+Generation+(RAG)&oq=Retrieval+Augmented+Generation+(RAG)).\n",
    "\n",
    "RAG is a popular architecture pattern of implementing grounding with LLM with text chat UI. The idea is to have the LLM text chat UI as a frontend for the document retrieval with vector search and summarization of the result.\n",
    "\n",
    "![](https://storage.googleapis.com/gweb-cloudblog-publish/images/Figure-7-Ask_Your_Documents_Flow.max-529x434.png)\n",
    "\n",
    "There are some pros and cons between the two solutions.\n",
    "\n",
    "| | Embeddings + vector search | RAG |\n",
    "|---|---|---|\n",
    "| Design | simple | complex |\n",
    "| UI | Text search UI | Text chat UI |\n",
    "| Summarization of result | No | Yes |\n",
    "| Multi-turn (Context aware) | No | Yes |\n",
    "| Latency | millisecs | seconds |\n",
    "| Cost | lower | higher |\n",
    "| Hallucinations | No risk | Some risk |\n",
    "\n",
    "The Embedding + vector search pattern we have looked at with this tutorial provides simple, fast and low cost semantic search functionality with the LLM intelligence. RAG adds context-aware text chat experience and result summarization to it. While RAG provides the more \"Gen AI-ish\" experience, it also adds a risk of hallucination and higher cost and time for the text generation.\n",
    "\n",
    "To learn more about how to build a RAG solution, you may look at [Building Generative AI applications made easy with Vertex AI PaLM API and LangChain](https://cloud.google.com/blog/products/ai-machine-learning/generative-ai-applications-with-vertex-ai-palm-2-models-and-langchain).\n",
    "\n",
    "## Resources\n",
    "\n",
    "To learn more, please check out the following resources:\n",
    "\n",
    "### Documentations\n",
    "\n",
    "[Vertex AI Embeddings for Text API documentation\n",
    "](https://cloud.google.com/vertex-ai/docs/generative-ai/embeddings/get-text-embeddings)\n",
    "\n",
    "[Vector Search documentation](https://cloud.google.com/vertex-ai/docs/matching-engine/overview)\n",
    "\n",
    "### Vector Search blog posts\n",
    "\n",
    "[Vertex Matching Engine: Blazing fast and massively scalable nearest neighbor search](https://cloud.google.com/blog/products/ai-machine-learning/vertex-matching-engine-blazing-fast-and-massively-scalable-nearest-neighbor-search)\n",
    "\n",
    "[Find anything blazingly fast with Google's vector search technology](https://cloud.google.com/blog/topics/developers-practitioners/find-anything-blazingly-fast-googles-vector-search-technology)\n",
    "\n",
    "[Enabling real-time AI with Streaming Ingestion in Vertex AI](https://cloud.google.com/blog/products/ai-machine-learning/real-time-ai-with-google-cloud-vertex-ai)\n",
    "\n",
    "[Mercari leverages Google's vector search technology to create a new marketplace](https://cloud.google.com/blog/topics/developers-practitioners/mercari-leverages-googles-vector-search-technology-create-new-marketplace)\n",
    "\n",
    "[Recommending news articles using Vertex AI Matching Engine](https://cloud.google.com/blog/products/ai-machine-learning/recommending-articles-using-vertex-ai-matching-engine)\n",
    "\n",
    "[What is Multimodal Search: \"LLMs with vision\" change businesses](https://cloud.google.com/blog/products/ai-machine-learning/multimodal-generative-ai-search)"
   ]
  },
  {
   "cell_type": "markdown",
   "metadata": {
    "id": "BE1tELsH-u8N"
   },
   "source": [
    "# Utilities\n",
    "\n",
    "Sometimes it takes tens of minutes to create or deploy Indexes and you would lose connection with the Colab runtime. In that case, instead of creating or deploying new Index again, you can check [the Vector Search Console](https://console.cloud.google.com/vertex-ai/matching-engine/index-endpoints) and get the existing ones to continue."
   ]
  },
  {
   "cell_type": "markdown",
   "metadata": {
    "id": "wF_pkdpJ-yaq"
   },
   "source": [
    "## Get an existing Index\n",
    "\n",
    "To get an Index object that already exists, replace the following `[your-index-id]` with the index ID and run the cell. You can check the ID on [the Vector Search Console > INDEXES tab](https://console.cloud.google.com/vertex-ai/matching-engine/indexes)."
   ]
  },
  {
   "cell_type": "code",
   "execution_count": null,
   "metadata": {
    "id": "mEBkZZt_-0jG",
    "tags": []
   },
   "outputs": [],
   "source": [
    "my_index_id = \"[your-index-id]\"  # @param {type:\"string\"}\n",
    "my_index = aiplatform.MatchingEngineIndex(my_index_id)"
   ]
  },
  {
   "cell_type": "markdown",
   "metadata": {
    "id": "_vlgzkyw-3CI"
   },
   "source": [
    "## Get an existing Index Endpoint\n",
    "\n",
    "To get an Index Endpoint object that already exists, replace the following `[your-index-endpoint-id]` with the Index Endpoint ID and run the cell. You can check the ID on [the Vector Search Console > INDEX ENDPOINTS tab](https://console.cloud.google.com/vertex-ai/matching-engine/index-endpoints)."
   ]
  },
  {
   "cell_type": "code",
   "execution_count": null,
   "metadata": {
    "id": "E0OFnirF-6Rk"
   },
   "outputs": [],
   "source": [
    "my_index_endpoint_id = \"[your-index-endpoint-id]\"  # @param {type:\"string\"}\n",
    "my_index_endpoint = aiplatform.MatchingEngineIndexEndpoint(my_index_endpoint_id)"
   ]
  }
 ],
 "metadata": {
  "colab": {
   "name": "intro-textemb-vectorsearch.ipynb",
   "toc_visible": true
  },
  "environment": {
   "kernel": "conda-base-py",
   "name": "workbench-notebooks.m125",
   "type": "gcloud",
   "uri": "us-docker.pkg.dev/deeplearning-platform-release/gcr.io/workbench-notebooks:m125"
  },
  "kernelspec": {
   "display_name": "Python 3 (ipykernel) (Local)",
   "language": "python",
   "name": "conda-base-py"
  },
  "language_info": {
   "codemirror_mode": {
    "name": "ipython",
    "version": 3
   },
   "file_extension": ".py",
   "mimetype": "text/x-python",
   "name": "python",
   "nbconvert_exporter": "python",
   "pygments_lexer": "ipython3",
   "version": "3.10.15"
  }
 },
 "nbformat": 4,
 "nbformat_minor": 4
}
