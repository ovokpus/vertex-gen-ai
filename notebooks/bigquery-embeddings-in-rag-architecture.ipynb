{
 "cells": [
  {
   "cell_type": "code",
   "execution_count": 1,
   "id": "0tT0IGRpeturMzrvaR6P93n2",
   "metadata": {
    "colab": {
     "base_uri": "https://localhost:8080/",
     "height": 933
    },
    "executionInfo": {
     "elapsed": 11399,
     "status": "ok",
     "timestamp": 1728704684502,
     "user": {
      "displayName": "",
      "userId": ""
     },
     "user_tz": 360
    },
    "id": "0tT0IGRpeturMzrvaR6P93n2",
    "outputId": "cc86a14a-a467-4e7e-d2d5-b76e0259456c",
    "tags": []
   },
   "outputs": [
    {
     "name": "stdout",
     "output_type": "stream",
     "text": [
      "Requirement already satisfied: google-cloud-aiplatform in /usr/local/lib/python3.10/dist-packages (1.67.1)\n",
      "Collecting google-cloud-aiplatform\n",
      "  Downloading google_cloud_aiplatform-1.70.0-py2.py3-none-any.whl.metadata (32 kB)\n",
      "Requirement already satisfied: google-cloud-bigquery in /usr/local/lib/python3.10/dist-packages (3.25.0)\n",
      "Collecting google-cloud-bigquery\n",
      "  Downloading google_cloud_bigquery-3.26.0-py2.py3-none-any.whl.metadata (8.7 kB)\n",
      "Requirement already satisfied: google-api-core!=2.0.*,!=2.1.*,!=2.2.*,!=2.3.*,!=2.4.*,!=2.5.*,!=2.6.*,!=2.7.*,<3.0.0dev,>=1.34.1 in /usr/local/lib/python3.10/dist-packages (from google-api-core[grpc]!=2.0.*,!=2.1.*,!=2.2.*,!=2.3.*,!=2.4.*,!=2.5.*,!=2.6.*,!=2.7.*,<3.0.0dev,>=1.34.1->google-cloud-aiplatform) (2.19.2)\n",
      "Requirement already satisfied: google-auth<3.0.0dev,>=2.14.1 in /usr/local/lib/python3.10/dist-packages (from google-cloud-aiplatform) (2.27.0)\n",
      "Requirement already satisfied: proto-plus<2.0.0dev,>=1.22.3 in /usr/local/lib/python3.10/dist-packages (from google-cloud-aiplatform) (1.24.0)\n",
      "Requirement already satisfied: protobuf!=4.21.0,!=4.21.1,!=4.21.2,!=4.21.3,!=4.21.4,!=4.21.5,<6.0.0dev,>=3.20.2 in /usr/local/lib/python3.10/dist-packages (from google-cloud-aiplatform) (3.20.3)\n",
      "Requirement already satisfied: packaging>=14.3 in /usr/local/lib/python3.10/dist-packages (from google-cloud-aiplatform) (24.1)\n",
      "Requirement already satisfied: google-cloud-storage<3.0.0dev,>=1.32.0 in /usr/local/lib/python3.10/dist-packages (from google-cloud-aiplatform) (2.8.0)\n",
      "Requirement already satisfied: google-cloud-resource-manager<3.0.0dev,>=1.3.3 in /usr/local/lib/python3.10/dist-packages (from google-cloud-aiplatform) (1.12.5)\n",
      "Requirement already satisfied: shapely<3.0.0dev in /usr/local/lib/python3.10/dist-packages (from google-cloud-aiplatform) (2.0.6)\n",
      "Requirement already satisfied: pydantic<3 in /usr/local/lib/python3.10/dist-packages (from google-cloud-aiplatform) (2.9.2)\n",
      "Requirement already satisfied: docstring-parser<1 in /usr/local/lib/python3.10/dist-packages (from google-cloud-aiplatform) (0.16)\n",
      "Requirement already satisfied: google-cloud-core<3.0.0dev,>=2.4.1 in /usr/local/lib/python3.10/dist-packages (from google-cloud-bigquery) (2.4.1)\n",
      "Requirement already satisfied: google-resumable-media<3.0dev,>=2.0.0 in /usr/local/lib/python3.10/dist-packages (from google-cloud-bigquery) (2.7.2)\n",
      "Requirement already satisfied: python-dateutil<3.0dev,>=2.7.3 in /usr/local/lib/python3.10/dist-packages (from google-cloud-bigquery) (2.8.2)\n",
      "Requirement already satisfied: requests<3.0.0dev,>=2.21.0 in /usr/local/lib/python3.10/dist-packages (from google-cloud-bigquery) (2.32.3)\n",
      "Requirement already satisfied: googleapis-common-protos<2.0.dev0,>=1.56.2 in /usr/local/lib/python3.10/dist-packages (from google-api-core!=2.0.*,!=2.1.*,!=2.2.*,!=2.3.*,!=2.4.*,!=2.5.*,!=2.6.*,!=2.7.*,<3.0.0dev,>=1.34.1->google-api-core[grpc]!=2.0.*,!=2.1.*,!=2.2.*,!=2.3.*,!=2.4.*,!=2.5.*,!=2.6.*,!=2.7.*,<3.0.0dev,>=1.34.1->google-cloud-aiplatform) (1.65.0)\n",
      "Requirement already satisfied: grpcio<2.0dev,>=1.33.2 in /usr/local/lib/python3.10/dist-packages (from google-api-core[grpc]!=2.0.*,!=2.1.*,!=2.2.*,!=2.3.*,!=2.4.*,!=2.5.*,!=2.6.*,!=2.7.*,<3.0.0dev,>=1.34.1->google-cloud-aiplatform) (1.64.1)\n",
      "Requirement already satisfied: grpcio-status<2.0.dev0,>=1.33.2 in /usr/local/lib/python3.10/dist-packages (from google-api-core[grpc]!=2.0.*,!=2.1.*,!=2.2.*,!=2.3.*,!=2.4.*,!=2.5.*,!=2.6.*,!=2.7.*,<3.0.0dev,>=1.34.1->google-cloud-aiplatform) (1.48.2)\n",
      "Requirement already satisfied: cachetools<6.0,>=2.0.0 in /usr/local/lib/python3.10/dist-packages (from google-auth<3.0.0dev,>=2.14.1->google-cloud-aiplatform) (5.5.0)\n",
      "Requirement already satisfied: pyasn1-modules>=0.2.1 in /usr/local/lib/python3.10/dist-packages (from google-auth<3.0.0dev,>=2.14.1->google-cloud-aiplatform) (0.4.1)\n",
      "Requirement already satisfied: rsa<5,>=3.1.4 in /usr/local/lib/python3.10/dist-packages (from google-auth<3.0.0dev,>=2.14.1->google-cloud-aiplatform) (4.9)\n",
      "Requirement already satisfied: grpc-google-iam-v1<1.0.0dev,>=0.12.4 in /usr/local/lib/python3.10/dist-packages (from google-cloud-resource-manager<3.0.0dev,>=1.3.3->google-cloud-aiplatform) (0.13.1)\n",
      "Requirement already satisfied: google-crc32c<2.0dev,>=1.0 in /usr/local/lib/python3.10/dist-packages (from google-resumable-media<3.0dev,>=2.0.0->google-cloud-bigquery) (1.6.0)\n",
      "Requirement already satisfied: annotated-types>=0.6.0 in /usr/local/lib/python3.10/dist-packages (from pydantic<3->google-cloud-aiplatform) (0.7.0)\n",
      "Requirement already satisfied: pydantic-core==2.23.4 in /usr/local/lib/python3.10/dist-packages (from pydantic<3->google-cloud-aiplatform) (2.23.4)\n",
      "Requirement already satisfied: typing-extensions>=4.6.1 in /usr/local/lib/python3.10/dist-packages (from pydantic<3->google-cloud-aiplatform) (4.12.2)\n",
      "Requirement already satisfied: six>=1.5 in /usr/local/lib/python3.10/dist-packages (from python-dateutil<3.0dev,>=2.7.3->google-cloud-bigquery) (1.16.0)\n",
      "Requirement already satisfied: charset-normalizer<4,>=2 in /usr/local/lib/python3.10/dist-packages (from requests<3.0.0dev,>=2.21.0->google-cloud-bigquery) (3.3.2)\n",
      "Requirement already satisfied: idna<4,>=2.5 in /usr/local/lib/python3.10/dist-packages (from requests<3.0.0dev,>=2.21.0->google-cloud-bigquery) (3.10)\n",
      "Requirement already satisfied: urllib3<3,>=1.21.1 in /usr/local/lib/python3.10/dist-packages (from requests<3.0.0dev,>=2.21.0->google-cloud-bigquery) (2.2.3)\n",
      "Requirement already satisfied: certifi>=2017.4.17 in /usr/local/lib/python3.10/dist-packages (from requests<3.0.0dev,>=2.21.0->google-cloud-bigquery) (2024.8.30)\n",
      "Requirement already satisfied: numpy<3,>=1.14 in /usr/local/lib/python3.10/dist-packages (from shapely<3.0.0dev->google-cloud-aiplatform) (1.26.4)\n",
      "Requirement already satisfied: pyasn1<0.7.0,>=0.4.6 in /usr/local/lib/python3.10/dist-packages (from pyasn1-modules>=0.2.1->google-auth<3.0.0dev,>=2.14.1->google-cloud-aiplatform) (0.6.1)\n",
      "Downloading google_cloud_aiplatform-1.70.0-py2.py3-none-any.whl (5.3 MB)\n",
      "\u001b[2K   \u001b[90m━━━━━━━━━━━━━━━━━━━━━━━━━━━━━━━━━━━━━━━━\u001b[0m \u001b[32m5.3/5.3 MB\u001b[0m \u001b[31m50.4 MB/s\u001b[0m eta \u001b[36m0:00:00\u001b[0m\n",
      "\u001b[?25hDownloading google_cloud_bigquery-3.26.0-py2.py3-none-any.whl (239 kB)\n",
      "\u001b[2K   \u001b[90m━━━━━━━━━━━━━━━━━━━━━━━━━━━━━━━━━━━━━━━━\u001b[0m \u001b[32m239.1/239.1 kB\u001b[0m \u001b[31m20.9 MB/s\u001b[0m eta \u001b[36m0:00:00\u001b[0m\n",
      "\u001b[?25hInstalling collected packages: google-cloud-bigquery, google-cloud-aiplatform\n",
      "\u001b[33m  WARNING: The script tb-gcp-uploader is installed in '/root/.local/bin' which is not on PATH.\n",
      "  Consider adding this directory to PATH or, if you prefer to suppress this warning, use --no-warn-script-location.\u001b[0m\u001b[33m\n",
      "\u001b[0mSuccessfully installed google-cloud-aiplatform-1.70.0 google-cloud-bigquery-3.26.0\n"
     ]
    },
    {
     "data": {
      "application/vnd.colab-display-data+json": {
       "id": "bf921a6a350f4a6888a32e627d9071dc",
       "pip_warning": {
        "packages": [
         "google"
        ]
       }
      }
     },
     "metadata": {},
     "output_type": "display_data"
    }
   ],
   "source": [
    "!pip install --upgrade --user google-cloud-aiplatform google-cloud-bigquery"
   ]
  },
  {
   "cell_type": "code",
   "execution_count": 1,
   "id": "Ewda7Neq2F5Y",
   "metadata": {
    "colab": {
     "base_uri": "https://localhost:8080/"
    },
    "executionInfo": {
     "elapsed": 1651,
     "status": "ok",
     "timestamp": 1728704971058,
     "user": {
      "displayName": "",
      "userId": ""
     },
     "user_tz": 360
    },
    "id": "Ewda7Neq2F5Y",
    "outputId": "2db6de31-82dd-4be0-85a4-cc8cfae7c138"
   },
   "outputs": [
    {
     "name": "stdout",
     "output_type": "stream",
     "text": [
      "qwiklabs-gcp-01-173eaa26d171\n"
     ]
    }
   ],
   "source": [
    "# Get project ID\n",
    "PROJECT_ID = ! gcloud config get-value project\n",
    "PROJECT_ID = PROJECT_ID[0]\n",
    "LOCATION = \"us-west1\" # @param {type:\"string\"}\n",
    "print(PROJECT_ID)"
   ]
  },
  {
   "cell_type": "code",
   "execution_count": 2,
   "id": "A9HYJcQB0qJR",
   "metadata": {
    "colab": {
     "base_uri": "https://localhost:8080/"
    },
    "executionInfo": {
     "elapsed": 3016,
     "status": "ok",
     "timestamp": 1728704982327,
     "user": {
      "displayName": "",
      "userId": ""
     },
     "user_tz": 360
    },
    "id": "A9HYJcQB0qJR",
    "outputId": "011b7ae3-427e-4792-bbd4-218922ca206f"
   },
   "outputs": [
    {
     "name": "stdout",
     "output_type": "stream",
     "text": [
      "Initialized\n"
     ]
    }
   ],
   "source": [
    "from google.cloud import aiplatform\n",
    "aiplatform.init(project=PROJECT_ID, location=LOCATION)\n",
    "\n",
    "print(\"Initialized\")"
   ]
  },
  {
   "cell_type": "code",
   "execution_count": 3,
   "id": "U5prdmQC2KCp",
   "metadata": {
    "executionInfo": {
     "elapsed": 109,
     "status": "ok",
     "timestamp": 1728704990122,
     "user": {
      "displayName": "",
      "userId": ""
     },
     "user_tz": 360
    },
    "id": "U5prdmQC2KCp"
   },
   "outputs": [],
   "source": [
    "import vertexai\n",
    "from vertexai.generative_models import GenerativeModel, Part\n",
    "\n",
    "def answer_question_gemini(prompt):\n",
    "  model = GenerativeModel(\"gemini-pro\")\n",
    "  response = model.generate_content(\n",
    "    prompt,\n",
    "    generation_config={\n",
    "        \"max_output_tokens\": 8192,\n",
    "        \"temperature\": 0.5,\n",
    "        \"top_p\": 0.5,\n",
    "        \"top_k\": 10,\n",
    "    },\n",
    "  stream=False,\n",
    "  )\n",
    "  try:\n",
    "    return response.text\n",
    "  except:\n",
    "    print(\"An Error Ocuured Cleaning the Data\")\n",
    "    return \"An Error Ocuured Cleaning the Data\""
   ]
  },
  {
   "cell_type": "code",
   "execution_count": 4,
   "id": "d8nqbrI82MoZ",
   "metadata": {
    "executionInfo": {
     "elapsed": 86,
     "status": "ok",
     "timestamp": 1728705002808,
     "user": {
      "displayName": "",
      "userId": ""
     },
     "user_tz": 360
    },
    "id": "d8nqbrI82MoZ"
   },
   "outputs": [],
   "source": [
    "def run_search(question):\n",
    "  from google.cloud import bigquery\n",
    "\n",
    "  client = bigquery.Client()\n",
    "\n",
    "  sql = \"\"\"\n",
    "      SELECT query.query, base.title, base.body\n",
    "      FROM VECTOR_SEARCH(\n",
    "      TABLE `bbc_news.bbc_news_with_embeddings_table`, 'text_embedding',\n",
    "      (\n",
    "      SELECT text_embedding, content AS query\n",
    "      FROM ML.GENERATE_TEXT_EMBEDDING(MODEL `bbc_news.bq_embedding_model`,\n",
    "          (SELECT @question AS content))),\n",
    "      top_k => 5)\n",
    "      \"\"\"\n",
    "\n",
    "  job_config = bigquery.QueryJobConfig(\n",
    "    query_parameters=[\n",
    "        bigquery.ScalarQueryParameter(\"question\", \"STRING\", question),\n",
    "    ]\n",
    "  )\n",
    "\n",
    "  query_job = client.query(sql, job_config=job_config)\n",
    "\n",
    "  data = \"\"\n",
    "  for row in query_job:\n",
    "    data += row.body + \"\\n\"\n",
    "\n",
    "  return data"
   ]
  },
  {
   "cell_type": "code",
   "execution_count": 5,
   "id": "ftzjsUDm2Pwp",
   "metadata": {
    "executionInfo": {
     "elapsed": 133,
     "status": "ok",
     "timestamp": 1728705013178,
     "user": {
      "displayName": "",
      "userId": ""
     },
     "user_tz": 360
    },
    "id": "ftzjsUDm2Pwp"
   },
   "outputs": [],
   "source": [
    "def build_prompt(data, question):\n",
    "  prompt = \"\"\"\n",
    "    Instructions: Answer the question using the following Context.\n",
    "\n",
    "    Context: {0}\n",
    "\n",
    "    Question: {1}\n",
    "  \"\"\".format(data, question)\n",
    "  return prompt"
   ]
  },
  {
   "cell_type": "code",
   "execution_count": 6,
   "id": "SPyMZcuF2SRx",
   "metadata": {
    "executionInfo": {
     "elapsed": 97,
     "status": "ok",
     "timestamp": 1728705026189,
     "user": {
      "displayName": "",
      "userId": ""
     },
     "user_tz": 360
    },
    "id": "SPyMZcuF2SRx"
   },
   "outputs": [],
   "source": [
    "from IPython.core.display import display, HTML\n",
    "\n",
    "def answer_question(question):\n",
    "\n",
    "  data = run_search(question)\n",
    "  display(\"Retrieved Data:\")\n",
    "  display(data)\n",
    "  display(\" . . . \")\n",
    "  prompt = build_prompt(data, question)\n",
    "  answer_gemini = answer_question_gemini(prompt)\n",
    "\n",
    "  return answer_gemini"
   ]
  },
  {
   "cell_type": "code",
   "execution_count": 7,
   "id": "R3p3p-4q2Vda",
   "metadata": {
    "colab": {
     "base_uri": "https://localhost:8080/",
     "height": 407
    },
    "executionInfo": {
     "elapsed": 7474,
     "status": "ok",
     "timestamp": 1728705048379,
     "user": {
      "displayName": "",
      "userId": ""
     },
     "user_tz": 360
    },
    "id": "R3p3p-4q2Vda",
    "outputId": "1ddb24b8-ac6b-4d6e-c1b9-1f2868000a3f"
   },
   "outputs": [
    {
     "data": {
      "application/vnd.google.colaboratory.intrinsic+json": {
       "type": "string"
      },
      "text/plain": [
       "'Retrieved Data:'"
      ]
     },
     "metadata": {},
     "output_type": "display_data"
    },
    {
     "data": {
      "application/vnd.google.colaboratory.intrinsic+json": {
       "type": "string"
      },
      "text/plain": [
       "'Most areas of the US saw their economy continue to expand in December and early January, the US Federal Reserve said in its latest Beige Book report.\\n\\nOf the 12 US regions it identifies for the study, 11 showed stronger economic growth, with only the Cleveland area falling behind with a \"mixed\" rating. Consumer spending was higher in December than November, and festive sales were also up on 2003. The employment picture also improved, the Fed said.\\n\\n\"Labour markets firmed in a number of districts, but wage pressures generally remained modest,\" the Beige Book said. \"Several districts reported higher prices for building materials and manufacturing inputs, but most reported steady or only slightly higher overall price levels.\" The report added that residential real estate activity remained strong and that commercial real estate activity strengthened in most districts. \"Office leasing was especially brisk in Washington DC, and New York City, two of the nation\\'s strongest commercial markets,\" the Fed said.\\n\\nUS economic growth accelerated in the third quarter, helped by strong consumer spending, official figures have shown.\\n\\nThe economy expanded at an annual rate of 3.7% in the July to September period, the Commerce Department said. The figure marked an increase on the 3.3% growth recorded in the second quarter, but fell short of the 4.2% rate pencilled in by forecasters. The increase reflected the biggest jump in consumer spending in a year. \"It was a little softer than the consensus, but not a real surprise,\" said Gary Thayer, an economist at AG Edwards & Sons. Friday\\'s growth estimate is one of the last significant pieces of economic data before the 2 November presidential election.\\n\\nDemocrat challenger John Kerry has criticised President George W Bush\\'s handling of the economy, pointing to a net loss of over 800,000 jobs since Mr Bush took office. Analysts said the economy was still not growing fast enough to stimulate large-scale job creation. \"It\\'s a pretty good growth rate, but it may not be good enough to create enough jobs,\" said Robert Brusca, chief economist at Fact and Opinion Economics in New York. However, President Bush is expected to point to Commerce Department figures showing that consumer spending grew at 4.6% in the third quarter, up from just 1.6% in the second, as evidence that his policies are generating solid growth. Consumer spending accounts for about two thirds of all economic activity in the US.\\n\\nThe weaker than expected growth figure makes it less likely that the US Federal Reserve will raise interest rates next month, economists said. \"The economy regained some traction in the third quarter, but the growth is not robust,\" AG Edwards\\' Thayer. \"I think that means the Fed can take its time raising rates. We\\'ll probably see one more rate hike before the end of the year.\" In an effort to pre-empt rising inflation, the Federal Reserve has pushed through three quarter-point rate rises since June this year, taking borrowing costs to 1.75%. On the financial markets, the dollar fell slightly against the euro and the yen, while the Dow Jones index of leading US shares was little changed.\\n\\nThe US created fewer jobs than expected in December, but analysts said that the dip in hiring was not enough to derail the world\\'s biggest economy.\\n\\nAccording to Labor Department figures, 157,000 new jobs were added last month. That took 2004\\'s total to 2.2 million, the best showing in five years. Job creation was one of last year\\'s main concerns for the US economy. While worries still remain, the conditions are set for steady growth in 2005, analysts said. The unemployment rate stayed at 5.4% in December, and about 200,000 jobs will need to be created each month if that figure is to drop.\\n\\n\"It was a respectable report,\" said Michael Moran, analyst at Daiwa Securities.\\n\\n\"Payroll growth in December was a little lighter than the consensus forecast, but we had upward revisions to the prior two months and an increase in manufacturing employment.\" \"Manufacturing is a cyclical area of the economy and if it\\'s showing job growth, it\\'s a good indication that the economy is on a solid growth track.\" That means that the Federal Reserve is likely to continue its policy of raising interest rates. The Fed lifted borrowing costs five times last year to 2.25%, citing evidence the US economic recovery was becoming more robust.\\n\\nJob creation was one of last year\\'s main concerns for the US economy, and proved to be a main topic of debate in the US presidential election. While demand for workers is far from booming, the conditions are set for steady growth. \"Overall, compared to the previous year it looks great, it just keeps going stronger and stronger and I expect that to be the case\" in 2005, said Kurt Karl, economist at Swiss Re in New York. Meanwhile, economists cautioned against reading too much into data from the Federal Reserve showing an unexpected $8.7bn drop in consumer debt in November. A fall in consumer spending, which makes up about two-thirds of all US economic activity, could help limit the extent of any future interest rate rises. But economists said there could be a number of reasons for a fall in the borrowing, which include credit cards and personal loans, while noting that such figures can vary on a month-to-month basis.\\n\\nThe gap between US exports and imports has widened to more than $60bn (£31.7bn), an all-time record.\\n\\nFigures from the Commerce Department for November showed exports down 2.3% to $95.6bn, while imports grew 1.3% to $155.8bn on rising consumer demand. Part of the expanding deficit came from high prices for oil imports. But the numbers suggested the sliding dollar - which makes exports less expensive - has had little impact, and could indicate slowing economic growth.\\n\\nThe trade deficit - far bigger than the $54bn widely expected on Wall Street - prompted a rapid response from the currency markets.\\n\\nBy 1650 GMT, the dollar was trading against the euro at $1.3280, almost a cent and a half weaker than before the announcement. Against the pound, the dollar was down about 0.7% at $1,8923. \"The dollar\\'s fall has been sudden, violent and appropriate given this number,\" said Brian Taylor of Wells Fargo in Minneapolis. \"Recent exchange rate movements certainly haven\\'t had any impact yet.\" Treasury Secretary John Snow put a brave face on the news, saying it was a sign of strong economic expansion. \"The economy is growing at such a fast rate that it is generating lots of disposable income... some of which is used to buy goods from our trading partners.\"\\n\\nAlthough the White House officially still backs the US\\'s traditional \"strong dollar\" policy, it has tacitly indicated that it would be happy if the slide continued. The dollar has fallen by 50% against the euro - as well as by 30% against the yen - in the past three years. The main catalyst, most economists accept, is the large budget deficit on the one hand, and the current account deficit - the difference between the flow of money in and out of the US - on the other. The trade deficit is a large part of the latter. In November, the fall in exports was largely due to a decline in sales of industrial supplies and materials such as chemicals, as well as of cars, consumer goods and food. One small bright spot for US policy-makers was a slight decline in the deficit with China, often blamed for job losses and other economic woes. Although China\\'s overall trade surplus is expanding, according to Chinese government figures, the Commerce Department revealed the US\\'s deficit with China was $19.6bn in November, down from $19.7bn the month before. But the deficit with Japan was at its worst in more than four years.\\n\\nThe US economy added 337,000 jobs in October - a seven-month high and far more than Wall Street expectations.\\n\\nIn a welcome economic boost for newly re-elected President George W Bush, the Labor Department figures come after a slow summer of weak jobs gains. Jobs were created in every sector of the US economy except manufacturing. While the separate unemployment rate went up to 5.5% from 5.4% in September, this was because more people were now actively seeking work.\\n\\nThe 337,000 new jobs added to US payrolls in October was twice the 169,000 figure that Wall Street economists had forecast. In addition, the Labor Department revised up the number of jobs created in the two previous months - to 139,000 in September instead of 96,000, and to 198,000 in August instead of 128,000. The better than expected jobs data had an immediate upward effect on stocks in New York, with the main Dow Jones index gaining 45.4 points to 10,360 by late morning trading. \"It looks like the job situation is improving and that this will support consumer spending going into the holidays, and offset some of the drag caused by high oil prices this year,\" said economist Gary Thayer of AG Edwards & Sons.\\n\\nOther analysts said the upbeat jobs data made it more likely that the US Federal Reserve would increase interest rates by a quarter of a percentage point to 2% when it meets next week. \"It should empower the Fed to clearly do something,\" said Robert MacIntosh, chief economist with Eaton Vance Management in Boston. Kathleen Utgoff, commissioner of the Bureau of Labor, said many of the 71,000 new construction jobs added in October were involved in rebuilding and clean-up work in Florida, and neighbouring Deep South states, following four hurricanes in August and September. The dollar rose temporarily on the job creation news before falling back to a new record low against the euro, as investors returned their attention to other economic factors, such as the US\\'s record trade deficit. There is also speculation that President Bush will deliberately try to keep the dollar low in order to assist a growth in exports.\\n\\n'"
      ]
     },
     "metadata": {},
     "output_type": "display_data"
    },
    {
     "data": {
      "application/vnd.google.colaboratory.intrinsic+json": {
       "type": "string"
      },
      "text/plain": [
       "' . . . '"
      ]
     },
     "metadata": {},
     "output_type": "display_data"
    },
    {
     "data": {
      "application/vnd.google.colaboratory.intrinsic+json": {
       "type": "string"
      },
      "text/plain": [
       "'User Question:'"
      ]
     },
     "metadata": {},
     "output_type": "display_data"
    },
    {
     "data": {
      "application/vnd.google.colaboratory.intrinsic+json": {
       "type": "string"
      },
      "text/plain": [
       "'Tell me about the US Economy'"
      ]
     },
     "metadata": {},
     "output_type": "display_data"
    },
    {
     "data": {
      "application/vnd.google.colaboratory.intrinsic+json": {
       "type": "string"
      },
      "text/plain": [
       "'--------------------------------'"
      ]
     },
     "metadata": {},
     "output_type": "display_data"
    },
    {
     "data": {
      "application/vnd.google.colaboratory.intrinsic+json": {
       "type": "string"
      },
      "text/plain": [
       "'Gemini Answer:'"
      ]
     },
     "metadata": {},
     "output_type": "display_data"
    },
    {
     "data": {
      "application/vnd.google.colaboratory.intrinsic+json": {
       "type": "string"
      },
      "text/plain": [
       "\"## The US Economy in 2004: A Summary\\n\\nBased on the provided context, here's a summary of the US economy in 2004:\\n\\n**Overall:**\\n\\n* **Expansion:** The US economy continued to expand throughout 2004, with most regions experiencing stronger growth. \\n* **Consumer Spending:** Consumer spending was a key driver of growth, particularly during the holiday season.\\n* **Employment:** The employment picture improved, with job creation exceeding expectations for the year. However, wage pressures remained modest.\\n* **Real Estate:** Both residential and commercial real estate activity remained strong.\\n* **Trade Deficit:** The trade deficit widened to a record high, raising concerns about the impact on the dollar.\\n\\n**Key Developments:**\\n\\n* **Strong third-quarter growth:** The economy grew at an annual rate of 3.7% in the third quarter, helped by strong consumer spending.\\n* **Job creation:** The US created 2.2 million jobs in 2004, the best showing in five years.\\n* **Interest rate hikes:** The Federal Reserve raised interest rates five times in 2004 to combat inflation.\\n* **Record trade deficit:** The trade deficit reached an all-time high of $60 billion in November.\\n* **Dollar depreciation:** The dollar continued to depreciate against the euro and other major currencies.\\n\\n**Challenges:**\\n\\n* **Job growth:** While job creation improved, the unemployment rate remained above 5%.\\n* **Trade deficit:** The widening trade deficit raised concerns about the sustainability of economic growth.\\n* **Inflation:** The Federal Reserve was concerned about rising inflation and continued to raise interest rates.\\n\\n**Overall, the US economy experienced solid growth in 2004. However, challenges remained, including the need for further job creation and the need to address the growing trade deficit.** \\n\""
      ]
     },
     "metadata": {},
     "output_type": "display_data"
    }
   ],
   "source": [
    "QUESTION = \"Tell me about the US Economy\"\n",
    "\n",
    "answer_gemini = answer_question(QUESTION)\n",
    "display(\"User Question:\")\n",
    "display(QUESTION)\n",
    "display(\"--------------------------------\")\n",
    "display(\"Gemini Answer:\")\n",
    "display(answer_gemini)"
   ]
  },
  {
   "cell_type": "code",
   "execution_count": null,
   "id": "N10EweNj2ZFH",
   "metadata": {
    "id": "N10EweNj2ZFH"
   },
   "outputs": [],
   "source": []
  }
 ],
 "metadata": {
  "colab": {
   "name": "student-00-f8801c91c3eb (Oct 11, 2024, 9:42:56 PM)",
   "provenance": []
  },
  "kernelspec": {
   "display_name": "Python 3 (ipykernel)",
   "language": "python",
   "name": "python3"
  },
  "language_info": {
   "codemirror_mode": {
    "name": "ipython",
    "version": 3
   },
   "file_extension": ".py",
   "mimetype": "text/x-python",
   "name": "python",
   "nbconvert_exporter": "python",
   "pygments_lexer": "ipython3",
   "version": "3.9.6"
  }
 },
 "nbformat": 4,
 "nbformat_minor": 5
}
